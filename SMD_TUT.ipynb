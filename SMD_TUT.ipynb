{
  "nbformat": 4,
  "nbformat_minor": 0,
  "metadata": {
    "colab": {
      "provenance": []
    },
    "kernelspec": {
      "name": "python3",
      "display_name": "Python 3"
    },
    "language_info": {
      "name": "python"
    }
  },
  "cells": [
    {
      "cell_type": "markdown",
      "source": [
        "1. In this exercise, we will create synthetic datasets for regression and classification\n",
        "problems. Use make_regression and make_classification functions from the\n",
        "sklearn.datasets library to create two datasets (for regression and classification)\n",
        "with 5 explanatory variables.\n"
      ],
      "metadata": {
        "id": "2uwsqsZOYZxG"
      }
    },
    {
      "cell_type": "code",
      "source": [
        "from sklearn.datasets import make_regression\n",
        "\n",
        "X, y = make_regression(n_samples=10, n_features=5,n_informative=3,n_targets=1,noise=1,random_state=7) #n_infomative - how many features are used to predict y\n",
        "#target - dimension of y / noise = 1 coz reg / random_state - seed\n",
        "X"
      ],
      "metadata": {
        "colab": {
          "base_uri": "https://localhost:8080/"
        },
        "id": "72M7IPhpY3Sf",
        "outputId": "0254bae3-6c29-417a-b725-5fc663b1e278"
      },
      "execution_count": null,
      "outputs": [
        {
          "output_type": "execute_result",
          "data": {
            "text/plain": [
              "array([[-6.62159340e-01,  1.46197563e+00,  1.76616088e+00,\n",
              "        -1.20421985e+00, -3.29413752e-01],\n",
              "       [ 1.69052570e+00,  3.28201637e-02,  4.07516283e-01,\n",
              "        -4.65937371e-01, -7.88923029e-01],\n",
              "       [ 8.40733242e-01,  5.68061887e-01, -7.52837196e-01,\n",
              "        -1.79986401e-01, -1.70833920e+00],\n",
              "       [-1.80309866e+00,  2.24759505e+00,  2.69411631e-01,\n",
              "         3.83121852e-01, -5.24604619e-01],\n",
              "       [-6.25428974e-01,  5.05299374e-01, -2.61356415e-01,\n",
              "        -1.71548261e-01, -2.42749079e-01],\n",
              "       [ 2.06557291e-03, -1.75472431e+00,  1.01765801e+00,\n",
              "        -8.90385858e-04,  6.00498516e-01],\n",
              "       [-1.45324141e+00,  1.23880905e-01,  2.74459924e-01,\n",
              "         5.54580312e-01, -1.52652453e+00],\n",
              "       [ 1.65069969e+00, -3.87139943e-01,  2.02907222e+00,\n",
              "         1.54335535e-01, -4.53860299e-02],\n",
              "       [-1.45067870e+00, -2.28831510e+00,  1.04939655e+00,\n",
              "        -4.05227855e-01, -4.16474319e-01],\n",
              "       [-7.42553525e-01, -1.65107559e+00,  5.35429356e-01,\n",
              "         1.07247013e+00, -2.06441480e+00]])"
            ]
          },
          "metadata": {},
          "execution_count": 8
        }
      ]
    },
    {
      "cell_type": "code",
      "source": [
        "y"
      ],
      "metadata": {
        "colab": {
          "base_uri": "https://localhost:8080/"
        },
        "id": "X1bOiWOAas-6",
        "outputId": "a51c2dd9-f252-44ff-ed26-178afe907886"
      },
      "execution_count": null,
      "outputs": [
        {
          "output_type": "execute_result",
          "data": {
            "text/plain": [
              "array([  20.37027067,   58.99539865,   87.50143519,  146.62160317,\n",
              "          4.34992723, -167.47051737,  -27.42142276,   61.53365039,\n",
              "       -323.01666017, -122.42540964])"
            ]
          },
          "metadata": {},
          "execution_count": 9
        }
      ]
    },
    {
      "cell_type": "code",
      "source": [
        "from sklearn.datasets import make_classification\n",
        "Xc, yc = make_classification(n_samples=10,n_features=5,n_informative=3,n_classes=2,random_state=7) #product of n_casses and n_clusters_per_class shouldnt exceed n_informative\n",
        "Xc.shape\n"
      ],
      "metadata": {
        "colab": {
          "base_uri": "https://localhost:8080/"
        },
        "id": "KkNSgxJ1ZQA6",
        "outputId": "126eebd5-8af9-4139-bcb3-70f60b1331b7"
      },
      "execution_count": null,
      "outputs": [
        {
          "output_type": "execute_result",
          "data": {
            "text/plain": [
              "(10, 5)"
            ]
          },
          "metadata": {},
          "execution_count": 10
        }
      ]
    },
    {
      "cell_type": "code",
      "source": [
        "yc.shape\n",
        "\n",
        "list(Xc[:5])"
      ],
      "metadata": {
        "colab": {
          "base_uri": "https://localhost:8080/"
        },
        "id": "_F51j8NHZktC",
        "outputId": "78dcd2bd-5356-4ffc-abc7-4febf8cd2840"
      },
      "execution_count": null,
      "outputs": [
        {
          "output_type": "execute_result",
          "data": {
            "text/plain": [
              "[array([-0.42156578, -1.26838007,  1.21217058,  1.00662406,  1.05669352]),\n",
              " array([-0.21540363, -0.37520863,  0.52164504,  0.49979165,  0.84861777]),\n",
              " array([ 0.12570232,  0.08516889, -0.10294754, -0.65249615, -1.29584345]),\n",
              " array([ 0.78691452, -2.38249259, -1.75476681,  1.23369347, -2.30056146]),\n",
              " array([ 0.69402177,  3.77655517, -2.2955349 , -2.4774827 , -1.11814334])]"
            ]
          },
          "metadata": {},
          "execution_count": 11
        }
      ]
    },
    {
      "cell_type": "code",
      "source": [
        "yc"
      ],
      "metadata": {
        "colab": {
          "base_uri": "https://localhost:8080/"
        },
        "id": "1c4kkeuJbXPB",
        "outputId": "a316a086-762a-4553-eb9e-786cc5722c51"
      },
      "execution_count": null,
      "outputs": [
        {
          "output_type": "execute_result",
          "data": {
            "text/plain": [
              "array([1, 1, 0, 0, 1, 1, 1, 0, 0, 0])"
            ]
          },
          "metadata": {},
          "execution_count": 12
        }
      ]
    },
    {
      "cell_type": "markdown",
      "source": [
        "2. Consider a regression problem from the Lab1 regression data folder. The data\n",
        "was partitioned to training, validation, and test sets.\n",
        "\n",
        "(a) Load and explore the data using the pandas library.\n",
        "\n",
        "(b) In this exercise, we will use the k nearest neighbor regression (KNNR). Find\n",
        "the appropriate function in the sklearn library.\n",
        "\n",
        "(c) Train the KNNR learner with the training portion of the data, and determine\n",
        "the error using the validation set for k = 1, . . . , 50.\n",
        "\n",
        "(d) Plot the validation error as a function of the number of neighbors k, and\n",
        "determine the best k. Use the matplotlib library.\n",
        "\n",
        "(e) Deliver the generalization error using the final test data-set. What is your\n",
        "conclusion?\n"
      ],
      "metadata": {
        "id": "cMElJQDbZrhb"
      }
    },
    {
      "cell_type": "code",
      "source": [
        "import pandas as pd"
      ],
      "metadata": {
        "id": "lWaE_NvnZtoS"
      },
      "execution_count": null,
      "outputs": []
    },
    {
      "cell_type": "code",
      "source": [
        "X_train = pd.read_csv(\"Xtrain.csv\")\n",
        "Y_train = pd.read_csv(\"Ytrain.csv\")\n",
        "X_test = pd.read_csv(\"Xtest.csv\")\n",
        "Y_test = pd.read_csv(\"Ytest.csv\")\n",
        "X_validate = pd.read_csv(\"Xvalidate.csv\")\n",
        "Y_validate = pd.read_csv(\"Yvalidate.csv\")"
      ],
      "metadata": {
        "id": "NxLTY4mlbtKD"
      },
      "execution_count": null,
      "outputs": []
    },
    {
      "cell_type": "code",
      "source": [
        "Y_train.head()"
      ],
      "metadata": {
        "colab": {
          "base_uri": "https://localhost:8080/",
          "height": 206
        },
        "id": "UbgZR1KzdmuX",
        "outputId": "78d09797-58ec-4048-e951-79e83015e702"
      },
      "execution_count": null,
      "outputs": [
        {
          "output_type": "execute_result",
          "data": {
            "text/plain": [
              "      target\n",
              "0  10.193730\n",
              "1  16.088345\n",
              "2  17.024581\n",
              "3  12.866014\n",
              "4  11.100591"
            ],
            "text/html": [
              "\n",
              "  <div id=\"df-b77d9d0e-477a-4931-9f48-50f9f7ab74c0\" class=\"colab-df-container\">\n",
              "    <div>\n",
              "<style scoped>\n",
              "    .dataframe tbody tr th:only-of-type {\n",
              "        vertical-align: middle;\n",
              "    }\n",
              "\n",
              "    .dataframe tbody tr th {\n",
              "        vertical-align: top;\n",
              "    }\n",
              "\n",
              "    .dataframe thead th {\n",
              "        text-align: right;\n",
              "    }\n",
              "</style>\n",
              "<table border=\"1\" class=\"dataframe\">\n",
              "  <thead>\n",
              "    <tr style=\"text-align: right;\">\n",
              "      <th></th>\n",
              "      <th>target</th>\n",
              "    </tr>\n",
              "  </thead>\n",
              "  <tbody>\n",
              "    <tr>\n",
              "      <th>0</th>\n",
              "      <td>10.193730</td>\n",
              "    </tr>\n",
              "    <tr>\n",
              "      <th>1</th>\n",
              "      <td>16.088345</td>\n",
              "    </tr>\n",
              "    <tr>\n",
              "      <th>2</th>\n",
              "      <td>17.024581</td>\n",
              "    </tr>\n",
              "    <tr>\n",
              "      <th>3</th>\n",
              "      <td>12.866014</td>\n",
              "    </tr>\n",
              "    <tr>\n",
              "      <th>4</th>\n",
              "      <td>11.100591</td>\n",
              "    </tr>\n",
              "  </tbody>\n",
              "</table>\n",
              "</div>\n",
              "    <div class=\"colab-df-buttons\">\n",
              "\n",
              "  <div class=\"colab-df-container\">\n",
              "    <button class=\"colab-df-convert\" onclick=\"convertToInteractive('df-b77d9d0e-477a-4931-9f48-50f9f7ab74c0')\"\n",
              "            title=\"Convert this dataframe to an interactive table.\"\n",
              "            style=\"display:none;\">\n",
              "\n",
              "  <svg xmlns=\"http://www.w3.org/2000/svg\" height=\"24px\" viewBox=\"0 -960 960 960\">\n",
              "    <path d=\"M120-120v-720h720v720H120Zm60-500h600v-160H180v160Zm220 220h160v-160H400v160Zm0 220h160v-160H400v160ZM180-400h160v-160H180v160Zm440 0h160v-160H620v160ZM180-180h160v-160H180v160Zm440 0h160v-160H620v160Z\"/>\n",
              "  </svg>\n",
              "    </button>\n",
              "\n",
              "  <style>\n",
              "    .colab-df-container {\n",
              "      display:flex;\n",
              "      gap: 12px;\n",
              "    }\n",
              "\n",
              "    .colab-df-convert {\n",
              "      background-color: #E8F0FE;\n",
              "      border: none;\n",
              "      border-radius: 50%;\n",
              "      cursor: pointer;\n",
              "      display: none;\n",
              "      fill: #1967D2;\n",
              "      height: 32px;\n",
              "      padding: 0 0 0 0;\n",
              "      width: 32px;\n",
              "    }\n",
              "\n",
              "    .colab-df-convert:hover {\n",
              "      background-color: #E2EBFA;\n",
              "      box-shadow: 0px 1px 2px rgba(60, 64, 67, 0.3), 0px 1px 3px 1px rgba(60, 64, 67, 0.15);\n",
              "      fill: #174EA6;\n",
              "    }\n",
              "\n",
              "    .colab-df-buttons div {\n",
              "      margin-bottom: 4px;\n",
              "    }\n",
              "\n",
              "    [theme=dark] .colab-df-convert {\n",
              "      background-color: #3B4455;\n",
              "      fill: #D2E3FC;\n",
              "    }\n",
              "\n",
              "    [theme=dark] .colab-df-convert:hover {\n",
              "      background-color: #434B5C;\n",
              "      box-shadow: 0px 1px 3px 1px rgba(0, 0, 0, 0.15);\n",
              "      filter: drop-shadow(0px 1px 2px rgba(0, 0, 0, 0.3));\n",
              "      fill: #FFFFFF;\n",
              "    }\n",
              "  </style>\n",
              "\n",
              "    <script>\n",
              "      const buttonEl =\n",
              "        document.querySelector('#df-b77d9d0e-477a-4931-9f48-50f9f7ab74c0 button.colab-df-convert');\n",
              "      buttonEl.style.display =\n",
              "        google.colab.kernel.accessAllowed ? 'block' : 'none';\n",
              "\n",
              "      async function convertToInteractive(key) {\n",
              "        const element = document.querySelector('#df-b77d9d0e-477a-4931-9f48-50f9f7ab74c0');\n",
              "        const dataTable =\n",
              "          await google.colab.kernel.invokeFunction('convertToInteractive',\n",
              "                                                    [key], {});\n",
              "        if (!dataTable) return;\n",
              "\n",
              "        const docLinkHtml = 'Like what you see? Visit the ' +\n",
              "          '<a target=\"_blank\" href=https://colab.research.google.com/notebooks/data_table.ipynb>data table notebook</a>'\n",
              "          + ' to learn more about interactive tables.';\n",
              "        element.innerHTML = '';\n",
              "        dataTable['output_type'] = 'display_data';\n",
              "        await google.colab.output.renderOutput(dataTable, element);\n",
              "        const docLink = document.createElement('div');\n",
              "        docLink.innerHTML = docLinkHtml;\n",
              "        element.appendChild(docLink);\n",
              "      }\n",
              "    </script>\n",
              "  </div>\n",
              "\n",
              "\n",
              "<div id=\"df-6b0795c2-d93a-4a65-85d9-cf78a1888747\">\n",
              "  <button class=\"colab-df-quickchart\" onclick=\"quickchart('df-6b0795c2-d93a-4a65-85d9-cf78a1888747')\"\n",
              "            title=\"Suggest charts\"\n",
              "            style=\"display:none;\">\n",
              "\n",
              "<svg xmlns=\"http://www.w3.org/2000/svg\" height=\"24px\"viewBox=\"0 0 24 24\"\n",
              "     width=\"24px\">\n",
              "    <g>\n",
              "        <path d=\"M19 3H5c-1.1 0-2 .9-2 2v14c0 1.1.9 2 2 2h14c1.1 0 2-.9 2-2V5c0-1.1-.9-2-2-2zM9 17H7v-7h2v7zm4 0h-2V7h2v10zm4 0h-2v-4h2v4z\"/>\n",
              "    </g>\n",
              "</svg>\n",
              "  </button>\n",
              "\n",
              "<style>\n",
              "  .colab-df-quickchart {\n",
              "      --bg-color: #E8F0FE;\n",
              "      --fill-color: #1967D2;\n",
              "      --hover-bg-color: #E2EBFA;\n",
              "      --hover-fill-color: #174EA6;\n",
              "      --disabled-fill-color: #AAA;\n",
              "      --disabled-bg-color: #DDD;\n",
              "  }\n",
              "\n",
              "  [theme=dark] .colab-df-quickchart {\n",
              "      --bg-color: #3B4455;\n",
              "      --fill-color: #D2E3FC;\n",
              "      --hover-bg-color: #434B5C;\n",
              "      --hover-fill-color: #FFFFFF;\n",
              "      --disabled-bg-color: #3B4455;\n",
              "      --disabled-fill-color: #666;\n",
              "  }\n",
              "\n",
              "  .colab-df-quickchart {\n",
              "    background-color: var(--bg-color);\n",
              "    border: none;\n",
              "    border-radius: 50%;\n",
              "    cursor: pointer;\n",
              "    display: none;\n",
              "    fill: var(--fill-color);\n",
              "    height: 32px;\n",
              "    padding: 0;\n",
              "    width: 32px;\n",
              "  }\n",
              "\n",
              "  .colab-df-quickchart:hover {\n",
              "    background-color: var(--hover-bg-color);\n",
              "    box-shadow: 0 1px 2px rgba(60, 64, 67, 0.3), 0 1px 3px 1px rgba(60, 64, 67, 0.15);\n",
              "    fill: var(--button-hover-fill-color);\n",
              "  }\n",
              "\n",
              "  .colab-df-quickchart-complete:disabled,\n",
              "  .colab-df-quickchart-complete:disabled:hover {\n",
              "    background-color: var(--disabled-bg-color);\n",
              "    fill: var(--disabled-fill-color);\n",
              "    box-shadow: none;\n",
              "  }\n",
              "\n",
              "  .colab-df-spinner {\n",
              "    border: 2px solid var(--fill-color);\n",
              "    border-color: transparent;\n",
              "    border-bottom-color: var(--fill-color);\n",
              "    animation:\n",
              "      spin 1s steps(1) infinite;\n",
              "  }\n",
              "\n",
              "  @keyframes spin {\n",
              "    0% {\n",
              "      border-color: transparent;\n",
              "      border-bottom-color: var(--fill-color);\n",
              "      border-left-color: var(--fill-color);\n",
              "    }\n",
              "    20% {\n",
              "      border-color: transparent;\n",
              "      border-left-color: var(--fill-color);\n",
              "      border-top-color: var(--fill-color);\n",
              "    }\n",
              "    30% {\n",
              "      border-color: transparent;\n",
              "      border-left-color: var(--fill-color);\n",
              "      border-top-color: var(--fill-color);\n",
              "      border-right-color: var(--fill-color);\n",
              "    }\n",
              "    40% {\n",
              "      border-color: transparent;\n",
              "      border-right-color: var(--fill-color);\n",
              "      border-top-color: var(--fill-color);\n",
              "    }\n",
              "    60% {\n",
              "      border-color: transparent;\n",
              "      border-right-color: var(--fill-color);\n",
              "    }\n",
              "    80% {\n",
              "      border-color: transparent;\n",
              "      border-right-color: var(--fill-color);\n",
              "      border-bottom-color: var(--fill-color);\n",
              "    }\n",
              "    90% {\n",
              "      border-color: transparent;\n",
              "      border-bottom-color: var(--fill-color);\n",
              "    }\n",
              "  }\n",
              "</style>\n",
              "\n",
              "  <script>\n",
              "    async function quickchart(key) {\n",
              "      const quickchartButtonEl =\n",
              "        document.querySelector('#' + key + ' button');\n",
              "      quickchartButtonEl.disabled = true;  // To prevent multiple clicks.\n",
              "      quickchartButtonEl.classList.add('colab-df-spinner');\n",
              "      try {\n",
              "        const charts = await google.colab.kernel.invokeFunction(\n",
              "            'suggestCharts', [key], {});\n",
              "      } catch (error) {\n",
              "        console.error('Error during call to suggestCharts:', error);\n",
              "      }\n",
              "      quickchartButtonEl.classList.remove('colab-df-spinner');\n",
              "      quickchartButtonEl.classList.add('colab-df-quickchart-complete');\n",
              "    }\n",
              "    (() => {\n",
              "      let quickchartButtonEl =\n",
              "        document.querySelector('#df-6b0795c2-d93a-4a65-85d9-cf78a1888747 button');\n",
              "      quickchartButtonEl.style.display =\n",
              "        google.colab.kernel.accessAllowed ? 'block' : 'none';\n",
              "    })();\n",
              "  </script>\n",
              "</div>\n",
              "\n",
              "    </div>\n",
              "  </div>\n"
            ],
            "application/vnd.google.colaboratory.intrinsic+json": {
              "type": "dataframe",
              "variable_name": "Y_train",
              "summary": "{\n  \"name\": \"Y_train\",\n  \"rows\": 5000,\n  \"fields\": [\n    {\n      \"column\": \"target\",\n      \"properties\": {\n        \"dtype\": \"number\",\n        \"std\": 4.888315529638004,\n        \"min\": 1.2346118054595223,\n        \"max\": 29.155173735022544,\n        \"num_unique_values\": 5000,\n        \"samples\": [\n          11.57138402900721,\n          5.731697071495981,\n          16.47579110277507\n        ],\n        \"semantic_type\": \"\",\n        \"description\": \"\"\n      }\n    }\n  ]\n}"
            }
          },
          "metadata": {},
          "execution_count": 33
        }
      ]
    },
    {
      "cell_type": "code",
      "source": [
        "X_train.head()\n"
      ],
      "metadata": {
        "colab": {
          "base_uri": "https://localhost:8080/",
          "height": 206
        },
        "id": "xRF_3UlWcD-P",
        "outputId": "75e8b56d-0970-404a-b8f7-80d92722e98a"
      },
      "execution_count": null,
      "outputs": [
        {
          "output_type": "execute_result",
          "data": {
            "text/plain": [
              "         C1        C2        C3        C4        C5        C6        C7  \\\n",
              "0  0.598847  0.068720  0.850520  0.129061  0.987938  0.519146  0.590466   \n",
              "1  0.269575  0.855786  0.245670  0.670866  0.163443  0.394264  0.698024   \n",
              "2  0.575525  0.512823  0.122050  0.284202  0.906866  0.898123  0.941726   \n",
              "3  0.595675  0.458843  0.835164  0.087669  0.446254  0.777224  0.738279   \n",
              "4  0.124595  0.330605  0.075970  0.225641  0.859023  0.263112  0.062746   \n",
              "\n",
              "         C8        C9       C10  \n",
              "0  0.482468  0.526443  0.895868  \n",
              "1  0.915731  0.395558  0.041913  \n",
              "2  0.365259  0.309677  0.294078  \n",
              "3  0.931311  0.977794  0.383331  \n",
              "4  0.842287  0.486208  0.017531  "
            ],
            "text/html": [
              "\n",
              "  <div id=\"df-6a0937d5-f14e-4f21-9280-c15ec6d42812\" class=\"colab-df-container\">\n",
              "    <div>\n",
              "<style scoped>\n",
              "    .dataframe tbody tr th:only-of-type {\n",
              "        vertical-align: middle;\n",
              "    }\n",
              "\n",
              "    .dataframe tbody tr th {\n",
              "        vertical-align: top;\n",
              "    }\n",
              "\n",
              "    .dataframe thead th {\n",
              "        text-align: right;\n",
              "    }\n",
              "</style>\n",
              "<table border=\"1\" class=\"dataframe\">\n",
              "  <thead>\n",
              "    <tr style=\"text-align: right;\">\n",
              "      <th></th>\n",
              "      <th>C1</th>\n",
              "      <th>C2</th>\n",
              "      <th>C3</th>\n",
              "      <th>C4</th>\n",
              "      <th>C5</th>\n",
              "      <th>C6</th>\n",
              "      <th>C7</th>\n",
              "      <th>C8</th>\n",
              "      <th>C9</th>\n",
              "      <th>C10</th>\n",
              "    </tr>\n",
              "  </thead>\n",
              "  <tbody>\n",
              "    <tr>\n",
              "      <th>0</th>\n",
              "      <td>0.598847</td>\n",
              "      <td>0.068720</td>\n",
              "      <td>0.850520</td>\n",
              "      <td>0.129061</td>\n",
              "      <td>0.987938</td>\n",
              "      <td>0.519146</td>\n",
              "      <td>0.590466</td>\n",
              "      <td>0.482468</td>\n",
              "      <td>0.526443</td>\n",
              "      <td>0.895868</td>\n",
              "    </tr>\n",
              "    <tr>\n",
              "      <th>1</th>\n",
              "      <td>0.269575</td>\n",
              "      <td>0.855786</td>\n",
              "      <td>0.245670</td>\n",
              "      <td>0.670866</td>\n",
              "      <td>0.163443</td>\n",
              "      <td>0.394264</td>\n",
              "      <td>0.698024</td>\n",
              "      <td>0.915731</td>\n",
              "      <td>0.395558</td>\n",
              "      <td>0.041913</td>\n",
              "    </tr>\n",
              "    <tr>\n",
              "      <th>2</th>\n",
              "      <td>0.575525</td>\n",
              "      <td>0.512823</td>\n",
              "      <td>0.122050</td>\n",
              "      <td>0.284202</td>\n",
              "      <td>0.906866</td>\n",
              "      <td>0.898123</td>\n",
              "      <td>0.941726</td>\n",
              "      <td>0.365259</td>\n",
              "      <td>0.309677</td>\n",
              "      <td>0.294078</td>\n",
              "    </tr>\n",
              "    <tr>\n",
              "      <th>3</th>\n",
              "      <td>0.595675</td>\n",
              "      <td>0.458843</td>\n",
              "      <td>0.835164</td>\n",
              "      <td>0.087669</td>\n",
              "      <td>0.446254</td>\n",
              "      <td>0.777224</td>\n",
              "      <td>0.738279</td>\n",
              "      <td>0.931311</td>\n",
              "      <td>0.977794</td>\n",
              "      <td>0.383331</td>\n",
              "    </tr>\n",
              "    <tr>\n",
              "      <th>4</th>\n",
              "      <td>0.124595</td>\n",
              "      <td>0.330605</td>\n",
              "      <td>0.075970</td>\n",
              "      <td>0.225641</td>\n",
              "      <td>0.859023</td>\n",
              "      <td>0.263112</td>\n",
              "      <td>0.062746</td>\n",
              "      <td>0.842287</td>\n",
              "      <td>0.486208</td>\n",
              "      <td>0.017531</td>\n",
              "    </tr>\n",
              "  </tbody>\n",
              "</table>\n",
              "</div>\n",
              "    <div class=\"colab-df-buttons\">\n",
              "\n",
              "  <div class=\"colab-df-container\">\n",
              "    <button class=\"colab-df-convert\" onclick=\"convertToInteractive('df-6a0937d5-f14e-4f21-9280-c15ec6d42812')\"\n",
              "            title=\"Convert this dataframe to an interactive table.\"\n",
              "            style=\"display:none;\">\n",
              "\n",
              "  <svg xmlns=\"http://www.w3.org/2000/svg\" height=\"24px\" viewBox=\"0 -960 960 960\">\n",
              "    <path d=\"M120-120v-720h720v720H120Zm60-500h600v-160H180v160Zm220 220h160v-160H400v160Zm0 220h160v-160H400v160ZM180-400h160v-160H180v160Zm440 0h160v-160H620v160ZM180-180h160v-160H180v160Zm440 0h160v-160H620v160Z\"/>\n",
              "  </svg>\n",
              "    </button>\n",
              "\n",
              "  <style>\n",
              "    .colab-df-container {\n",
              "      display:flex;\n",
              "      gap: 12px;\n",
              "    }\n",
              "\n",
              "    .colab-df-convert {\n",
              "      background-color: #E8F0FE;\n",
              "      border: none;\n",
              "      border-radius: 50%;\n",
              "      cursor: pointer;\n",
              "      display: none;\n",
              "      fill: #1967D2;\n",
              "      height: 32px;\n",
              "      padding: 0 0 0 0;\n",
              "      width: 32px;\n",
              "    }\n",
              "\n",
              "    .colab-df-convert:hover {\n",
              "      background-color: #E2EBFA;\n",
              "      box-shadow: 0px 1px 2px rgba(60, 64, 67, 0.3), 0px 1px 3px 1px rgba(60, 64, 67, 0.15);\n",
              "      fill: #174EA6;\n",
              "    }\n",
              "\n",
              "    .colab-df-buttons div {\n",
              "      margin-bottom: 4px;\n",
              "    }\n",
              "\n",
              "    [theme=dark] .colab-df-convert {\n",
              "      background-color: #3B4455;\n",
              "      fill: #D2E3FC;\n",
              "    }\n",
              "\n",
              "    [theme=dark] .colab-df-convert:hover {\n",
              "      background-color: #434B5C;\n",
              "      box-shadow: 0px 1px 3px 1px rgba(0, 0, 0, 0.15);\n",
              "      filter: drop-shadow(0px 1px 2px rgba(0, 0, 0, 0.3));\n",
              "      fill: #FFFFFF;\n",
              "    }\n",
              "  </style>\n",
              "\n",
              "    <script>\n",
              "      const buttonEl =\n",
              "        document.querySelector('#df-6a0937d5-f14e-4f21-9280-c15ec6d42812 button.colab-df-convert');\n",
              "      buttonEl.style.display =\n",
              "        google.colab.kernel.accessAllowed ? 'block' : 'none';\n",
              "\n",
              "      async function convertToInteractive(key) {\n",
              "        const element = document.querySelector('#df-6a0937d5-f14e-4f21-9280-c15ec6d42812');\n",
              "        const dataTable =\n",
              "          await google.colab.kernel.invokeFunction('convertToInteractive',\n",
              "                                                    [key], {});\n",
              "        if (!dataTable) return;\n",
              "\n",
              "        const docLinkHtml = 'Like what you see? Visit the ' +\n",
              "          '<a target=\"_blank\" href=https://colab.research.google.com/notebooks/data_table.ipynb>data table notebook</a>'\n",
              "          + ' to learn more about interactive tables.';\n",
              "        element.innerHTML = '';\n",
              "        dataTable['output_type'] = 'display_data';\n",
              "        await google.colab.output.renderOutput(dataTable, element);\n",
              "        const docLink = document.createElement('div');\n",
              "        docLink.innerHTML = docLinkHtml;\n",
              "        element.appendChild(docLink);\n",
              "      }\n",
              "    </script>\n",
              "  </div>\n",
              "\n",
              "\n",
              "<div id=\"df-17c65906-e0c2-4f63-8026-a7c9cf47cbf0\">\n",
              "  <button class=\"colab-df-quickchart\" onclick=\"quickchart('df-17c65906-e0c2-4f63-8026-a7c9cf47cbf0')\"\n",
              "            title=\"Suggest charts\"\n",
              "            style=\"display:none;\">\n",
              "\n",
              "<svg xmlns=\"http://www.w3.org/2000/svg\" height=\"24px\"viewBox=\"0 0 24 24\"\n",
              "     width=\"24px\">\n",
              "    <g>\n",
              "        <path d=\"M19 3H5c-1.1 0-2 .9-2 2v14c0 1.1.9 2 2 2h14c1.1 0 2-.9 2-2V5c0-1.1-.9-2-2-2zM9 17H7v-7h2v7zm4 0h-2V7h2v10zm4 0h-2v-4h2v4z\"/>\n",
              "    </g>\n",
              "</svg>\n",
              "  </button>\n",
              "\n",
              "<style>\n",
              "  .colab-df-quickchart {\n",
              "      --bg-color: #E8F0FE;\n",
              "      --fill-color: #1967D2;\n",
              "      --hover-bg-color: #E2EBFA;\n",
              "      --hover-fill-color: #174EA6;\n",
              "      --disabled-fill-color: #AAA;\n",
              "      --disabled-bg-color: #DDD;\n",
              "  }\n",
              "\n",
              "  [theme=dark] .colab-df-quickchart {\n",
              "      --bg-color: #3B4455;\n",
              "      --fill-color: #D2E3FC;\n",
              "      --hover-bg-color: #434B5C;\n",
              "      --hover-fill-color: #FFFFFF;\n",
              "      --disabled-bg-color: #3B4455;\n",
              "      --disabled-fill-color: #666;\n",
              "  }\n",
              "\n",
              "  .colab-df-quickchart {\n",
              "    background-color: var(--bg-color);\n",
              "    border: none;\n",
              "    border-radius: 50%;\n",
              "    cursor: pointer;\n",
              "    display: none;\n",
              "    fill: var(--fill-color);\n",
              "    height: 32px;\n",
              "    padding: 0;\n",
              "    width: 32px;\n",
              "  }\n",
              "\n",
              "  .colab-df-quickchart:hover {\n",
              "    background-color: var(--hover-bg-color);\n",
              "    box-shadow: 0 1px 2px rgba(60, 64, 67, 0.3), 0 1px 3px 1px rgba(60, 64, 67, 0.15);\n",
              "    fill: var(--button-hover-fill-color);\n",
              "  }\n",
              "\n",
              "  .colab-df-quickchart-complete:disabled,\n",
              "  .colab-df-quickchart-complete:disabled:hover {\n",
              "    background-color: var(--disabled-bg-color);\n",
              "    fill: var(--disabled-fill-color);\n",
              "    box-shadow: none;\n",
              "  }\n",
              "\n",
              "  .colab-df-spinner {\n",
              "    border: 2px solid var(--fill-color);\n",
              "    border-color: transparent;\n",
              "    border-bottom-color: var(--fill-color);\n",
              "    animation:\n",
              "      spin 1s steps(1) infinite;\n",
              "  }\n",
              "\n",
              "  @keyframes spin {\n",
              "    0% {\n",
              "      border-color: transparent;\n",
              "      border-bottom-color: var(--fill-color);\n",
              "      border-left-color: var(--fill-color);\n",
              "    }\n",
              "    20% {\n",
              "      border-color: transparent;\n",
              "      border-left-color: var(--fill-color);\n",
              "      border-top-color: var(--fill-color);\n",
              "    }\n",
              "    30% {\n",
              "      border-color: transparent;\n",
              "      border-left-color: var(--fill-color);\n",
              "      border-top-color: var(--fill-color);\n",
              "      border-right-color: var(--fill-color);\n",
              "    }\n",
              "    40% {\n",
              "      border-color: transparent;\n",
              "      border-right-color: var(--fill-color);\n",
              "      border-top-color: var(--fill-color);\n",
              "    }\n",
              "    60% {\n",
              "      border-color: transparent;\n",
              "      border-right-color: var(--fill-color);\n",
              "    }\n",
              "    80% {\n",
              "      border-color: transparent;\n",
              "      border-right-color: var(--fill-color);\n",
              "      border-bottom-color: var(--fill-color);\n",
              "    }\n",
              "    90% {\n",
              "      border-color: transparent;\n",
              "      border-bottom-color: var(--fill-color);\n",
              "    }\n",
              "  }\n",
              "</style>\n",
              "\n",
              "  <script>\n",
              "    async function quickchart(key) {\n",
              "      const quickchartButtonEl =\n",
              "        document.querySelector('#' + key + ' button');\n",
              "      quickchartButtonEl.disabled = true;  // To prevent multiple clicks.\n",
              "      quickchartButtonEl.classList.add('colab-df-spinner');\n",
              "      try {\n",
              "        const charts = await google.colab.kernel.invokeFunction(\n",
              "            'suggestCharts', [key], {});\n",
              "      } catch (error) {\n",
              "        console.error('Error during call to suggestCharts:', error);\n",
              "      }\n",
              "      quickchartButtonEl.classList.remove('colab-df-spinner');\n",
              "      quickchartButtonEl.classList.add('colab-df-quickchart-complete');\n",
              "    }\n",
              "    (() => {\n",
              "      let quickchartButtonEl =\n",
              "        document.querySelector('#df-17c65906-e0c2-4f63-8026-a7c9cf47cbf0 button');\n",
              "      quickchartButtonEl.style.display =\n",
              "        google.colab.kernel.accessAllowed ? 'block' : 'none';\n",
              "    })();\n",
              "  </script>\n",
              "</div>\n",
              "\n",
              "    </div>\n",
              "  </div>\n"
            ],
            "application/vnd.google.colaboratory.intrinsic+json": {
              "type": "dataframe",
              "variable_name": "X_train",
              "summary": "{\n  \"name\": \"X_train\",\n  \"rows\": 5000,\n  \"fields\": [\n    {\n      \"column\": \"C1\",\n      \"properties\": {\n        \"dtype\": \"number\",\n        \"std\": 0.28908367075269026,\n        \"min\": 5.894297470832033e-05,\n        \"max\": 0.9999719166051412,\n        \"num_unique_values\": 5000,\n        \"samples\": [\n          0.7114149501138056,\n          0.8130498919564788,\n          0.7877830192249442\n        ],\n        \"semantic_type\": \"\",\n        \"description\": \"\"\n      }\n    },\n    {\n      \"column\": \"C2\",\n      \"properties\": {\n        \"dtype\": \"number\",\n        \"std\": 0.2890616418331208,\n        \"min\": 0.0003983371485735,\n        \"max\": 0.9999942472751908,\n        \"num_unique_values\": 5000,\n        \"samples\": [\n          0.2216747147219278,\n          0.0386046793236291,\n          0.7189852410357839\n        ],\n        \"semantic_type\": \"\",\n        \"description\": \"\"\n      }\n    },\n    {\n      \"column\": \"C3\",\n      \"properties\": {\n        \"dtype\": \"number\",\n        \"std\": 0.2889672329519419,\n        \"min\": 0.0001276199175813,\n        \"max\": 0.9997405690465394,\n        \"num_unique_values\": 5000,\n        \"samples\": [\n          0.6751152160060215,\n          0.9121535716259912,\n          0.8782135024160024\n        ],\n        \"semantic_type\": \"\",\n        \"description\": \"\"\n      }\n    },\n    {\n      \"column\": \"C4\",\n      \"properties\": {\n        \"dtype\": \"number\",\n        \"std\": 0.28845482425319247,\n        \"min\": 7.452662954521294e-05,\n        \"max\": 0.999726271832554,\n        \"num_unique_values\": 5000,\n        \"samples\": [\n          0.5063075470872896,\n          0.0334404865198728,\n          0.2948862352769594\n        ],\n        \"semantic_type\": \"\",\n        \"description\": \"\"\n      }\n    },\n    {\n      \"column\": \"C5\",\n      \"properties\": {\n        \"dtype\": \"number\",\n        \"std\": 0.28681094434541526,\n        \"min\": 0.0002824783551409,\n        \"max\": 0.999742777909958,\n        \"num_unique_values\": 5000,\n        \"samples\": [\n          0.2911289159081131,\n          0.1845698465695067,\n          0.1119331545324984\n        ],\n        \"semantic_type\": \"\",\n        \"description\": \"\"\n      }\n    },\n    {\n      \"column\": \"C6\",\n      \"properties\": {\n        \"dtype\": \"number\",\n        \"std\": 0.286296614198484,\n        \"min\": 3.767431983681124e-05,\n        \"max\": 0.9996598011338006,\n        \"num_unique_values\": 5000,\n        \"samples\": [\n          0.7445594563287089,\n          0.3962924648643767,\n          0.0671449595753369\n        ],\n        \"semantic_type\": \"\",\n        \"description\": \"\"\n      }\n    },\n    {\n      \"column\": \"C7\",\n      \"properties\": {\n        \"dtype\": \"number\",\n        \"std\": 0.28747071644708777,\n        \"min\": 4.215757240633167e-06,\n        \"max\": 0.99983059652927,\n        \"num_unique_values\": 5000,\n        \"samples\": [\n          0.3615595126713715,\n          0.8093316836330138,\n          0.6308576880284605\n        ],\n        \"semantic_type\": \"\",\n        \"description\": \"\"\n      }\n    },\n    {\n      \"column\": \"C8\",\n      \"properties\": {\n        \"dtype\": \"number\",\n        \"std\": 0.2893719909024847,\n        \"min\": 6.883102653554296e-05,\n        \"max\": 0.9995807027167314,\n        \"num_unique_values\": 5000,\n        \"samples\": [\n          0.3853267063693681,\n          0.9430741665253396,\n          0.8378929588737277\n        ],\n        \"semantic_type\": \"\",\n        \"description\": \"\"\n      }\n    },\n    {\n      \"column\": \"C9\",\n      \"properties\": {\n        \"dtype\": \"number\",\n        \"std\": 0.2885783628607134,\n        \"min\": 0.0001128954497831,\n        \"max\": 0.9998864630321856,\n        \"num_unique_values\": 5000,\n        \"samples\": [\n          0.244564184665934,\n          0.0512268466622685,\n          0.725597698800479\n        ],\n        \"semantic_type\": \"\",\n        \"description\": \"\"\n      }\n    },\n    {\n      \"column\": \"C10\",\n      \"properties\": {\n        \"dtype\": \"number\",\n        \"std\": 0.291633434441813,\n        \"min\": 0.0001825690198601,\n        \"max\": 0.9996565500218918,\n        \"num_unique_values\": 5000,\n        \"samples\": [\n          0.4590402513085928,\n          0.5211727215889038,\n          0.3377226253838212\n        ],\n        \"semantic_type\": \"\",\n        \"description\": \"\"\n      }\n    }\n  ]\n}"
            }
          },
          "metadata": {},
          "execution_count": 26
        }
      ]
    },
    {
      "cell_type": "code",
      "source": [
        "X_train.shape"
      ],
      "metadata": {
        "colab": {
          "base_uri": "https://localhost:8080/"
        },
        "id": "6PVREBVOcJ03",
        "outputId": "5b04fcfa-33e1-4827-e17c-2f101ad4a9e5"
      },
      "execution_count": null,
      "outputs": [
        {
          "output_type": "execute_result",
          "data": {
            "text/plain": [
              "(5000, 10)"
            ]
          },
          "metadata": {},
          "execution_count": 27
        }
      ]
    },
    {
      "cell_type": "code",
      "source": [
        "X_train.columns"
      ],
      "metadata": {
        "colab": {
          "base_uri": "https://localhost:8080/"
        },
        "id": "NY2biD97dSxP",
        "outputId": "f4df2177-09eb-4c3e-d385-c8b85ed8cc21"
      },
      "execution_count": null,
      "outputs": [
        {
          "output_type": "execute_result",
          "data": {
            "text/plain": [
              "Index(['C1', 'C2', 'C3', 'C4', 'C5', 'C6', 'C7', 'C8', 'C9', 'C10'], dtype='object')"
            ]
          },
          "metadata": {},
          "execution_count": 30
        }
      ]
    },
    {
      "cell_type": "code",
      "source": [
        "X_train.info()"
      ],
      "metadata": {
        "colab": {
          "base_uri": "https://localhost:8080/"
        },
        "id": "0D9DZb4BciWn",
        "outputId": "80f71e1f-4626-45cd-e0c4-70e12088496b"
      },
      "execution_count": null,
      "outputs": [
        {
          "output_type": "stream",
          "name": "stdout",
          "text": [
            "<class 'pandas.core.frame.DataFrame'>\n",
            "RangeIndex: 5000 entries, 0 to 4999\n",
            "Data columns (total 10 columns):\n",
            " #   Column  Non-Null Count  Dtype  \n",
            "---  ------  --------------  -----  \n",
            " 0   C1      5000 non-null   float64\n",
            " 1   C2      5000 non-null   float64\n",
            " 2   C3      5000 non-null   float64\n",
            " 3   C4      5000 non-null   float64\n",
            " 4   C5      5000 non-null   float64\n",
            " 5   C6      5000 non-null   float64\n",
            " 6   C7      5000 non-null   float64\n",
            " 7   C8      5000 non-null   float64\n",
            " 8   C9      5000 non-null   float64\n",
            " 9   C10     5000 non-null   float64\n",
            "dtypes: float64(10)\n",
            "memory usage: 390.8 KB\n"
          ]
        }
      ]
    },
    {
      "cell_type": "code",
      "source": [
        "X_train.describe(include='all')"
      ],
      "metadata": {
        "colab": {
          "base_uri": "https://localhost:8080/",
          "height": 300
        },
        "id": "6nntJSMccN73",
        "outputId": "000ae9fd-c3d9-47c3-98c5-138fce7a8fa4"
      },
      "execution_count": null,
      "outputs": [
        {
          "output_type": "execute_result",
          "data": {
            "text/plain": [
              "                C1           C2           C3           C4           C5  \\\n",
              "count  5000.000000  5000.000000  5000.000000  5000.000000  5000.000000   \n",
              "mean      0.498306     0.499411     0.505079     0.490760     0.502737   \n",
              "std       0.289084     0.289062     0.288967     0.288455     0.286811   \n",
              "min       0.000059     0.000398     0.000128     0.000075     0.000282   \n",
              "25%       0.250572     0.244730     0.254698     0.243290     0.257885   \n",
              "50%       0.490136     0.497803     0.505742     0.481901     0.508800   \n",
              "75%       0.749150     0.748927     0.754644     0.742726     0.747066   \n",
              "max       0.999972     0.999994     0.999741     0.999726     0.999743   \n",
              "\n",
              "                C6           C7           C8           C9          C10  \n",
              "count  5000.000000  5000.000000  5000.000000  5000.000000  5000.000000  \n",
              "mean      0.502294     0.502038     0.499418     0.511777     0.500473  \n",
              "std       0.286297     0.287471     0.289372     0.288578     0.291633  \n",
              "min       0.000038     0.000004     0.000069     0.000113     0.000183  \n",
              "25%       0.255889     0.258859     0.251448     0.261237     0.246402  \n",
              "50%       0.511985     0.500416     0.505016     0.514592     0.500546  \n",
              "75%       0.748847     0.750431     0.750400     0.759544     0.752132  \n",
              "max       0.999660     0.999831     0.999581     0.999886     0.999657  "
            ],
            "text/html": [
              "\n",
              "  <div id=\"df-2de5aff8-1994-413b-af4d-f13302f52d0a\" class=\"colab-df-container\">\n",
              "    <div>\n",
              "<style scoped>\n",
              "    .dataframe tbody tr th:only-of-type {\n",
              "        vertical-align: middle;\n",
              "    }\n",
              "\n",
              "    .dataframe tbody tr th {\n",
              "        vertical-align: top;\n",
              "    }\n",
              "\n",
              "    .dataframe thead th {\n",
              "        text-align: right;\n",
              "    }\n",
              "</style>\n",
              "<table border=\"1\" class=\"dataframe\">\n",
              "  <thead>\n",
              "    <tr style=\"text-align: right;\">\n",
              "      <th></th>\n",
              "      <th>C1</th>\n",
              "      <th>C2</th>\n",
              "      <th>C3</th>\n",
              "      <th>C4</th>\n",
              "      <th>C5</th>\n",
              "      <th>C6</th>\n",
              "      <th>C7</th>\n",
              "      <th>C8</th>\n",
              "      <th>C9</th>\n",
              "      <th>C10</th>\n",
              "    </tr>\n",
              "  </thead>\n",
              "  <tbody>\n",
              "    <tr>\n",
              "      <th>count</th>\n",
              "      <td>5000.000000</td>\n",
              "      <td>5000.000000</td>\n",
              "      <td>5000.000000</td>\n",
              "      <td>5000.000000</td>\n",
              "      <td>5000.000000</td>\n",
              "      <td>5000.000000</td>\n",
              "      <td>5000.000000</td>\n",
              "      <td>5000.000000</td>\n",
              "      <td>5000.000000</td>\n",
              "      <td>5000.000000</td>\n",
              "    </tr>\n",
              "    <tr>\n",
              "      <th>mean</th>\n",
              "      <td>0.498306</td>\n",
              "      <td>0.499411</td>\n",
              "      <td>0.505079</td>\n",
              "      <td>0.490760</td>\n",
              "      <td>0.502737</td>\n",
              "      <td>0.502294</td>\n",
              "      <td>0.502038</td>\n",
              "      <td>0.499418</td>\n",
              "      <td>0.511777</td>\n",
              "      <td>0.500473</td>\n",
              "    </tr>\n",
              "    <tr>\n",
              "      <th>std</th>\n",
              "      <td>0.289084</td>\n",
              "      <td>0.289062</td>\n",
              "      <td>0.288967</td>\n",
              "      <td>0.288455</td>\n",
              "      <td>0.286811</td>\n",
              "      <td>0.286297</td>\n",
              "      <td>0.287471</td>\n",
              "      <td>0.289372</td>\n",
              "      <td>0.288578</td>\n",
              "      <td>0.291633</td>\n",
              "    </tr>\n",
              "    <tr>\n",
              "      <th>min</th>\n",
              "      <td>0.000059</td>\n",
              "      <td>0.000398</td>\n",
              "      <td>0.000128</td>\n",
              "      <td>0.000075</td>\n",
              "      <td>0.000282</td>\n",
              "      <td>0.000038</td>\n",
              "      <td>0.000004</td>\n",
              "      <td>0.000069</td>\n",
              "      <td>0.000113</td>\n",
              "      <td>0.000183</td>\n",
              "    </tr>\n",
              "    <tr>\n",
              "      <th>25%</th>\n",
              "      <td>0.250572</td>\n",
              "      <td>0.244730</td>\n",
              "      <td>0.254698</td>\n",
              "      <td>0.243290</td>\n",
              "      <td>0.257885</td>\n",
              "      <td>0.255889</td>\n",
              "      <td>0.258859</td>\n",
              "      <td>0.251448</td>\n",
              "      <td>0.261237</td>\n",
              "      <td>0.246402</td>\n",
              "    </tr>\n",
              "    <tr>\n",
              "      <th>50%</th>\n",
              "      <td>0.490136</td>\n",
              "      <td>0.497803</td>\n",
              "      <td>0.505742</td>\n",
              "      <td>0.481901</td>\n",
              "      <td>0.508800</td>\n",
              "      <td>0.511985</td>\n",
              "      <td>0.500416</td>\n",
              "      <td>0.505016</td>\n",
              "      <td>0.514592</td>\n",
              "      <td>0.500546</td>\n",
              "    </tr>\n",
              "    <tr>\n",
              "      <th>75%</th>\n",
              "      <td>0.749150</td>\n",
              "      <td>0.748927</td>\n",
              "      <td>0.754644</td>\n",
              "      <td>0.742726</td>\n",
              "      <td>0.747066</td>\n",
              "      <td>0.748847</td>\n",
              "      <td>0.750431</td>\n",
              "      <td>0.750400</td>\n",
              "      <td>0.759544</td>\n",
              "      <td>0.752132</td>\n",
              "    </tr>\n",
              "    <tr>\n",
              "      <th>max</th>\n",
              "      <td>0.999972</td>\n",
              "      <td>0.999994</td>\n",
              "      <td>0.999741</td>\n",
              "      <td>0.999726</td>\n",
              "      <td>0.999743</td>\n",
              "      <td>0.999660</td>\n",
              "      <td>0.999831</td>\n",
              "      <td>0.999581</td>\n",
              "      <td>0.999886</td>\n",
              "      <td>0.999657</td>\n",
              "    </tr>\n",
              "  </tbody>\n",
              "</table>\n",
              "</div>\n",
              "    <div class=\"colab-df-buttons\">\n",
              "\n",
              "  <div class=\"colab-df-container\">\n",
              "    <button class=\"colab-df-convert\" onclick=\"convertToInteractive('df-2de5aff8-1994-413b-af4d-f13302f52d0a')\"\n",
              "            title=\"Convert this dataframe to an interactive table.\"\n",
              "            style=\"display:none;\">\n",
              "\n",
              "  <svg xmlns=\"http://www.w3.org/2000/svg\" height=\"24px\" viewBox=\"0 -960 960 960\">\n",
              "    <path d=\"M120-120v-720h720v720H120Zm60-500h600v-160H180v160Zm220 220h160v-160H400v160Zm0 220h160v-160H400v160ZM180-400h160v-160H180v160Zm440 0h160v-160H620v160ZM180-180h160v-160H180v160Zm440 0h160v-160H620v160Z\"/>\n",
              "  </svg>\n",
              "    </button>\n",
              "\n",
              "  <style>\n",
              "    .colab-df-container {\n",
              "      display:flex;\n",
              "      gap: 12px;\n",
              "    }\n",
              "\n",
              "    .colab-df-convert {\n",
              "      background-color: #E8F0FE;\n",
              "      border: none;\n",
              "      border-radius: 50%;\n",
              "      cursor: pointer;\n",
              "      display: none;\n",
              "      fill: #1967D2;\n",
              "      height: 32px;\n",
              "      padding: 0 0 0 0;\n",
              "      width: 32px;\n",
              "    }\n",
              "\n",
              "    .colab-df-convert:hover {\n",
              "      background-color: #E2EBFA;\n",
              "      box-shadow: 0px 1px 2px rgba(60, 64, 67, 0.3), 0px 1px 3px 1px rgba(60, 64, 67, 0.15);\n",
              "      fill: #174EA6;\n",
              "    }\n",
              "\n",
              "    .colab-df-buttons div {\n",
              "      margin-bottom: 4px;\n",
              "    }\n",
              "\n",
              "    [theme=dark] .colab-df-convert {\n",
              "      background-color: #3B4455;\n",
              "      fill: #D2E3FC;\n",
              "    }\n",
              "\n",
              "    [theme=dark] .colab-df-convert:hover {\n",
              "      background-color: #434B5C;\n",
              "      box-shadow: 0px 1px 3px 1px rgba(0, 0, 0, 0.15);\n",
              "      filter: drop-shadow(0px 1px 2px rgba(0, 0, 0, 0.3));\n",
              "      fill: #FFFFFF;\n",
              "    }\n",
              "  </style>\n",
              "\n",
              "    <script>\n",
              "      const buttonEl =\n",
              "        document.querySelector('#df-2de5aff8-1994-413b-af4d-f13302f52d0a button.colab-df-convert');\n",
              "      buttonEl.style.display =\n",
              "        google.colab.kernel.accessAllowed ? 'block' : 'none';\n",
              "\n",
              "      async function convertToInteractive(key) {\n",
              "        const element = document.querySelector('#df-2de5aff8-1994-413b-af4d-f13302f52d0a');\n",
              "        const dataTable =\n",
              "          await google.colab.kernel.invokeFunction('convertToInteractive',\n",
              "                                                    [key], {});\n",
              "        if (!dataTable) return;\n",
              "\n",
              "        const docLinkHtml = 'Like what you see? Visit the ' +\n",
              "          '<a target=\"_blank\" href=https://colab.research.google.com/notebooks/data_table.ipynb>data table notebook</a>'\n",
              "          + ' to learn more about interactive tables.';\n",
              "        element.innerHTML = '';\n",
              "        dataTable['output_type'] = 'display_data';\n",
              "        await google.colab.output.renderOutput(dataTable, element);\n",
              "        const docLink = document.createElement('div');\n",
              "        docLink.innerHTML = docLinkHtml;\n",
              "        element.appendChild(docLink);\n",
              "      }\n",
              "    </script>\n",
              "  </div>\n",
              "\n",
              "\n",
              "<div id=\"df-c3a0bae6-5520-483b-a0c8-fbedac0145be\">\n",
              "  <button class=\"colab-df-quickchart\" onclick=\"quickchart('df-c3a0bae6-5520-483b-a0c8-fbedac0145be')\"\n",
              "            title=\"Suggest charts\"\n",
              "            style=\"display:none;\">\n",
              "\n",
              "<svg xmlns=\"http://www.w3.org/2000/svg\" height=\"24px\"viewBox=\"0 0 24 24\"\n",
              "     width=\"24px\">\n",
              "    <g>\n",
              "        <path d=\"M19 3H5c-1.1 0-2 .9-2 2v14c0 1.1.9 2 2 2h14c1.1 0 2-.9 2-2V5c0-1.1-.9-2-2-2zM9 17H7v-7h2v7zm4 0h-2V7h2v10zm4 0h-2v-4h2v4z\"/>\n",
              "    </g>\n",
              "</svg>\n",
              "  </button>\n",
              "\n",
              "<style>\n",
              "  .colab-df-quickchart {\n",
              "      --bg-color: #E8F0FE;\n",
              "      --fill-color: #1967D2;\n",
              "      --hover-bg-color: #E2EBFA;\n",
              "      --hover-fill-color: #174EA6;\n",
              "      --disabled-fill-color: #AAA;\n",
              "      --disabled-bg-color: #DDD;\n",
              "  }\n",
              "\n",
              "  [theme=dark] .colab-df-quickchart {\n",
              "      --bg-color: #3B4455;\n",
              "      --fill-color: #D2E3FC;\n",
              "      --hover-bg-color: #434B5C;\n",
              "      --hover-fill-color: #FFFFFF;\n",
              "      --disabled-bg-color: #3B4455;\n",
              "      --disabled-fill-color: #666;\n",
              "  }\n",
              "\n",
              "  .colab-df-quickchart {\n",
              "    background-color: var(--bg-color);\n",
              "    border: none;\n",
              "    border-radius: 50%;\n",
              "    cursor: pointer;\n",
              "    display: none;\n",
              "    fill: var(--fill-color);\n",
              "    height: 32px;\n",
              "    padding: 0;\n",
              "    width: 32px;\n",
              "  }\n",
              "\n",
              "  .colab-df-quickchart:hover {\n",
              "    background-color: var(--hover-bg-color);\n",
              "    box-shadow: 0 1px 2px rgba(60, 64, 67, 0.3), 0 1px 3px 1px rgba(60, 64, 67, 0.15);\n",
              "    fill: var(--button-hover-fill-color);\n",
              "  }\n",
              "\n",
              "  .colab-df-quickchart-complete:disabled,\n",
              "  .colab-df-quickchart-complete:disabled:hover {\n",
              "    background-color: var(--disabled-bg-color);\n",
              "    fill: var(--disabled-fill-color);\n",
              "    box-shadow: none;\n",
              "  }\n",
              "\n",
              "  .colab-df-spinner {\n",
              "    border: 2px solid var(--fill-color);\n",
              "    border-color: transparent;\n",
              "    border-bottom-color: var(--fill-color);\n",
              "    animation:\n",
              "      spin 1s steps(1) infinite;\n",
              "  }\n",
              "\n",
              "  @keyframes spin {\n",
              "    0% {\n",
              "      border-color: transparent;\n",
              "      border-bottom-color: var(--fill-color);\n",
              "      border-left-color: var(--fill-color);\n",
              "    }\n",
              "    20% {\n",
              "      border-color: transparent;\n",
              "      border-left-color: var(--fill-color);\n",
              "      border-top-color: var(--fill-color);\n",
              "    }\n",
              "    30% {\n",
              "      border-color: transparent;\n",
              "      border-left-color: var(--fill-color);\n",
              "      border-top-color: var(--fill-color);\n",
              "      border-right-color: var(--fill-color);\n",
              "    }\n",
              "    40% {\n",
              "      border-color: transparent;\n",
              "      border-right-color: var(--fill-color);\n",
              "      border-top-color: var(--fill-color);\n",
              "    }\n",
              "    60% {\n",
              "      border-color: transparent;\n",
              "      border-right-color: var(--fill-color);\n",
              "    }\n",
              "    80% {\n",
              "      border-color: transparent;\n",
              "      border-right-color: var(--fill-color);\n",
              "      border-bottom-color: var(--fill-color);\n",
              "    }\n",
              "    90% {\n",
              "      border-color: transparent;\n",
              "      border-bottom-color: var(--fill-color);\n",
              "    }\n",
              "  }\n",
              "</style>\n",
              "\n",
              "  <script>\n",
              "    async function quickchart(key) {\n",
              "      const quickchartButtonEl =\n",
              "        document.querySelector('#' + key + ' button');\n",
              "      quickchartButtonEl.disabled = true;  // To prevent multiple clicks.\n",
              "      quickchartButtonEl.classList.add('colab-df-spinner');\n",
              "      try {\n",
              "        const charts = await google.colab.kernel.invokeFunction(\n",
              "            'suggestCharts', [key], {});\n",
              "      } catch (error) {\n",
              "        console.error('Error during call to suggestCharts:', error);\n",
              "      }\n",
              "      quickchartButtonEl.classList.remove('colab-df-spinner');\n",
              "      quickchartButtonEl.classList.add('colab-df-quickchart-complete');\n",
              "    }\n",
              "    (() => {\n",
              "      let quickchartButtonEl =\n",
              "        document.querySelector('#df-c3a0bae6-5520-483b-a0c8-fbedac0145be button');\n",
              "      quickchartButtonEl.style.display =\n",
              "        google.colab.kernel.accessAllowed ? 'block' : 'none';\n",
              "    })();\n",
              "  </script>\n",
              "</div>\n",
              "\n",
              "    </div>\n",
              "  </div>\n"
            ],
            "application/vnd.google.colaboratory.intrinsic+json": {
              "type": "dataframe",
              "summary": "{\n  \"name\": \"X_train\",\n  \"rows\": 8,\n  \"fields\": [\n    {\n      \"column\": \"C1\",\n      \"properties\": {\n        \"dtype\": \"number\",\n        \"std\": 1767.6014521420816,\n        \"min\": 5.894297470832033e-05,\n        \"max\": 5000.0,\n        \"num_unique_values\": 8,\n        \"samples\": [\n          0.4983058589554927,\n          0.49013626297183377,\n          5000.0\n        ],\n        \"semantic_type\": \"\",\n        \"description\": \"\"\n      }\n    },\n    {\n      \"column\": \"C2\",\n      \"properties\": {\n        \"dtype\": \"number\",\n        \"std\": 1767.6012984042056,\n        \"min\": 0.0003983371485735,\n        \"max\": 5000.0,\n        \"num_unique_values\": 8,\n        \"samples\": [\n          0.49941068143239664,\n          0.4978031536433797,\n          5000.0\n        ],\n        \"semantic_type\": \"\",\n        \"description\": \"\"\n      }\n    },\n    {\n      \"column\": \"C3\",\n      \"properties\": {\n        \"dtype\": \"number\",\n        \"std\": 1767.5998501260965,\n        \"min\": 0.0001276199175813,\n        \"max\": 5000.0,\n        \"num_unique_values\": 8,\n        \"samples\": [\n          0.505079438119422,\n          0.5057417500003183,\n          5000.0\n        ],\n        \"semantic_type\": \"\",\n        \"description\": \"\"\n      }\n    },\n    {\n      \"column\": \"C4\",\n      \"properties\": {\n        \"dtype\": \"number\",\n        \"std\": 1767.602984801336,\n        \"min\": 7.452662954521294e-05,\n        \"max\": 5000.0,\n        \"num_unique_values\": 8,\n        \"samples\": [\n          0.4907600923662527,\n          0.4819006616751982,\n          5000.0\n        ],\n        \"semantic_type\": \"\",\n        \"description\": \"\"\n      }\n    },\n    {\n      \"column\": \"C5\",\n      \"properties\": {\n        \"dtype\": \"number\",\n        \"std\": 1767.6001365585505,\n        \"min\": 0.0002824783551409,\n        \"max\": 5000.0,\n        \"num_unique_values\": 8,\n        \"samples\": [\n          0.5027372179829749,\n          0.508799770054575,\n          5000.0\n        ],\n        \"semantic_type\": \"\",\n        \"description\": \"\"\n      }\n    },\n    {\n      \"column\": \"C6\",\n      \"properties\": {\n        \"dtype\": \"number\",\n        \"std\": 1767.600051506659,\n        \"min\": 3.767431983681124e-05,\n        \"max\": 5000.0,\n        \"num_unique_values\": 8,\n        \"samples\": [\n          0.5022944711846689,\n          0.5119845056975058,\n          5000.0\n        ],\n        \"semantic_type\": \"\",\n        \"description\": \"\"\n      }\n    },\n    {\n      \"column\": \"C7\",\n      \"properties\": {\n        \"dtype\": \"number\",\n        \"std\": 1767.6003524958794,\n        \"min\": 4.215757240633167e-06,\n        \"max\": 5000.0,\n        \"num_unique_values\": 8,\n        \"samples\": [\n          0.5020379575239262,\n          0.5004159913627104,\n          5000.0\n        ],\n        \"semantic_type\": \"\",\n        \"description\": \"\"\n      }\n    },\n    {\n      \"column\": \"C8\",\n      \"properties\": {\n        \"dtype\": \"number\",\n        \"std\": 1767.600541747387,\n        \"min\": 6.883102653554296e-05,\n        \"max\": 5000.0,\n        \"num_unique_values\": 8,\n        \"samples\": [\n          0.4994182178331298,\n          0.5050160931491741,\n          5000.0\n        ],\n        \"semantic_type\": \"\",\n        \"description\": \"\"\n      }\n    },\n    {\n      \"column\": \"C9\",\n      \"properties\": {\n        \"dtype\": \"number\",\n        \"std\": 1767.5985001341728,\n        \"min\": 0.0001128954497831,\n        \"max\": 5000.0,\n        \"num_unique_values\": 8,\n        \"samples\": [\n          0.5117770842483671,\n          0.5145921836447056,\n          5000.0\n        ],\n        \"semantic_type\": \"\",\n        \"description\": \"\"\n      }\n    },\n    {\n      \"column\": \"C10\",\n      \"properties\": {\n        \"dtype\": \"number\",\n        \"std\": 1767.6007578849822,\n        \"min\": 0.0001825690198601,\n        \"max\": 5000.0,\n        \"num_unique_values\": 8,\n        \"samples\": [\n          0.5004734378975049,\n          0.5005461696640496,\n          5000.0\n        ],\n        \"semantic_type\": \"\",\n        \"description\": \"\"\n      }\n    }\n  ]\n}"
            }
          },
          "metadata": {},
          "execution_count": 24
        }
      ]
    },
    {
      "cell_type": "code",
      "source": [
        "X_test.info()"
      ],
      "metadata": {
        "colab": {
          "base_uri": "https://localhost:8080/"
        },
        "id": "1oeDqpQdc7ro",
        "outputId": "e3ebde01-59c7-4c55-c3aa-33b475f1e448"
      },
      "execution_count": null,
      "outputs": [
        {
          "output_type": "stream",
          "name": "stdout",
          "text": [
            "<class 'pandas.core.frame.DataFrame'>\n",
            "RangeIndex: 2500 entries, 0 to 2499\n",
            "Data columns (total 10 columns):\n",
            " #   Column  Non-Null Count  Dtype  \n",
            "---  ------  --------------  -----  \n",
            " 0   C1      2500 non-null   float64\n",
            " 1   C2      2500 non-null   float64\n",
            " 2   C3      2500 non-null   float64\n",
            " 3   C4      2500 non-null   float64\n",
            " 4   C5      2500 non-null   float64\n",
            " 5   C6      2500 non-null   float64\n",
            " 6   C7      2500 non-null   float64\n",
            " 7   C8      2500 non-null   float64\n",
            " 8   C9      2500 non-null   float64\n",
            " 9   C10     2500 non-null   float64\n",
            "dtypes: float64(10)\n",
            "memory usage: 195.4 KB\n"
          ]
        }
      ]
    },
    {
      "cell_type": "code",
      "source": [
        "import sklearn\n",
        "from sklearn.neighbors import KNeighborsRegressor\n",
        "from sklearn.metrics import mean_squared_error\n",
        "\n",
        "k_arr=range(1,51)\n",
        "mse_arr=[]\n",
        "for k in k_arr:\n",
        "  knn = KNeighborsRegressor(n_neighbors=k)\n",
        "  knn.fit(X_train, Y_train)\n",
        "  Y_pred = knn.predict(X_validate)\n",
        "  mse=sklearn.metrics.mean_squared_error(Y_validate, Y_pred)\n",
        "  mse_arr.append(mse)\n"
      ],
      "metadata": {
        "id": "_gK9qDlpdLXn"
      },
      "execution_count": null,
      "outputs": []
    },
    {
      "cell_type": "code",
      "source": [
        "import numpy as np\n",
        "k_best=np.argmin(mse_arr)+1 #because index in python starts from 0\n",
        "mse_best = np.min(mse_arr)\n",
        "print(\"Best k = {},mse best ={}\".format(k_best,mse_best))"
      ],
      "metadata": {
        "colab": {
          "base_uri": "https://localhost:8080/"
        },
        "id": "5vdeHGifheDs",
        "outputId": "ab89d8f7-6aee-432f-d7b6-d9b9b68acb53"
      },
      "execution_count": null,
      "outputs": [
        {
          "output_type": "stream",
          "name": "stdout",
          "text": [
            "Best k = 8,mse best =4.0947450299314605\n"
          ]
        }
      ]
    },
    {
      "cell_type": "code",
      "source": [
        "import matplotlib.pyplot as plt\n",
        "plt.plot(k_arr,mse_arr,'o-')\n",
        "plt.xlabel('k')\n",
        "plt.ylabel('mse')"
      ],
      "metadata": {
        "colab": {
          "base_uri": "https://localhost:8080/",
          "height": 466
        },
        "id": "7ZRu2x0Qh71l",
        "outputId": "9cb203d9-f508-473f-d74d-4897f77b72d6"
      },
      "execution_count": null,
      "outputs": [
        {
          "output_type": "execute_result",
          "data": {
            "text/plain": [
              "Text(0, 0.5, 'mse')"
            ]
          },
          "metadata": {},
          "execution_count": 56
        },
        {
          "output_type": "display_data",
          "data": {
            "text/plain": [
              "<Figure size 640x480 with 1 Axes>"
            ],
            "image/png": "[encoded data removed]"
          },
          "metadata": {}
        }
      ]
    },
    {
      "cell_type": "markdown",
      "source": [
        "Lowest error happens at 4,09 mse\n",
        "MSE started out high then dropped as k increases then after k-=8 err tends to increase as k increases demonstrating bias-variance tradeoff\n",
        "Left underfitting --> increase model complexity to reduce error\n",
        "Right overfitting --> after a certain pt increasing model complexity wont reduce error thereby reiterating that"
      ],
      "metadata": {
        "id": "SDBlEwgYiJE9"
      }
    },
    {
      "cell_type": "markdown",
      "source": [
        "Take the best model from the training and Gen error calculated using test"
      ],
      "metadata": {
        "id": "gNPfTl1civLe"
      }
    },
    {
      "cell_type": "code",
      "source": [
        "  knn = KNeighborsRegressor(n_neighbors=k_best)\n",
        "  knn.fit(X_train, Y_train)\n",
        "  Y_pred = knn.predict(X_test)\n",
        "  mse=sklearn.metrics.mean_squared_error(Y_test, Y_pred)\n",
        "print(mse)\n"
      ],
      "metadata": {
        "colab": {
          "base_uri": "https://localhost:8080/"
        },
        "id": "1L7iqEzqiuNm",
        "outputId": "b83ab501-ddf5-45ef-ae6f-ce92c8a5e7b8"
      },
      "execution_count": null,
      "outputs": [
        {
          "output_type": "stream",
          "name": "stdout",
          "text": [
            "4.370845944212313\n"
          ]
        }
      ]
    },
    {
      "cell_type": "markdown",
      "source": [
        "1.Not bigger than knn best\n",
        "\n",
        "2. Generalised because it i stested on a independent 3rd set\n",
        "\n",
        "3. This is how we expect a model k=8 to perform on a general set so mse is squared therefore the prediction would be 2 ish points off"
      ],
      "metadata": {
        "id": "miENgw_GjGrZ"
      }
    },
    {
      "cell_type": "markdown",
      "source": [],
      "metadata": {
        "id": "MOA5UZeOjsZY"
      }
    },
    {
      "cell_type": "markdown",
      "source": [
        "\n",
        "\n",
        "3. Consider the S&P500 dataset in stock.csv. Our objective is to predict the direction of the stock market.\n",
        "\n",
        "(a) Load the dataset, set the direction to be a categorical variable.\n",
        "\n",
        "(b) Fit the Logistic Regression model and print the corresponding misclassification\n",
        "% and confusion matrix.\n",
        "\n",
        "(c) Are the results too good to be true? Can you identify the problem?\n",
        "1\n",
        "\n",
        "(d) Split the data to train and test sets (the test set corresponds to year 2005).\n",
        "\n",
        "Fit the model and discuss the corresponding misclassification % and confusion\n",
        "matrix..\n",
        "\n",
        "(e) Try to predict the direction by disregarding ”Lag5”,”Lag4”,”Lag3”,and ”Volume” variables.\n",
        "\n"
      ],
      "metadata": {
        "id": "GmSJVG1yjeml"
      }
    },
    {
      "cell_type": "code",
      "source": [
        "sklearn.__version__\n"
      ],
      "metadata": {
        "colab": {
          "base_uri": "https://localhost:8080/",
          "height": 35
        },
        "id": "ha9nTmojuzWu",
        "outputId": "f8c4abee-469a-4b04-ad5f-8ee9b86bca80"
      },
      "execution_count": null,
      "outputs": [
        {
          "output_type": "execute_result",
          "data": {
            "text/plain": [
              "'1.6.1'"
            ],
            "application/vnd.google.colaboratory.intrinsic+json": {
              "type": "string"
            }
          },
          "metadata": {},
          "execution_count": 98
        }
      ]
    },
    {
      "cell_type": "code",
      "source": [
        "df = pd.read_csv('stock.csv',index_col=0) #after looking into it we find index col therefore we notify\n",
        "df.columns"
      ],
      "metadata": {
        "colab": {
          "base_uri": "https://localhost:8080/"
        },
        "id": "NxlNecRmj6PZ",
        "outputId": "7e6acf92-080d-4148-bc1f-aeafb7a50ac2"
      },
      "execution_count": null,
      "outputs": [
        {
          "output_type": "execute_result",
          "data": {
            "text/plain": [
              "Index(['Year', 'Lag1', 'Lag2', 'Lag3', 'Lag4', 'Lag5', 'Volume', 'Today',\n",
              "       'Direction'],\n",
              "      dtype='object')"
            ]
          },
          "metadata": {},
          "execution_count": 93
        }
      ]
    },
    {
      "cell_type": "code",
      "source": [
        "df.head()"
      ],
      "metadata": {
        "colab": {
          "base_uri": "https://localhost:8080/",
          "height": 206
        },
        "id": "nyGi1rRrkOFJ",
        "outputId": "9de8e9a4-7005-4eef-f758-9efa97041b4a"
      },
      "execution_count": null,
      "outputs": [
        {
          "output_type": "execute_result",
          "data": {
            "text/plain": [
              "   Year   Lag1   Lag2   Lag3   Lag4   Lag5  Volume  Today Direction\n",
              "1  2001  0.381 -0.192 -2.624 -1.055  5.010  1.1913  0.959        Up\n",
              "2  2001  0.959  0.381 -0.192 -2.624 -1.055  1.2965  1.032        Up\n",
              "3  2001  1.032  0.959  0.381 -0.192 -2.624  1.4112 -0.623      Down\n",
              "4  2001 -0.623  1.032  0.959  0.381 -0.192  1.2760  0.614        Up\n",
              "5  2001  0.614 -0.623  1.032  0.959  0.381  1.2057  0.213        Up"
            ],
            "text/html": [
              "\n",
              "  <div id=\"df-d5760f66-9991-416f-b274-4ba23a51d1ee\" class=\"colab-df-container\">\n",
              "    <div>\n",
              "<style scoped>\n",
              "    .dataframe tbody tr th:only-of-type {\n",
              "        vertical-align: middle;\n",
              "    }\n",
              "\n",
              "    .dataframe tbody tr th {\n",
              "        vertical-align: top;\n",
              "    }\n",
              "\n",
              "    .dataframe thead th {\n",
              "        text-align: right;\n",
              "    }\n",
              "</style>\n",
              "<table border=\"1\" class=\"dataframe\">\n",
              "  <thead>\n",
              "    <tr style=\"text-align: right;\">\n",
              "      <th></th>\n",
              "      <th>Year</th>\n",
              "      <th>Lag1</th>\n",
              "      <th>Lag2</th>\n",
              "      <th>Lag3</th>\n",
              "      <th>Lag4</th>\n",
              "      <th>Lag5</th>\n",
              "      <th>Volume</th>\n",
              "      <th>Today</th>\n",
              "      <th>Direction</th>\n",
              "    </tr>\n",
              "  </thead>\n",
              "  <tbody>\n",
              "    <tr>\n",
              "      <th>1</th>\n",
              "      <td>2001</td>\n",
              "      <td>0.381</td>\n",
              "      <td>-0.192</td>\n",
              "      <td>-2.624</td>\n",
              "      <td>-1.055</td>\n",
              "      <td>5.010</td>\n",
              "      <td>1.1913</td>\n",
              "      <td>0.959</td>\n",
              "      <td>Up</td>\n",
              "    </tr>\n",
              "    <tr>\n",
              "      <th>2</th>\n",
              "      <td>2001</td>\n",
              "      <td>0.959</td>\n",
              "      <td>0.381</td>\n",
              "      <td>-0.192</td>\n",
              "      <td>-2.624</td>\n",
              "      <td>-1.055</td>\n",
              "      <td>1.2965</td>\n",
              "      <td>1.032</td>\n",
              "      <td>Up</td>\n",
              "    </tr>\n",
              "    <tr>\n",
              "      <th>3</th>\n",
              "      <td>2001</td>\n",
              "      <td>1.032</td>\n",
              "      <td>0.959</td>\n",
              "      <td>0.381</td>\n",
              "      <td>-0.192</td>\n",
              "      <td>-2.624</td>\n",
              "      <td>1.4112</td>\n",
              "      <td>-0.623</td>\n",
              "      <td>Down</td>\n",
              "    </tr>\n",
              "    <tr>\n",
              "      <th>4</th>\n",
              "      <td>2001</td>\n",
              "      <td>-0.623</td>\n",
              "      <td>1.032</td>\n",
              "      <td>0.959</td>\n",
              "      <td>0.381</td>\n",
              "      <td>-0.192</td>\n",
              "      <td>1.2760</td>\n",
              "      <td>0.614</td>\n",
              "      <td>Up</td>\n",
              "    </tr>\n",
              "    <tr>\n",
              "      <th>5</th>\n",
              "      <td>2001</td>\n",
              "      <td>0.614</td>\n",
              "      <td>-0.623</td>\n",
              "      <td>1.032</td>\n",
              "      <td>0.959</td>\n",
              "      <td>0.381</td>\n",
              "      <td>1.2057</td>\n",
              "      <td>0.213</td>\n",
              "      <td>Up</td>\n",
              "    </tr>\n",
              "  </tbody>\n",
              "</table>\n",
              "</div>\n",
              "    <div class=\"colab-df-buttons\">\n",
              "\n",
              "  <div class=\"colab-df-container\">\n",
              "    <button class=\"colab-df-convert\" onclick=\"convertToInteractive('df-d5760f66-9991-416f-b274-4ba23a51d1ee')\"\n",
              "            title=\"Convert this dataframe to an interactive table.\"\n",
              "            style=\"display:none;\">\n",
              "\n",
              "  <svg xmlns=\"http://www.w3.org/2000/svg\" height=\"24px\" viewBox=\"0 -960 960 960\">\n",
              "    <path d=\"M120-120v-720h720v720H120Zm60-500h600v-160H180v160Zm220 220h160v-160H400v160Zm0 220h160v-160H400v160ZM180-400h160v-160H180v160Zm440 0h160v-160H620v160ZM180-180h160v-160H180v160Zm440 0h160v-160H620v160Z\"/>\n",
              "  </svg>\n",
              "    </button>\n",
              "\n",
              "  <style>\n",
              "    .colab-df-container {\n",
              "      display:flex;\n",
              "      gap: 12px;\n",
              "    }\n",
              "\n",
              "    .colab-df-convert {\n",
              "      background-color: #E8F0FE;\n",
              "      border: none;\n",
              "      border-radius: 50%;\n",
              "      cursor: pointer;\n",
              "      display: none;\n",
              "      fill: #1967D2;\n",
              "      height: 32px;\n",
              "      padding: 0 0 0 0;\n",
              "      width: 32px;\n",
              "    }\n",
              "\n",
              "    .colab-df-convert:hover {\n",
              "      background-color: #E2EBFA;\n",
              "      box-shadow: 0px 1px 2px rgba(60, 64, 67, 0.3), 0px 1px 3px 1px rgba(60, 64, 67, 0.15);\n",
              "      fill: #174EA6;\n",
              "    }\n",
              "\n",
              "    .colab-df-buttons div {\n",
              "      margin-bottom: 4px;\n",
              "    }\n",
              "\n",
              "    [theme=dark] .colab-df-convert {\n",
              "      background-color: #3B4455;\n",
              "      fill: #D2E3FC;\n",
              "    }\n",
              "\n",
              "    [theme=dark] .colab-df-convert:hover {\n",
              "      background-color: #434B5C;\n",
              "      box-shadow: 0px 1px 3px 1px rgba(0, 0, 0, 0.15);\n",
              "      filter: drop-shadow(0px 1px 2px rgba(0, 0, 0, 0.3));\n",
              "      fill: #FFFFFF;\n",
              "    }\n",
              "  </style>\n",
              "\n",
              "    <script>\n",
              "      const buttonEl =\n",
              "        document.querySelector('#df-d5760f66-9991-416f-b274-4ba23a51d1ee button.colab-df-convert');\n",
              "      buttonEl.style.display =\n",
              "        google.colab.kernel.accessAllowed ? 'block' : 'none';\n",
              "\n",
              "      async function convertToInteractive(key) {\n",
              "        const element = document.querySelector('#df-d5760f66-9991-416f-b274-4ba23a51d1ee');\n",
              "        const dataTable =\n",
              "          await google.colab.kernel.invokeFunction('convertToInteractive',\n",
              "                                                    [key], {});\n",
              "        if (!dataTable) return;\n",
              "\n",
              "        const docLinkHtml = 'Like what you see? Visit the ' +\n",
              "          '<a target=\"_blank\" href=https://colab.research.google.com/notebooks/data_table.ipynb>data table notebook</a>'\n",
              "          + ' to learn more about interactive tables.';\n",
              "        element.innerHTML = '';\n",
              "        dataTable['output_type'] = 'display_data';\n",
              "        await google.colab.output.renderOutput(dataTable, element);\n",
              "        const docLink = document.createElement('div');\n",
              "        docLink.innerHTML = docLinkHtml;\n",
              "        element.appendChild(docLink);\n",
              "      }\n",
              "    </script>\n",
              "  </div>\n",
              "\n",
              "\n",
              "<div id=\"df-7d8c966f-a68c-4e3c-a733-066ec57e99e3\">\n",
              "  <button class=\"colab-df-quickchart\" onclick=\"quickchart('df-7d8c966f-a68c-4e3c-a733-066ec57e99e3')\"\n",
              "            title=\"Suggest charts\"\n",
              "            style=\"display:none;\">\n",
              "\n",
              "<svg xmlns=\"http://www.w3.org/2000/svg\" height=\"24px\"viewBox=\"0 0 24 24\"\n",
              "     width=\"24px\">\n",
              "    <g>\n",
              "        <path d=\"M19 3H5c-1.1 0-2 .9-2 2v14c0 1.1.9 2 2 2h14c1.1 0 2-.9 2-2V5c0-1.1-.9-2-2-2zM9 17H7v-7h2v7zm4 0h-2V7h2v10zm4 0h-2v-4h2v4z\"/>\n",
              "    </g>\n",
              "</svg>\n",
              "  </button>\n",
              "\n",
              "<style>\n",
              "  .colab-df-quickchart {\n",
              "      --bg-color: #E8F0FE;\n",
              "      --fill-color: #1967D2;\n",
              "      --hover-bg-color: #E2EBFA;\n",
              "      --hover-fill-color: #174EA6;\n",
              "      --disabled-fill-color: #AAA;\n",
              "      --disabled-bg-color: #DDD;\n",
              "  }\n",
              "\n",
              "  [theme=dark] .colab-df-quickchart {\n",
              "      --bg-color: #3B4455;\n",
              "      --fill-color: #D2E3FC;\n",
              "      --hover-bg-color: #434B5C;\n",
              "      --hover-fill-color: #FFFFFF;\n",
              "      --disabled-bg-color: #3B4455;\n",
              "      --disabled-fill-color: #666;\n",
              "  }\n",
              "\n",
              "  .colab-df-quickchart {\n",
              "    background-color: var(--bg-color);\n",
              "    border: none;\n",
              "    border-radius: 50%;\n",
              "    cursor: pointer;\n",
              "    display: none;\n",
              "    fill: var(--fill-color);\n",
              "    height: 32px;\n",
              "    padding: 0;\n",
              "    width: 32px;\n",
              "  }\n",
              "\n",
              "  .colab-df-quickchart:hover {\n",
              "    background-color: var(--hover-bg-color);\n",
              "    box-shadow: 0 1px 2px rgba(60, 64, 67, 0.3), 0 1px 3px 1px rgba(60, 64, 67, 0.15);\n",
              "    fill: var(--button-hover-fill-color);\n",
              "  }\n",
              "\n",
              "  .colab-df-quickchart-complete:disabled,\n",
              "  .colab-df-quickchart-complete:disabled:hover {\n",
              "    background-color: var(--disabled-bg-color);\n",
              "    fill: var(--disabled-fill-color);\n",
              "    box-shadow: none;\n",
              "  }\n",
              "\n",
              "  .colab-df-spinner {\n",
              "    border: 2px solid var(--fill-color);\n",
              "    border-color: transparent;\n",
              "    border-bottom-color: var(--fill-color);\n",
              "    animation:\n",
              "      spin 1s steps(1) infinite;\n",
              "  }\n",
              "\n",
              "  @keyframes spin {\n",
              "    0% {\n",
              "      border-color: transparent;\n",
              "      border-bottom-color: var(--fill-color);\n",
              "      border-left-color: var(--fill-color);\n",
              "    }\n",
              "    20% {\n",
              "      border-color: transparent;\n",
              "      border-left-color: var(--fill-color);\n",
              "      border-top-color: var(--fill-color);\n",
              "    }\n",
              "    30% {\n",
              "      border-color: transparent;\n",
              "      border-left-color: var(--fill-color);\n",
              "      border-top-color: var(--fill-color);\n",
              "      border-right-color: var(--fill-color);\n",
              "    }\n",
              "    40% {\n",
              "      border-color: transparent;\n",
              "      border-right-color: var(--fill-color);\n",
              "      border-top-color: var(--fill-color);\n",
              "    }\n",
              "    60% {\n",
              "      border-color: transparent;\n",
              "      border-right-color: var(--fill-color);\n",
              "    }\n",
              "    80% {\n",
              "      border-color: transparent;\n",
              "      border-right-color: var(--fill-color);\n",
              "      border-bottom-color: var(--fill-color);\n",
              "    }\n",
              "    90% {\n",
              "      border-color: transparent;\n",
              "      border-bottom-color: var(--fill-color);\n",
              "    }\n",
              "  }\n",
              "</style>\n",
              "\n",
              "  <script>\n",
              "    async function quickchart(key) {\n",
              "      const quickchartButtonEl =\n",
              "        document.querySelector('#' + key + ' button');\n",
              "      quickchartButtonEl.disabled = true;  // To prevent multiple clicks.\n",
              "      quickchartButtonEl.classList.add('colab-df-spinner');\n",
              "      try {\n",
              "        const charts = await google.colab.kernel.invokeFunction(\n",
              "            'suggestCharts', [key], {});\n",
              "      } catch (error) {\n",
              "        console.error('Error during call to suggestCharts:', error);\n",
              "      }\n",
              "      quickchartButtonEl.classList.remove('colab-df-spinner');\n",
              "      quickchartButtonEl.classList.add('colab-df-quickchart-complete');\n",
              "    }\n",
              "    (() => {\n",
              "      let quickchartButtonEl =\n",
              "        document.querySelector('#df-7d8c966f-a68c-4e3c-a733-066ec57e99e3 button');\n",
              "      quickchartButtonEl.style.display =\n",
              "        google.colab.kernel.accessAllowed ? 'block' : 'none';\n",
              "    })();\n",
              "  </script>\n",
              "</div>\n",
              "\n",
              "    </div>\n",
              "  </div>\n"
            ],
            "application/vnd.google.colaboratory.intrinsic+json": {
              "type": "dataframe",
              "variable_name": "df",
              "summary": "{\n  \"name\": \"df\",\n  \"rows\": 1250,\n  \"fields\": [\n    {\n      \"column\": \"Year\",\n      \"properties\": {\n        \"dtype\": \"number\",\n        \"std\": 1,\n        \"min\": 2001,\n        \"max\": 2005,\n        \"num_unique_values\": 5,\n        \"samples\": [\n          2002,\n          2005,\n          2003\n        ],\n        \"semantic_type\": \"\",\n        \"description\": \"\"\n      }\n    },\n    {\n      \"column\": \"Lag1\",\n      \"properties\": {\n        \"dtype\": \"number\",\n        \"std\": 1.136298843714285,\n        \"min\": -4.922,\n        \"max\": 5.733,\n        \"num_unique_values\": 1044,\n        \"samples\": [\n          -0.764,\n          -0.229,\n          -1.224\n        ],\n        \"semantic_type\": \"\",\n        \"description\": \"\"\n      }\n    },\n    {\n      \"column\": \"Lag2\",\n      \"properties\": {\n        \"dtype\": \"number\",\n        \"std\": 1.136280255450433,\n        \"min\": -4.922,\n        \"max\": 5.733,\n        \"num_unique_values\": 1045,\n        \"samples\": [\n          0.251,\n          0.339,\n          1.327\n        ],\n        \"semantic_type\": \"\",\n        \"description\": \"\"\n      }\n    },\n    {\n      \"column\": \"Lag3\",\n      \"properties\": {\n        \"dtype\": \"number\",\n        \"std\": 1.1387029570891554,\n        \"min\": -4.922,\n        \"max\": 5.733,\n        \"num_unique_values\": 1045,\n        \"samples\": [\n          -0.095,\n          0.585,\n          -0.325\n        ],\n        \"semantic_type\": \"\",\n        \"description\": \"\"\n      }\n    },\n    {\n      \"column\": \"Lag4\",\n      \"properties\": {\n        \"dtype\": \"number\",\n        \"std\": 1.1387737359112557,\n        \"min\": -4.922,\n        \"max\": 5.733,\n        \"num_unique_values\": 1044,\n        \"samples\": [\n          0.074,\n          0.585,\n          0.646\n        ],\n        \"semantic_type\": \"\",\n        \"description\": \"\"\n      }\n    },\n    {\n      \"column\": \"Lag5\",\n      \"properties\": {\n        \"dtype\": \"number\",\n        \"std\": 1.1475502097838772,\n        \"min\": -4.922,\n        \"max\": 5.733,\n        \"num_unique_values\": 1044,\n        \"samples\": [\n          0.71,\n          -0.45,\n          -1.4\n        ],\n        \"semantic_type\": \"\",\n        \"description\": \"\"\n      }\n    },\n    {\n      \"column\": \"Volume\",\n      \"properties\": {\n        \"dtype\": \"number\",\n        \"std\": 0.36035708901260854,\n        \"min\": 0.35607,\n        \"max\": 3.15247,\n        \"num_unique_values\": 1181,\n        \"samples\": [\n          1.5457,\n          1.68198,\n          1.77604\n        ],\n        \"semantic_type\": \"\",\n        \"description\": \"\"\n      }\n    },\n    {\n      \"column\": \"Today\",\n      \"properties\": {\n        \"dtype\": \"number\",\n        \"std\": 1.1363340826373771,\n        \"min\": -4.922,\n        \"max\": 5.733,\n        \"num_unique_values\": 1044,\n        \"samples\": [\n          -0.268,\n          -0.986,\n          1.554\n        ],\n        \"semantic_type\": \"\",\n        \"description\": \"\"\n      }\n    },\n    {\n      \"column\": \"Direction\",\n      \"properties\": {\n        \"dtype\": \"category\",\n        \"num_unique_values\": 2,\n        \"samples\": [\n          \"Down\",\n          \"Up\"\n        ],\n        \"semantic_type\": \"\",\n        \"description\": \"\"\n      }\n    }\n  ]\n}"
            }
          },
          "metadata": {},
          "execution_count": 94
        }
      ]
    },
    {
      "cell_type": "code",
      "source": [
        "df.info()"
      ],
      "metadata": {
        "colab": {
          "base_uri": "https://localhost:8080/"
        },
        "id": "pS98mr_IkJpx",
        "outputId": "cdd042fc-c543-48b1-802f-39366b16837b"
      },
      "execution_count": null,
      "outputs": [
        {
          "output_type": "stream",
          "name": "stdout",
          "text": [
            "<class 'pandas.core.frame.DataFrame'>\n",
            "Index: 1250 entries, 1 to 1250\n",
            "Data columns (total 9 columns):\n",
            " #   Column     Non-Null Count  Dtype  \n",
            "---  ------     --------------  -----  \n",
            " 0   Year       1250 non-null   int64  \n",
            " 1   Lag1       1250 non-null   float64\n",
            " 2   Lag2       1250 non-null   float64\n",
            " 3   Lag3       1250 non-null   float64\n",
            " 4   Lag4       1250 non-null   float64\n",
            " 5   Lag5       1250 non-null   float64\n",
            " 6   Volume     1250 non-null   float64\n",
            " 7   Today      1250 non-null   float64\n",
            " 8   Direction  1250 non-null   object \n",
            "dtypes: float64(7), int64(1), object(1)\n",
            "memory usage: 97.7+ KB\n"
          ]
        }
      ]
    },
    {
      "cell_type": "code",
      "source": [
        "df['Direction'] = df['Direction'].astype(\"category\") #or stock.Direction = stock.Direction.astype(\"category\")\n",
        "df.info() #int and float equals cont so should work fine"
      ],
      "metadata": {
        "colab": {
          "base_uri": "https://localhost:8080/"
        },
        "id": "pNoKLRQbkRIR",
        "outputId": "9f5a6aba-d0c0-403c-8853-e7f95e51cf09"
      },
      "execution_count": null,
      "outputs": [
        {
          "output_type": "stream",
          "name": "stdout",
          "text": [
            "<class 'pandas.core.frame.DataFrame'>\n",
            "Index: 1250 entries, 1 to 1250\n",
            "Data columns (total 9 columns):\n",
            " #   Column     Non-Null Count  Dtype   \n",
            "---  ------     --------------  -----   \n",
            " 0   Year       1250 non-null   int64   \n",
            " 1   Lag1       1250 non-null   float64 \n",
            " 2   Lag2       1250 non-null   float64 \n",
            " 3   Lag3       1250 non-null   float64 \n",
            " 4   Lag4       1250 non-null   float64 \n",
            " 5   Lag5       1250 non-null   float64 \n",
            " 6   Volume     1250 non-null   float64 \n",
            " 7   Today      1250 non-null   float64 \n",
            " 8   Direction  1250 non-null   category\n",
            "dtypes: category(1), float64(7), int64(1)\n",
            "memory usage: 89.2 KB\n"
          ]
        }
      ]
    },
    {
      "cell_type": "code",
      "source": [
        "from sklearn.linear_model import LogisticRegression #traditionally it is a bin classfn model but it can be extended to multiple classfn as well\n",
        "#One-vs-Rest (OvR) , Multinomial Logistic Regression (Softmax Regression)\n",
        "#Multinomial Logistic Regression (Softmax Regression): This approach uses the softmax function to calculate the probabilities for multiple classes, ensuring that the predicted probabilities sum to 1 and max prob is chosen.\n",
        "#One-vs-Rest (OvR): This strategy trains a separate binary logistic regression model for each class, treating that class as positive and all others as negative.y = df['Direction'] # y = stock.direction\n",
        "from sklearn.metrics import ConfusionMatrixDisplay, zero_one_loss\n",
        "\n",
        "#X=df.drop(['Direction'],axis=1)\n",
        "X = df.drop(columns=['Direction']) #df will remain unchanged\n",
        "#should drop today expla below\n",
        "#print(X)\n",
        "#print(y)\n",
        "logreg = LogisticRegression(max_iter=200)\n",
        "logreg.fit(X,y)\n",
        "ypred=logreg.predict(X)\n",
        "\n",
        "misclf=zero_one_loss(y,ypred)\n",
        "print(\"misclf = {}\".format(misclf))\n",
        "\n",
        "ConfusionMatrixDisplay.from_predictions(y,ypred)\n",
        "plt.show()\n",
        "\n",
        "#can calculate f1 score , recall from confusion matrix but can find it through SKLEARN.METRICS https://scikit-learn.org/stable/modules/model_evaluation.html"
      ],
      "metadata": {
        "colab": {
          "base_uri": "https://localhost:8080/",
          "height": 466
        },
        "id": "4zZo7HExwTX2",
        "outputId": "3b05e1ee-3593-46f1-a90f-c6c7f4b724c6"
      },
      "execution_count": null,
      "outputs": [
        {
          "output_type": "stream",
          "name": "stdout",
          "text": [
            "misclf = 0.005600000000000049\n"
          ]
        },
        {
          "output_type": "display_data",
          "data": {
            "text/plain": [
              "<Figure size 640x480 with 2 Axes>"
            ],
            "image/png": "[encoded data removed]"
          },
          "metadata": {}
        }
      ]
    },
    {
      "cell_type": "code",
      "source": [
        "from sklearn.linear_model import LogisticRegression #traditionally it is a bin classfn model but it can be extended to multiple classfn as well\n",
        "#One-vs-Rest (OvR) , Multinomial Logistic Regression (Softmax Regression)\n",
        "#Multinomial Logistic Regression (Softmax Regression): This approach uses the softmax function to calculate the probabilities for multiple classes, ensuring that the predicted probabilities sum to 1 and max prob is chosen.\n",
        "#One-vs-Rest (OvR): This strategy trains a separate binary logistic regression model for each class, treating that class as positive and all others as negative.y = df['Direction'] # y = stock.direction\n",
        "from sklearn.metrics import ConfusionMatrixDisplay, zero_one_loss\n",
        "\n",
        "#X=df.drop(['Direction'],axis=1)\n",
        "X = df.drop(columns=['Today','Direction']) #df will remain unchanged\n",
        "#should drop today expla below\n",
        "#print(X)\n",
        "#print(y)\n",
        "logreg = LogisticRegression(max_iter=200)\n",
        "logreg.fit(X,y)\n",
        "ypred=logreg.predict(X)\n",
        "\n",
        "misclf=zero_one_loss(y,ypred)\n",
        "print(\"misclf = {}\".format(misclf))\n",
        "\n",
        "ConfusionMatrixDisplay.from_predictions(y,ypred)\n",
        "plt.show()\n",
        "\n",
        "#can calculate f1 score , recall from confusion matrix but can find it through SKLEARN.METRICS https://scikit-learn.org/stable/modules/model_evaluation.html"
      ],
      "metadata": {
        "colab": {
          "base_uri": "https://localhost:8080/",
          "height": 466
        },
        "id": "q99ZDhxcwmvW",
        "outputId": "78067c3d-6147-48e5-8ba2-09fba9d54e69"
      },
      "execution_count": null,
      "outputs": [
        {
          "output_type": "stream",
          "name": "stdout",
          "text": [
            "misclf = 0.47919999999999996\n"
          ]
        },
        {
          "output_type": "display_data",
          "data": {
            "text/plain": [
              "<Figure size 640x480 with 2 Axes>"
            ],
            "image/png": "[encoded data removed]"
          },
          "metadata": {}
        }
      ]
    },
    {
      "cell_type": "code",
      "source": [
        "print(logreg.coef_)"
      ],
      "metadata": {
        "colab": {
          "base_uri": "https://localhost:8080/"
        },
        "id": "w1uXF6B9tZmi",
        "outputId": "b722c3c0-bda5-4b20-c120-08c73a763762"
      },
      "execution_count": null,
      "outputs": [
        {
          "output_type": "stream",
          "name": "stdout",
          "text": [
            "[[-5.92443787e-05 -7.28322791e-02 -4.22419843e-02  1.10046804e-02\n",
            "   9.28065329e-03  1.02591781e-02  1.31233147e-01]]\n"
          ]
        }
      ]
    },
    {
      "cell_type": "code",
      "source": [
        "df.columns"
      ],
      "metadata": {
        "colab": {
          "base_uri": "https://localhost:8080/"
        },
        "id": "bR1K3Wp7trXa",
        "outputId": "e8b8e41a-5527-4d67-e688-efbf409a50a5"
      },
      "execution_count": null,
      "outputs": [
        {
          "output_type": "execute_result",
          "data": {
            "text/plain": [
              "Index(['Year', 'Lag1', 'Lag2', 'Lag3', 'Lag4', 'Lag5', 'Volume', 'Today',\n",
              "       'Direction'],\n",
              "      dtype='object')"
            ]
          },
          "metadata": {},
          "execution_count": 92
        }
      ]
    },
    {
      "cell_type": "markdown",
      "source": [
        "True Negative - true-down and predicted is down too | False postive\n",
        "\n",
        "False negative | True Positive\n",
        "\n",
        "Misclf rate = 9/\n",
        "\n",
        "too good to be true because today column is highly correlated to outcome direction should drop today because it doesnt make sense coz today direction AND today price ? and if it is negative then it has gone down like it is obv"
      ],
      "metadata": {
        "id": "PLXvTbf_qsfn"
      }
    },
    {
      "cell_type": "markdown",
      "source": [
        "More down pred than up pred"
      ],
      "metadata": {
        "id": "FGpWXPUltGlK"
      }
    },
    {
      "cell_type": "code",
      "source": [
        "Here we can either as choice of metrics calculate accuracy using accuarcy_score or misclassification using"
      ],
      "metadata": {
        "id": "xx2yI9IgpYt-"
      },
      "execution_count": null,
      "outputs": []
    },
    {
      "cell_type": "markdown",
      "source": [
        "PRAC 2"
      ],
      "metadata": {
        "id": "BJkJ1LzIftZj"
      }
    },
    {
      "cell_type": "code",
      "source": [
        "X = stock.drop(columns=[\"Today\",\"Direction\"])\n",
        "Y=stock.Direction\n",
        "\n",
        "X_train = X[X.Year<2005]\n",
        "Y_train = Y[Y.Year<2005]\n",
        "X_test = X.[X.Year==2005]\n",
        "Y_test=Y.[X.Year==2005]\n",
        "\n",
        "lofreg = LogisticRegression()\n",
        "logreg.fit(X_train, Y_train)\n",
        "\n",
        "Y_pred = logreg.predict(X_test)\n",
        "misclf=zero_one_loss(y,ypred)\n",
        "print(\"misclf = {}\".format(misclf))\n",
        "\n",
        "ConfusionMatrixDisplay.from_predictions(y,ypred)\n",
        "plt.show()"
      ],
      "metadata": {
        "id": "bsjTMwHEdwXt"
      },
      "execution_count": null,
      "outputs": []
    },
    {
      "cell_type": "markdown",
      "source": [
        "Gen error notacceptable"
      ],
      "metadata": {
        "id": "A9EZ4qI3e5wo"
      }
    },
    {
      "cell_type": "code",
      "source": [
        "X = stock.drop(columns=[\"Lag5\",\"Volume\",\"Lag3\",\"Lag4\",\"Today\",\"Direction\"])\n",
        "Y=stock.Direction\n",
        "\n",
        "X_train = X[X.Year<2005]\n",
        "Y_train = Y[Y.Year<2005]\n",
        "X_test = X[X.Year==2005]\n",
        "Y_test=Y[X.Year==2005]\n",
        "\n",
        "lofreg = LogisticRegression()\n",
        "logreg.fit(X_train, Y_train)\n",
        "\n",
        "Y_pred = logreg.predict(X_test)\n",
        "misclf=zero_one_loss(y,ypred)\n",
        "print(\"misclf = {}\".format(misclf))\n",
        "\n",
        "ConfusionMatrixDisplay.from_predictions(y,ypred)\n",
        "plt.show()"
      ],
      "metadata": {
        "id": "2C5cbMz8elPx"
      },
      "execution_count": null,
      "outputs": []
    },
    {
      "cell_type": "markdown",
      "source": [
        "Gen error somewhat acceptable 44.047%"
      ],
      "metadata": {
        "id": "TJuRlxR6e1lo"
      }
    },
    {
      "cell_type": "code",
      "source": [
        "import pandas as pd\n",
        "\n",
        "crx = pd.read_csv(\"crx.data.csv\")\n",
        "crx.head()"
      ],
      "metadata": {
        "colab": {
          "base_uri": "https://localhost:8080/",
          "height": 206
        },
        "id": "O1dZe3RZfLOK",
        "outputId": "2dd0a09c-d43d-4a33-da7f-580c1b1ad384"
      },
      "execution_count": null,
      "outputs": [
        {
          "output_type": "execute_result",
          "data": {
            "text/plain": [
              "  A1     A2     A3 A4 A5 A6 A7    A8 A9 A10  A11 A12 A13  A14  A15 A16\n",
              "0  b  30.83  0.000  u  g  w  v  1.25  t   t    1   f   g  202    0   +\n",
              "1  a  58.67  4.460  u  g  q  h  3.04  t   t    6   f   g   43  560   +\n",
              "2  a   24.5  0.500  u  g  q  h  1.50  t   f    0   f   g  280  824   +\n",
              "3  b  27.83  1.540  u  g  w  v  3.75  t   t    5   t   g  100    3   +\n",
              "4  b  20.17  5.625  u  g  w  v  1.71  t   f    0   f   s  120    0   +"
            ],
            "text/html": [
              "\n",
              "  <div id=\"df-1c1dc6b3-2922-484c-941e-d6339dda2593\" class=\"colab-df-container\">\n",
              "    <div>\n",
              "<style scoped>\n",
              "    .dataframe tbody tr th:only-of-type {\n",
              "        vertical-align: middle;\n",
              "    }\n",
              "\n",
              "    .dataframe tbody tr th {\n",
              "        vertical-align: top;\n",
              "    }\n",
              "\n",
              "    .dataframe thead th {\n",
              "        text-align: right;\n",
              "    }\n",
              "</style>\n",
              "<table border=\"1\" class=\"dataframe\">\n",
              "  <thead>\n",
              "    <tr style=\"text-align: right;\">\n",
              "      <th></th>\n",
              "      <th>A1</th>\n",
              "      <th>A2</th>\n",
              "      <th>A3</th>\n",
              "      <th>A4</th>\n",
              "      <th>A5</th>\n",
              "      <th>A6</th>\n",
              "      <th>A7</th>\n",
              "      <th>A8</th>\n",
              "      <th>A9</th>\n",
              "      <th>A10</th>\n",
              "      <th>A11</th>\n",
              "      <th>A12</th>\n",
              "      <th>A13</th>\n",
              "      <th>A14</th>\n",
              "      <th>A15</th>\n",
              "      <th>A16</th>\n",
              "    </tr>\n",
              "  </thead>\n",
              "  <tbody>\n",
              "    <tr>\n",
              "      <th>0</th>\n",
              "      <td>b</td>\n",
              "      <td>30.83</td>\n",
              "      <td>0.000</td>\n",
              "      <td>u</td>\n",
              "      <td>g</td>\n",
              "      <td>w</td>\n",
              "      <td>v</td>\n",
              "      <td>1.25</td>\n",
              "      <td>t</td>\n",
              "      <td>t</td>\n",
              "      <td>1</td>\n",
              "      <td>f</td>\n",
              "      <td>g</td>\n",
              "      <td>202</td>\n",
              "      <td>0</td>\n",
              "      <td>+</td>\n",
              "    </tr>\n",
              "    <tr>\n",
              "      <th>1</th>\n",
              "      <td>a</td>\n",
              "      <td>58.67</td>\n",
              "      <td>4.460</td>\n",
              "      <td>u</td>\n",
              "      <td>g</td>\n",
              "      <td>q</td>\n",
              "      <td>h</td>\n",
              "      <td>3.04</td>\n",
              "      <td>t</td>\n",
              "      <td>t</td>\n",
              "      <td>6</td>\n",
              "      <td>f</td>\n",
              "      <td>g</td>\n",
              "      <td>43</td>\n",
              "      <td>560</td>\n",
              "      <td>+</td>\n",
              "    </tr>\n",
              "    <tr>\n",
              "      <th>2</th>\n",
              "      <td>a</td>\n",
              "      <td>24.5</td>\n",
              "      <td>0.500</td>\n",
              "      <td>u</td>\n",
              "      <td>g</td>\n",
              "      <td>q</td>\n",
              "      <td>h</td>\n",
              "      <td>1.50</td>\n",
              "      <td>t</td>\n",
              "      <td>f</td>\n",
              "      <td>0</td>\n",
              "      <td>f</td>\n",
              "      <td>g</td>\n",
              "      <td>280</td>\n",
              "      <td>824</td>\n",
              "      <td>+</td>\n",
              "    </tr>\n",
              "    <tr>\n",
              "      <th>3</th>\n",
              "      <td>b</td>\n",
              "      <td>27.83</td>\n",
              "      <td>1.540</td>\n",
              "      <td>u</td>\n",
              "      <td>g</td>\n",
              "      <td>w</td>\n",
              "      <td>v</td>\n",
              "      <td>3.75</td>\n",
              "      <td>t</td>\n",
              "      <td>t</td>\n",
              "      <td>5</td>\n",
              "      <td>t</td>\n",
              "      <td>g</td>\n",
              "      <td>100</td>\n",
              "      <td>3</td>\n",
              "      <td>+</td>\n",
              "    </tr>\n",
              "    <tr>\n",
              "      <th>4</th>\n",
              "      <td>b</td>\n",
              "      <td>20.17</td>\n",
              "      <td>5.625</td>\n",
              "      <td>u</td>\n",
              "      <td>g</td>\n",
              "      <td>w</td>\n",
              "      <td>v</td>\n",
              "      <td>1.71</td>\n",
              "      <td>t</td>\n",
              "      <td>f</td>\n",
              "      <td>0</td>\n",
              "      <td>f</td>\n",
              "      <td>s</td>\n",
              "      <td>120</td>\n",
              "      <td>0</td>\n",
              "      <td>+</td>\n",
              "    </tr>\n",
              "  </tbody>\n",
              "</table>\n",
              "</div>\n",
              "    <div class=\"colab-df-buttons\">\n",
              "\n",
              "  <div class=\"colab-df-container\">\n",
              "    <button class=\"colab-df-convert\" onclick=\"convertToInteractive('df-1c1dc6b3-2922-484c-941e-d6339dda2593')\"\n",
              "            title=\"Convert this dataframe to an interactive table.\"\n",
              "            style=\"display:none;\">\n",
              "\n",
              "  <svg xmlns=\"http://www.w3.org/2000/svg\" height=\"24px\" viewBox=\"0 -960 960 960\">\n",
              "    <path d=\"M120-120v-720h720v720H120Zm60-500h600v-160H180v160Zm220 220h160v-160H400v160Zm0 220h160v-160H400v160ZM180-400h160v-160H180v160Zm440 0h160v-160H620v160ZM180-180h160v-160H180v160Zm440 0h160v-160H620v160Z\"/>\n",
              "  </svg>\n",
              "    </button>\n",
              "\n",
              "  <style>\n",
              "    .colab-df-container {\n",
              "      display:flex;\n",
              "      gap: 12px;\n",
              "    }\n",
              "\n",
              "    .colab-df-convert {\n",
              "      background-color: #E8F0FE;\n",
              "      border: none;\n",
              "      border-radius: 50%;\n",
              "      cursor: pointer;\n",
              "      display: none;\n",
              "      fill: #1967D2;\n",
              "      height: 32px;\n",
              "      padding: 0 0 0 0;\n",
              "      width: 32px;\n",
              "    }\n",
              "\n",
              "    .colab-df-convert:hover {\n",
              "      background-color: #E2EBFA;\n",
              "      box-shadow: 0px 1px 2px rgba(60, 64, 67, 0.3), 0px 1px 3px 1px rgba(60, 64, 67, 0.15);\n",
              "      fill: #174EA6;\n",
              "    }\n",
              "\n",
              "    .colab-df-buttons div {\n",
              "      margin-bottom: 4px;\n",
              "    }\n",
              "\n",
              "    [theme=dark] .colab-df-convert {\n",
              "      background-color: #3B4455;\n",
              "      fill: #D2E3FC;\n",
              "    }\n",
              "\n",
              "    [theme=dark] .colab-df-convert:hover {\n",
              "      background-color: #434B5C;\n",
              "      box-shadow: 0px 1px 3px 1px rgba(0, 0, 0, 0.15);\n",
              "      filter: drop-shadow(0px 1px 2px rgba(0, 0, 0, 0.3));\n",
              "      fill: #FFFFFF;\n",
              "    }\n",
              "  </style>\n",
              "\n",
              "    <script>\n",
              "      const buttonEl =\n",
              "        document.querySelector('#df-1c1dc6b3-2922-484c-941e-d6339dda2593 button.colab-df-convert');\n",
              "      buttonEl.style.display =\n",
              "        google.colab.kernel.accessAllowed ? 'block' : 'none';\n",
              "\n",
              "      async function convertToInteractive(key) {\n",
              "        const element = document.querySelector('#df-1c1dc6b3-2922-484c-941e-d6339dda2593');\n",
              "        const dataTable =\n",
              "          await google.colab.kernel.invokeFunction('convertToInteractive',\n",
              "                                                    [key], {});\n",
              "        if (!dataTable) return;\n",
              "\n",
              "        const docLinkHtml = 'Like what you see? Visit the ' +\n",
              "          '<a target=\"_blank\" href=https://colab.research.google.com/notebooks/data_table.ipynb>data table notebook</a>'\n",
              "          + ' to learn more about interactive tables.';\n",
              "        element.innerHTML = '';\n",
              "        dataTable['output_type'] = 'display_data';\n",
              "        await google.colab.output.renderOutput(dataTable, element);\n",
              "        const docLink = document.createElement('div');\n",
              "        docLink.innerHTML = docLinkHtml;\n",
              "        element.appendChild(docLink);\n",
              "      }\n",
              "    </script>\n",
              "  </div>\n",
              "\n",
              "\n",
              "<div id=\"df-13ba5a6b-4aca-4ab4-bdb9-d2c816398f0f\">\n",
              "  <button class=\"colab-df-quickchart\" onclick=\"quickchart('df-13ba5a6b-4aca-4ab4-bdb9-d2c816398f0f')\"\n",
              "            title=\"Suggest charts\"\n",
              "            style=\"display:none;\">\n",
              "\n",
              "<svg xmlns=\"http://www.w3.org/2000/svg\" height=\"24px\"viewBox=\"0 0 24 24\"\n",
              "     width=\"24px\">\n",
              "    <g>\n",
              "        <path d=\"M19 3H5c-1.1 0-2 .9-2 2v14c0 1.1.9 2 2 2h14c1.1 0 2-.9 2-2V5c0-1.1-.9-2-2-2zM9 17H7v-7h2v7zm4 0h-2V7h2v10zm4 0h-2v-4h2v4z\"/>\n",
              "    </g>\n",
              "</svg>\n",
              "  </button>\n",
              "\n",
              "<style>\n",
              "  .colab-df-quickchart {\n",
              "      --bg-color: #E8F0FE;\n",
              "      --fill-color: #1967D2;\n",
              "      --hover-bg-color: #E2EBFA;\n",
              "      --hover-fill-color: #174EA6;\n",
              "      --disabled-fill-color: #AAA;\n",
              "      --disabled-bg-color: #DDD;\n",
              "  }\n",
              "\n",
              "  [theme=dark] .colab-df-quickchart {\n",
              "      --bg-color: #3B4455;\n",
              "      --fill-color: #D2E3FC;\n",
              "      --hover-bg-color: #434B5C;\n",
              "      --hover-fill-color: #FFFFFF;\n",
              "      --disabled-bg-color: #3B4455;\n",
              "      --disabled-fill-color: #666;\n",
              "  }\n",
              "\n",
              "  .colab-df-quickchart {\n",
              "    background-color: var(--bg-color);\n",
              "    border: none;\n",
              "    border-radius: 50%;\n",
              "    cursor: pointer;\n",
              "    display: none;\n",
              "    fill: var(--fill-color);\n",
              "    height: 32px;\n",
              "    padding: 0;\n",
              "    width: 32px;\n",
              "  }\n",
              "\n",
              "  .colab-df-quickchart:hover {\n",
              "    background-color: var(--hover-bg-color);\n",
              "    box-shadow: 0 1px 2px rgba(60, 64, 67, 0.3), 0 1px 3px 1px rgba(60, 64, 67, 0.15);\n",
              "    fill: var(--button-hover-fill-color);\n",
              "  }\n",
              "\n",
              "  .colab-df-quickchart-complete:disabled,\n",
              "  .colab-df-quickchart-complete:disabled:hover {\n",
              "    background-color: var(--disabled-bg-color);\n",
              "    fill: var(--disabled-fill-color);\n",
              "    box-shadow: none;\n",
              "  }\n",
              "\n",
              "  .colab-df-spinner {\n",
              "    border: 2px solid var(--fill-color);\n",
              "    border-color: transparent;\n",
              "    border-bottom-color: var(--fill-color);\n",
              "    animation:\n",
              "      spin 1s steps(1) infinite;\n",
              "  }\n",
              "\n",
              "  @keyframes spin {\n",
              "    0% {\n",
              "      border-color: transparent;\n",
              "      border-bottom-color: var(--fill-color);\n",
              "      border-left-color: var(--fill-color);\n",
              "    }\n",
              "    20% {\n",
              "      border-color: transparent;\n",
              "      border-left-color: var(--fill-color);\n",
              "      border-top-color: var(--fill-color);\n",
              "    }\n",
              "    30% {\n",
              "      border-color: transparent;\n",
              "      border-left-color: var(--fill-color);\n",
              "      border-top-color: var(--fill-color);\n",
              "      border-right-color: var(--fill-color);\n",
              "    }\n",
              "    40% {\n",
              "      border-color: transparent;\n",
              "      border-right-color: var(--fill-color);\n",
              "      border-top-color: var(--fill-color);\n",
              "    }\n",
              "    60% {\n",
              "      border-color: transparent;\n",
              "      border-right-color: var(--fill-color);\n",
              "    }\n",
              "    80% {\n",
              "      border-color: transparent;\n",
              "      border-right-color: var(--fill-color);\n",
              "      border-bottom-color: var(--fill-color);\n",
              "    }\n",
              "    90% {\n",
              "      border-color: transparent;\n",
              "      border-bottom-color: var(--fill-color);\n",
              "    }\n",
              "  }\n",
              "</style>\n",
              "\n",
              "  <script>\n",
              "    async function quickchart(key) {\n",
              "      const quickchartButtonEl =\n",
              "        document.querySelector('#' + key + ' button');\n",
              "      quickchartButtonEl.disabled = true;  // To prevent multiple clicks.\n",
              "      quickchartButtonEl.classList.add('colab-df-spinner');\n",
              "      try {\n",
              "        const charts = await google.colab.kernel.invokeFunction(\n",
              "            'suggestCharts', [key], {});\n",
              "      } catch (error) {\n",
              "        console.error('Error during call to suggestCharts:', error);\n",
              "      }\n",
              "      quickchartButtonEl.classList.remove('colab-df-spinner');\n",
              "      quickchartButtonEl.classList.add('colab-df-quickchart-complete');\n",
              "    }\n",
              "    (() => {\n",
              "      let quickchartButtonEl =\n",
              "        document.querySelector('#df-13ba5a6b-4aca-4ab4-bdb9-d2c816398f0f button');\n",
              "      quickchartButtonEl.style.display =\n",
              "        google.colab.kernel.accessAllowed ? 'block' : 'none';\n",
              "    })();\n",
              "  </script>\n",
              "</div>\n",
              "\n",
              "    </div>\n",
              "  </div>\n"
            ],
            "application/vnd.google.colaboratory.intrinsic+json": {
              "type": "dataframe",
              "variable_name": "crx",
              "summary": "{\n  \"name\": \"crx\",\n  \"rows\": 690,\n  \"fields\": [\n    {\n      \"column\": \"A1\",\n      \"properties\": {\n        \"dtype\": \"category\",\n        \"num_unique_values\": 3,\n        \"samples\": [\n          \"b\",\n          \"a\",\n          \"?\"\n        ],\n        \"semantic_type\": \"\",\n        \"description\": \"\"\n      }\n    },\n    {\n      \"column\": \"A2\",\n      \"properties\": {\n        \"dtype\": \"string\",\n        \"num_unique_values\": 350,\n        \"samples\": [\n          \"41.75\",\n          \"35.58\",\n          \"51.33\"\n        ],\n        \"semantic_type\": \"\",\n        \"description\": \"\"\n      }\n    },\n    {\n      \"column\": \"A3\",\n      \"properties\": {\n        \"dtype\": \"number\",\n        \"std\": 4.978163248528541,\n        \"min\": 0.0,\n        \"max\": 28.0,\n        \"num_unique_values\": 215,\n        \"samples\": [\n          10.415,\n          3.29,\n          0.165\n        ],\n        \"semantic_type\": \"\",\n        \"description\": \"\"\n      }\n    },\n    {\n      \"column\": \"A4\",\n      \"properties\": {\n        \"dtype\": \"category\",\n        \"num_unique_values\": 4,\n        \"samples\": [\n          \"y\",\n          \"l\",\n          \"u\"\n        ],\n        \"semantic_type\": \"\",\n        \"description\": \"\"\n      }\n    },\n    {\n      \"column\": \"A5\",\n      \"properties\": {\n        \"dtype\": \"category\",\n        \"num_unique_values\": 4,\n        \"samples\": [\n          \"p\",\n          \"gg\",\n          \"g\"\n        ],\n        \"semantic_type\": \"\",\n        \"description\": \"\"\n      }\n    },\n    {\n      \"column\": \"A6\",\n      \"properties\": {\n        \"dtype\": \"category\",\n        \"num_unique_values\": 15,\n        \"samples\": [\n          \"i\",\n          \"aa\",\n          \"w\"\n        ],\n        \"semantic_type\": \"\",\n        \"description\": \"\"\n      }\n    },\n    {\n      \"column\": \"A7\",\n      \"properties\": {\n        \"dtype\": \"category\",\n        \"num_unique_values\": 10,\n        \"samples\": [\n          \"dd\",\n          \"h\",\n          \"z\"\n        ],\n        \"semantic_type\": \"\",\n        \"description\": \"\"\n      }\n    },\n    {\n      \"column\": \"A8\",\n      \"properties\": {\n        \"dtype\": \"number\",\n        \"std\": 3.3465133592781333,\n        \"min\": 0.0,\n        \"max\": 28.5,\n        \"num_unique_values\": 132,\n        \"samples\": [\n          13.5,\n          2.375,\n          0.835\n        ],\n        \"semantic_type\": \"\",\n        \"description\": \"\"\n      }\n    },\n    {\n      \"column\": \"A9\",\n      \"properties\": {\n        \"dtype\": \"category\",\n        \"num_unique_values\": 2,\n        \"samples\": [\n          \"f\",\n          \"t\"\n        ],\n        \"semantic_type\": \"\",\n        \"description\": \"\"\n      }\n    },\n    {\n      \"column\": \"A10\",\n      \"properties\": {\n        \"dtype\": \"category\",\n        \"num_unique_values\": 2,\n        \"samples\": [\n          \"f\",\n          \"t\"\n        ],\n        \"semantic_type\": \"\",\n        \"description\": \"\"\n      }\n    },\n    {\n      \"column\": \"A11\",\n      \"properties\": {\n        \"dtype\": \"number\",\n        \"std\": 4,\n        \"min\": 0,\n        \"max\": 67,\n        \"num_unique_values\": 23,\n        \"samples\": [\n          23,\n          9\n        ],\n        \"semantic_type\": \"\",\n        \"description\": \"\"\n      }\n    },\n    {\n      \"column\": \"A12\",\n      \"properties\": {\n        \"dtype\": \"category\",\n        \"num_unique_values\": 2,\n        \"samples\": [\n          \"t\",\n          \"f\"\n        ],\n        \"semantic_type\": \"\",\n        \"description\": \"\"\n      }\n    },\n    {\n      \"column\": \"A13\",\n      \"properties\": {\n        \"dtype\": \"category\",\n        \"num_unique_values\": 3,\n        \"samples\": [\n          \"g\",\n          \"s\"\n        ],\n        \"semantic_type\": \"\",\n        \"description\": \"\"\n      }\n    },\n    {\n      \"column\": \"A14\",\n      \"properties\": {\n        \"dtype\": \"category\",\n        \"num_unique_values\": 171,\n        \"samples\": [\n          \"136\",\n          \"212\"\n        ],\n        \"semantic_type\": \"\",\n        \"description\": \"\"\n      }\n    },\n    {\n      \"column\": \"A15\",\n      \"properties\": {\n        \"dtype\": \"number\",\n        \"std\": 5210,\n        \"min\": 0,\n        \"max\": 100000,\n        \"num_unique_values\": 240,\n        \"samples\": [\n          100,\n          314\n        ],\n        \"semantic_type\": \"\",\n        \"description\": \"\"\n      }\n    },\n    {\n      \"column\": \"A16\",\n      \"properties\": {\n        \"dtype\": \"category\",\n        \"num_unique_values\": 2,\n        \"samples\": [\n          \"-\",\n          \"+\"\n        ],\n        \"semantic_type\": \"\",\n        \"description\": \"\"\n      }\n    }\n  ]\n}"
            }
          },
          "metadata": {},
          "execution_count": 18
        }
      ]
    },
    {
      "cell_type": "code",
      "source": [
        "crx.info() #open blackboard crx.names.txt which has further info\n",
        "# that are cont - numeric and categories are also listed"
      ],
      "metadata": {
        "colab": {
          "base_uri": "https://localhost:8080/"
        },
        "id": "rZ9-gGHVfXQi",
        "outputId": "445ce2f3-5f1e-40d0-f74c-e550312c1771"
      },
      "execution_count": null,
      "outputs": [
        {
          "output_type": "stream",
          "name": "stdout",
          "text": [
            "<class 'pandas.core.frame.DataFrame'>\n",
            "RangeIndex: 690 entries, 0 to 689\n",
            "Data columns (total 16 columns):\n",
            " #   Column  Non-Null Count  Dtype  \n",
            "---  ------  --------------  -----  \n",
            " 0   A1      690 non-null    object \n",
            " 1   A2      690 non-null    object \n",
            " 2   A3      690 non-null    float64\n",
            " 3   A4      690 non-null    object \n",
            " 4   A5      690 non-null    object \n",
            " 5   A6      690 non-null    object \n",
            " 6   A7      690 non-null    object \n",
            " 7   A8      690 non-null    float64\n",
            " 8   A9      690 non-null    object \n",
            " 9   A10     690 non-null    object \n",
            " 10  A11     690 non-null    int64  \n",
            " 11  A12     690 non-null    object \n",
            " 12  A13     690 non-null    object \n",
            " 13  A14     690 non-null    object \n",
            " 14  A15     690 non-null    int64  \n",
            " 15  A16     690 non-null    object \n",
            "dtypes: float64(2), int64(2), object(12)\n",
            "memory usage: 86.4+ KB\n"
          ]
        }
      ]
    },
    {
      "cell_type": "code",
      "source": [
        "print(crx.A1.unique())"
      ],
      "metadata": {
        "colab": {
          "base_uri": "https://localhost:8080/"
        },
        "id": "0-vRAlkogH48",
        "outputId": "d44c8765-c6ac-411f-95e3-fe69f782713d"
      },
      "execution_count": null,
      "outputs": [
        {
          "output_type": "stream",
          "name": "stdout",
          "text": [
            "['b' 'a' '?']\n"
          ]
        }
      ]
    },
    {
      "cell_type": "markdown",
      "source": [
        "Here, missing vals are rep by ? so convert \"?\" to na and use dropna"
      ],
      "metadata": {
        "id": "GmTX_VoAgMJ0"
      }
    },
    {
      "cell_type": "code",
      "source": [
        "import numpy as np\n",
        "crx=crx.replace(\"?\", np.nan).dropna()"
      ],
      "metadata": {
        "id": "fCYNAhxyfkFL"
      },
      "execution_count": null,
      "outputs": []
    },
    {
      "cell_type": "code",
      "source": [
        "print(crx) #note now rows is down to 653"
      ],
      "metadata": {
        "colab": {
          "base_uri": "https://localhost:8080/"
        },
        "id": "vFnCUOpIf_0t",
        "outputId": "30a1c4de-56b5-4a73-d029-1457e524e88b"
      },
      "execution_count": null,
      "outputs": [
        {
          "output_type": "stream",
          "name": "stdout",
          "text": [
            "    A1     A2      A3 A4 A5  A6  A7    A8 A9 A10  A11 A12 A13  A14  A15 A16\n",
            "0    b  30.83   0.000  u  g   w   v  1.25  t   t    1   f   g  202    0   +\n",
            "1    a  58.67   4.460  u  g   q   h  3.04  t   t    6   f   g   43  560   +\n",
            "2    a   24.5   0.500  u  g   q   h  1.50  t   f    0   f   g  280  824   +\n",
            "3    b  27.83   1.540  u  g   w   v  3.75  t   t    5   t   g  100    3   +\n",
            "4    b  20.17   5.625  u  g   w   v  1.71  t   f    0   f   s  120    0   +\n",
            "..  ..    ...     ... .. ..  ..  ..   ... ..  ..  ...  ..  ..  ...  ...  ..\n",
            "685  b  21.08  10.085  y  p   e   h  1.25  f   f    0   f   g  260    0   -\n",
            "686  a  22.67   0.750  u  g   c   v  2.00  f   t    2   t   g  200  394   -\n",
            "687  a  25.25  13.500  y  p  ff  ff  2.00  f   t    1   t   g  200    1   -\n",
            "688  b  17.92   0.205  u  g  aa   v  0.04  f   f    0   f   g  280  750   -\n",
            "689  b     35   3.375  u  g   c   h  8.29  f   f    0   t   g    0    0   -\n",
            "\n",
            "[653 rows x 16 columns]\n"
          ]
        }
      ]
    },
    {
      "cell_type": "code",
      "source": [
        "#deal with categorical variable - turn var into numbers\n",
        "\n",
        "#One-hot encoder (else use this - This is creating dummy var for each category ) and Ordinal encoder ( only use if any var is ordinal/ordering)\n",
        "\n",
        "#get_dummies in pandas and onehotencoder in sklearn -> both can do OHE\n",
        "#get_dummies easier to use - option to select col ?\n",
        "\n",
        "crx=pd.get_dummies(crx , columns = ['A1','A4','A5','A6','A7','A9','A10','A12','A13'], dtype=float) # no dtyppe - true or false - dtype float then 0 and 1\n",
        "print(crx)\n",
        "print(crxg)\n",
        "\n",
        "X=crx.drop(columns=[\"A16\"])\n",
        "Y=crx.A16\n",
        "print(X)\n",
        "print(Y)"
      ],
      "metadata": {
        "colab": {
          "base_uri": "https://localhost:8080/"
        },
        "id": "mn3b4DvbgqL2",
        "outputId": "f34dfa33-bfd4-4c6d-c7c7-b143d1fa36ca"
      },
      "execution_count": null,
      "outputs": [
        {
          "output_type": "stream",
          "name": "stdout",
          "text": [
            "        A2      A3    A8  A11  A14  A15 A16  A1_a  A1_b  A4_l  ...  A7_z  \\\n",
            "0    30.83   0.000  1.25    1  202    0   +   0.0   1.0   0.0  ...   0.0   \n",
            "1    58.67   4.460  3.04    6   43  560   +   1.0   0.0   0.0  ...   0.0   \n",
            "2     24.5   0.500  1.50    0  280  824   +   1.0   0.0   0.0  ...   0.0   \n",
            "3    27.83   1.540  3.75    5  100    3   +   0.0   1.0   0.0  ...   0.0   \n",
            "4    20.17   5.625  1.71    0  120    0   +   0.0   1.0   0.0  ...   0.0   \n",
            "..     ...     ...   ...  ...  ...  ...  ..   ...   ...   ...  ...   ...   \n",
            "685  21.08  10.085  1.25    0  260    0   -   0.0   1.0   0.0  ...   0.0   \n",
            "686  22.67   0.750  2.00    2  200  394   -   1.0   0.0   0.0  ...   0.0   \n",
            "687  25.25  13.500  2.00    1  200    1   -   1.0   0.0   0.0  ...   0.0   \n",
            "688  17.92   0.205  0.04    0  280  750   -   0.0   1.0   0.0  ...   0.0   \n",
            "689     35   3.375  8.29    0    0    0   -   0.0   1.0   0.0  ...   0.0   \n",
            "\n",
            "     A9_f  A9_t  A10_f  A10_t  A12_f  A12_t  A13_g  A13_p  A13_s  \n",
            "0     0.0   1.0    0.0    1.0    1.0    0.0    1.0    0.0    0.0  \n",
            "1     0.0   1.0    0.0    1.0    1.0    0.0    1.0    0.0    0.0  \n",
            "2     0.0   1.0    1.0    0.0    1.0    0.0    1.0    0.0    0.0  \n",
            "3     0.0   1.0    0.0    1.0    0.0    1.0    1.0    0.0    0.0  \n",
            "4     0.0   1.0    1.0    0.0    1.0    0.0    0.0    0.0    1.0  \n",
            "..    ...   ...    ...    ...    ...    ...    ...    ...    ...  \n",
            "685   1.0   0.0    1.0    0.0    1.0    0.0    1.0    0.0    0.0  \n",
            "686   1.0   0.0    0.0    1.0    0.0    1.0    1.0    0.0    0.0  \n",
            "687   1.0   0.0    0.0    1.0    0.0    1.0    1.0    0.0    0.0  \n",
            "688   1.0   0.0    1.0    0.0    1.0    0.0    1.0    0.0    0.0  \n",
            "689   1.0   0.0    1.0    0.0    0.0    1.0    1.0    0.0    0.0  \n",
            "\n",
            "[653 rows x 47 columns]\n",
            "        A2      A3    A8  A11  A14  A15 A16  A1_a  A1_b  A4_l  ...  A7_z  \\\n",
            "0    30.83   0.000  1.25    1  202    0   +   0.0   1.0   0.0  ...   0.0   \n",
            "1    58.67   4.460  3.04    6   43  560   +   1.0   0.0   0.0  ...   0.0   \n",
            "2     24.5   0.500  1.50    0  280  824   +   1.0   0.0   0.0  ...   0.0   \n",
            "3    27.83   1.540  3.75    5  100    3   +   0.0   1.0   0.0  ...   0.0   \n",
            "4    20.17   5.625  1.71    0  120    0   +   0.0   1.0   0.0  ...   0.0   \n",
            "..     ...     ...   ...  ...  ...  ...  ..   ...   ...   ...  ...   ...   \n",
            "685  21.08  10.085  1.25    0  260    0   -   0.0   1.0   0.0  ...   0.0   \n",
            "686  22.67   0.750  2.00    2  200  394   -   1.0   0.0   0.0  ...   0.0   \n",
            "687  25.25  13.500  2.00    1  200    1   -   1.0   0.0   0.0  ...   0.0   \n",
            "688  17.92   0.205  0.04    0  280  750   -   0.0   1.0   0.0  ...   0.0   \n",
            "689     35   3.375  8.29    0    0    0   -   0.0   1.0   0.0  ...   0.0   \n",
            "\n",
            "     A9_f  A9_t  A10_f  A10_t  A12_f  A12_t  A13_g  A13_p  A13_s  \n",
            "0     0.0   1.0    0.0    1.0    1.0    0.0    1.0    0.0    0.0  \n",
            "1     0.0   1.0    0.0    1.0    1.0    0.0    1.0    0.0    0.0  \n",
            "2     0.0   1.0    1.0    0.0    1.0    0.0    1.0    0.0    0.0  \n",
            "3     0.0   1.0    0.0    1.0    0.0    1.0    1.0    0.0    0.0  \n",
            "4     0.0   1.0    1.0    0.0    1.0    0.0    0.0    0.0    1.0  \n",
            "..    ...   ...    ...    ...    ...    ...    ...    ...    ...  \n",
            "685   1.0   0.0    1.0    0.0    1.0    0.0    1.0    0.0    0.0  \n",
            "686   1.0   0.0    0.0    1.0    0.0    1.0    1.0    0.0    0.0  \n",
            "687   1.0   0.0    0.0    1.0    0.0    1.0    1.0    0.0    0.0  \n",
            "688   1.0   0.0    1.0    0.0    1.0    0.0    1.0    0.0    0.0  \n",
            "689   1.0   0.0    1.0    0.0    0.0    1.0    1.0    0.0    0.0  \n",
            "\n",
            "[653 rows x 47 columns]\n",
            "        A2      A3    A8  A11  A14  A15  A1_a  A1_b  A4_l  A4_u  ...  A7_z  \\\n",
            "0    30.83   0.000  1.25    1  202    0   0.0   1.0   0.0   1.0  ...   0.0   \n",
            "1    58.67   4.460  3.04    6   43  560   1.0   0.0   0.0   1.0  ...   0.0   \n",
            "2     24.5   0.500  1.50    0  280  824   1.0   0.0   0.0   1.0  ...   0.0   \n",
            "3    27.83   1.540  3.75    5  100    3   0.0   1.0   0.0   1.0  ...   0.0   \n",
            "4    20.17   5.625  1.71    0  120    0   0.0   1.0   0.0   1.0  ...   0.0   \n",
            "..     ...     ...   ...  ...  ...  ...   ...   ...   ...   ...  ...   ...   \n",
            "685  21.08  10.085  1.25    0  260    0   0.0   1.0   0.0   0.0  ...   0.0   \n",
            "686  22.67   0.750  2.00    2  200  394   1.0   0.0   0.0   1.0  ...   0.0   \n",
            "687  25.25  13.500  2.00    1  200    1   1.0   0.0   0.0   0.0  ...   0.0   \n",
            "688  17.92   0.205  0.04    0  280  750   0.0   1.0   0.0   1.0  ...   0.0   \n",
            "689     35   3.375  8.29    0    0    0   0.0   1.0   0.0   1.0  ...   0.0   \n",
            "\n",
            "     A9_f  A9_t  A10_f  A10_t  A12_f  A12_t  A13_g  A13_p  A13_s  \n",
            "0     0.0   1.0    0.0    1.0    1.0    0.0    1.0    0.0    0.0  \n",
            "1     0.0   1.0    0.0    1.0    1.0    0.0    1.0    0.0    0.0  \n",
            "2     0.0   1.0    1.0    0.0    1.0    0.0    1.0    0.0    0.0  \n",
            "3     0.0   1.0    0.0    1.0    0.0    1.0    1.0    0.0    0.0  \n",
            "4     0.0   1.0    1.0    0.0    1.0    0.0    0.0    0.0    1.0  \n",
            "..    ...   ...    ...    ...    ...    ...    ...    ...    ...  \n",
            "685   1.0   0.0    1.0    0.0    1.0    0.0    1.0    0.0    0.0  \n",
            "686   1.0   0.0    0.0    1.0    0.0    1.0    1.0    0.0    0.0  \n",
            "687   1.0   0.0    0.0    1.0    0.0    1.0    1.0    0.0    0.0  \n",
            "688   1.0   0.0    1.0    0.0    1.0    0.0    1.0    0.0    0.0  \n",
            "689   1.0   0.0    1.0    0.0    0.0    1.0    1.0    0.0    0.0  \n",
            "\n",
            "[653 rows x 46 columns]\n",
            "0      +\n",
            "1      +\n",
            "2      +\n",
            "3      +\n",
            "4      +\n",
            "      ..\n",
            "685    -\n",
            "686    -\n",
            "687    -\n",
            "688    -\n",
            "689    -\n",
            "Name: A16, Length: 653, dtype: object\n"
          ]
        }
      ]
    },
    {
      "cell_type": "markdown",
      "source": [
        "Question c\n",
        "\n",
        "In this exercise, we will consider several classification algorithms and test their\n",
        "performance (zero-one loss), via 10-fold cross validation.\n",
        "\n",
        "\n",
        "i. Write a function that takes 3 parameters: X, Y , and a model, and returns\n",
        "the 10-fold cross validation zero-one loss estimator.\n",
        "\n",
        "\n",
        "ii. Write a function that implements several classifiers (Multilayer perceptron\n",
        ",K-Neighbors-Classifier, Support Vector Machine, Random Forest, and\n",
        "Logistic regression). The function will receive X and Y and return the\n",
        "10-fold cross validation zero-one loss for all classifiers."
      ],
      "metadata": {
        "id": "HMqiFuTui8p6"
      }
    },
    {
      "cell_type": "code",
      "source": [
        "#cross_validate - fn that does all calc and cross_val_score is a wrapper\n",
        "\n",
        "from sklearn.model_selection import cross_val_score\n",
        "from sklearn.neural_network import MLPClassifier\n",
        "from sklearn.neighbors import KNeighborsClassifier\n",
        "from sklearn.svm import SVC\n",
        "from sklearn.ensemble import RandomForestClassifier\n",
        "from sklearn.linear_model import LogisticRegression\n",
        "\n",
        "def cv_error(model,X,Y):\n",
        "  score = cross_val_score(model,X,Y,cv=10,scoring='accuracy')\n",
        "  return 1 - np.mean(score)#1-score.mean() # or 1 - np.mean(scores)\n",
        "\n",
        "def evaluate_models(X,Y):\n",
        "  print(\"MLP:{}\".format(cv_error(MLPClassifier(max_iter=1000),X,Y)))\n",
        "  print(\"KNN:{}\".format(cv_error(KNeighborsClassifier(),X,Y)))\n",
        "  print(\"SVC:{}\".format(cv_error(SVC(),X,Y)))\n",
        "  print(\"RF:{}\".format(cv_error(RandomForestClassifier(),X,Y)))\n",
        "  print(\"lOGREG:{}\".format(cv_error(LogisticRegression(max_iter=3000),X,Y))) #max_iter is not enough so we keep increasing >\n",
        "#estimator -> model , cv is fold to split dataset into , scoring method - default built in string i.e scores and for error we should do 1- score or custom scorer\n",
        "           #cross val is avg oof 10 diff gen err\n"
      ],
      "metadata": {
        "id": "e0Jcicsoi6kj"
      },
      "execution_count": null,
      "outputs": []
    },
    {
      "cell_type": "code",
      "source": [
        "evaluate_models(X,Y)"
      ],
      "metadata": {
        "colab": {
          "base_uri": "https://localhost:8080/"
        },
        "id": "TDqdJgXEljwf",
        "outputId": "07e5fac5-578b-48d2-d5e9-d9c7a7909733"
      },
      "execution_count": null,
      "outputs": [
        {
          "output_type": "stream",
          "name": "stdout",
          "text": [
            "MLP:0.2112354312354312\n",
            "KNN:0.31405594405594406\n",
            "SVC:0.34296037296037296\n",
            "RF:0.14662004662004657\n"
          ]
        },
        {
          "output_type": "stream",
          "name": "stderr",
          "text": [
            "/usr/local/lib/python3.11/dist-packages/sklearn/linear_model/_logistic.py:465: ConvergenceWarning: lbfgs failed to converge (status=1):\n",
            "STOP: TOTAL NO. of ITERATIONS REACHED LIMIT.\n",
            "\n",
            "Increase the number of iterations (max_iter) or scale the data as shown in:\n",
            "    https://scikit-learn.org/stable/modules/preprocessing.html\n",
            "Please also refer to the documentation for alternative solver options:\n",
            "    https://scikit-learn.org/stable/modules/linear_model.html#logistic-regression\n",
            "  n_iter_i = _check_optimize_result(\n",
            "/usr/local/lib/python3.11/dist-packages/sklearn/linear_model/_logistic.py:465: ConvergenceWarning: lbfgs failed to converge (status=1):\n",
            "STOP: TOTAL NO. of ITERATIONS REACHED LIMIT.\n",
            "\n",
            "Increase the number of iterations (max_iter) or scale the data as shown in:\n",
            "    https://scikit-learn.org/stable/modules/preprocessing.html\n",
            "Please also refer to the documentation for alternative solver options:\n",
            "    https://scikit-learn.org/stable/modules/linear_model.html#logistic-regression\n",
            "  n_iter_i = _check_optimize_result(\n",
            "/usr/local/lib/python3.11/dist-packages/sklearn/linear_model/_logistic.py:465: ConvergenceWarning: lbfgs failed to converge (status=1):\n",
            "STOP: TOTAL NO. of ITERATIONS REACHED LIMIT.\n",
            "\n",
            "Increase the number of iterations (max_iter) or scale the data as shown in:\n",
            "    https://scikit-learn.org/stable/modules/preprocessing.html\n",
            "Please also refer to the documentation for alternative solver options:\n",
            "    https://scikit-learn.org/stable/modules/linear_model.html#logistic-regression\n",
            "  n_iter_i = _check_optimize_result(\n",
            "/usr/local/lib/python3.11/dist-packages/sklearn/linear_model/_logistic.py:465: ConvergenceWarning: lbfgs failed to converge (status=1):\n",
            "STOP: TOTAL NO. of ITERATIONS REACHED LIMIT.\n",
            "\n",
            "Increase the number of iterations (max_iter) or scale the data as shown in:\n",
            "    https://scikit-learn.org/stable/modules/preprocessing.html\n",
            "Please also refer to the documentation for alternative solver options:\n",
            "    https://scikit-learn.org/stable/modules/linear_model.html#logistic-regression\n",
            "  n_iter_i = _check_optimize_result(\n",
            "/usr/local/lib/python3.11/dist-packages/sklearn/linear_model/_logistic.py:465: ConvergenceWarning: lbfgs failed to converge (status=1):\n",
            "STOP: TOTAL NO. of ITERATIONS REACHED LIMIT.\n",
            "\n",
            "Increase the number of iterations (max_iter) or scale the data as shown in:\n",
            "    https://scikit-learn.org/stable/modules/preprocessing.html\n",
            "Please also refer to the documentation for alternative solver options:\n",
            "    https://scikit-learn.org/stable/modules/linear_model.html#logistic-regression\n",
            "  n_iter_i = _check_optimize_result(\n",
            "/usr/local/lib/python3.11/dist-packages/sklearn/linear_model/_logistic.py:465: ConvergenceWarning: lbfgs failed to converge (status=1):\n",
            "STOP: TOTAL NO. of ITERATIONS REACHED LIMIT.\n",
            "\n",
            "Increase the number of iterations (max_iter) or scale the data as shown in:\n",
            "    https://scikit-learn.org/stable/modules/preprocessing.html\n",
            "Please also refer to the documentation for alternative solver options:\n",
            "    https://scikit-learn.org/stable/modules/linear_model.html#logistic-regression\n",
            "  n_iter_i = _check_optimize_result(\n"
          ]
        },
        {
          "output_type": "stream",
          "name": "stdout",
          "text": [
            "lOGREG:0.14659673659673655\n"
          ]
        },
        {
          "output_type": "stream",
          "name": "stderr",
          "text": [
            "/usr/local/lib/python3.11/dist-packages/sklearn/linear_model/_logistic.py:465: ConvergenceWarning: lbfgs failed to converge (status=1):\n",
            "STOP: TOTAL NO. of ITERATIONS REACHED LIMIT.\n",
            "\n",
            "Increase the number of iterations (max_iter) or scale the data as shown in:\n",
            "    https://scikit-learn.org/stable/modules/preprocessing.html\n",
            "Please also refer to the documentation for alternative solver options:\n",
            "    https://scikit-learn.org/stable/modules/linear_model.html#logistic-regression\n",
            "  n_iter_i = _check_optimize_result(\n"
          ]
        }
      ]
    },
    {
      "cell_type": "markdown",
      "source": [
        "SVC one of the worst"
      ],
      "metadata": {
        "id": "DRgkADgdouUS"
      }
    },
    {
      "cell_type": "code",
      "source": [
        "#scales are diff - can affect performance so by standardising columns\n",
        "from sklearn.preprocessing import scale\n",
        "X_scale = scale(X)\n",
        "X_SCALE = pd.DataFrame(X_scale,columns=X.columns)\n",
        "print(X_scale) #Scale is near 1 sd near 0 ? models like knn and svc that run on geo metrical dist from pts should\n",
        "#work better it makes it harder to interpret results for some models esp logreg coz coeff should be interpreted in std scale and not orig scale\n",
        "evaluate_models(X_scale,Y)"
      ],
      "metadata": {
        "colab": {
          "base_uri": "https://localhost:8080/"
        },
        "id": "JQRL2UuknbMq",
        "outputId": "f5dba8a1-4d22-4d47-b054-a6b825188eaf"
      },
      "execution_count": null,
      "outputs": [
        {
          "output_type": "stream",
          "name": "stdout",
          "text": [
            "[[-0.05696186 -0.96144036 -0.29517124 ...  0.30327091 -0.0554274\n",
            "  -0.29720924]\n",
            " [ 2.29653644 -0.07356485  0.23621655 ...  0.30327091 -0.0554274\n",
            "  -0.29720924]\n",
            " [-0.59207839 -0.86190275 -0.22095507 ...  0.30327091 -0.0554274\n",
            "  -0.29720924]\n",
            " ...\n",
            " [-0.52867596  1.72607519 -0.07252273 ...  0.30327091 -0.0554274\n",
            "  -0.29720924]\n",
            " [-1.14832907 -0.92062994 -0.65437752 ...  0.30327091 -0.0554274\n",
            "  -0.29720924]\n",
            " [ 0.29555567 -0.28956147  1.79475619 ...  0.30327091 -0.0554274\n",
            "  -0.29720924]]\n",
            "MLP:0.1804428904428903\n",
            "KNN:0.1912587412587412\n",
            "SVC:0.15895104895104895\n",
            "RF:0.15118881118881122\n",
            "lOGREG:0.14662004662004657\n"
          ]
        }
      ]
    },
    {
      "cell_type": "markdown",
      "source": [
        "as we can see svc and knn errror is reduced therefore significant performance"
      ],
      "metadata": {
        "id": "DgfJVc-gomED"
      }
    },
    {
      "cell_type": "markdown",
      "source": [
        "Use Principal Component Regression (PCR) and repeat the classifier evaluations. Identify the best classifier. Do not worry if you did not study PCA yet,\n",
        "think about this as a dimensionality reduction technique (this will be covered\n",
        "in class)."
      ],
      "metadata": {
        "id": "Z_B5VNnvpLSj"
      }
    },
    {
      "cell_type": "code",
      "source": [
        "#PCA not improve perf but reduces runtime coz x matrix is smaller\n",
        "\n",
        "from sklearn.decomposition import PCA\n",
        "\n",
        "pca = PCA(n_components=46)\n",
        "X_pca = pca.fit_transform(X_scale) #\n",
        "print(pca.explained_variance_ratio_)  # variance explained by all components - 10% is explained by 1st component 2nd component 7.5%\n",
        "#so if wekeep just first 25 ish some ccomponents (until exp changes to -17) we may retain the characteristics  of the dataset coz it explains 91% of variance\n",
        "#also if we do pca on x and dont get good results do it with X_scale\n",
        "print(sum(pca.explained_variance_ratio_[:25]))\n"
      ],
      "metadata": {
        "colab": {
          "base_uri": "https://localhost:8080/"
        },
        "id": "TF1OM48MpFbT",
        "outputId": "4ead7b3b-0ffa-4211-d24d-b41f940b6bf7"
      },
      "execution_count": null,
      "outputs": [
        {
          "output_type": "stream",
          "name": "stdout",
          "text": [
            "[1.04589851e-01 7.50300311e-02 7.29195190e-02 6.15866989e-02\n",
            " 4.97883845e-02 4.60087094e-02 4.17353392e-02 4.02602922e-02\n",
            " 3.72462234e-02 3.58878156e-02 3.48043726e-02 3.19270241e-02\n",
            " 2.99085296e-02 2.70173998e-02 2.46205154e-02 2.41090946e-02\n",
            " 2.33368786e-02 2.28223059e-02 2.21385374e-02 2.16031633e-02\n",
            " 1.89124198e-02 1.84226097e-02 1.73933460e-02 1.69481069e-02\n",
            " 1.56810250e-02 1.41881164e-02 1.18169225e-02 1.09757101e-02\n",
            " 1.04742605e-02 1.00461295e-02 9.49536007e-03 7.45712921e-03\n",
            " 5.18079574e-03 4.81490995e-03 8.52473076e-04 3.31875267e-17\n",
            " 1.48090670e-17 1.05480312e-17 4.92388656e-18 2.16825289e-18\n",
            " 0.00000000e+00 0.00000000e+00 0.00000000e+00 0.00000000e+00\n",
            " 0.00000000e+00 0.00000000e+00]\n",
            "0.9146981929062392\n"
          ]
        }
      ]
    },
    {
      "cell_type": "code",
      "source": [
        "\n",
        "pca = PCA(n_components=25)\n",
        "X_pca_ = pca.fit_transform(X_scale) #\n",
        "print(pca.explained_variance_ratio_)\n",
        "\n",
        "evaluate_models(X_pca_,Y)"
      ],
      "metadata": {
        "colab": {
          "base_uri": "https://localhost:8080/"
        },
        "id": "BrahPhIYp-Rl",
        "outputId": "68e2ccda-a7d6-465b-e346-c8fb15f69de6"
      },
      "execution_count": null,
      "outputs": [
        {
          "output_type": "stream",
          "name": "stdout",
          "text": [
            "[0.10458985 0.07503003 0.07291952 0.0615867  0.04978838 0.04600871\n",
            " 0.04173534 0.04026029 0.03724622 0.03588782 0.03480437 0.03192702\n",
            " 0.02990853 0.0270174  0.02462052 0.02410909 0.02333688 0.02282231\n",
            " 0.02213854 0.02160316 0.01891242 0.01842261 0.01739335 0.01694811\n",
            " 0.01568103]\n",
            "MLP:0.18041958041958028\n",
            "KNN:0.17452214452214443\n",
            "SVC:0.15897435897435896\n",
            "RF:0.1666433566433566\n",
            "lOGREG:0.14351981351981347\n"
          ]
        }
      ]
    },
    {
      "cell_type": "markdown",
      "source": [
        "but since RF perf is so poor we know we might've dropped some important comp - dont really need to apply PCA"
      ],
      "metadata": {
        "id": "9fh_joPkrFTl"
      }
    },
    {
      "cell_type": "markdown",
      "source": [
        "5. Consider a unit square and consider the area in the low left quarter of this square.\n",
        "Write a Crude Monte Carlo algorithm that uses N = 1000 sample size and estimates\n",
        "the area of the low left quarter of the unit square.\n"
      ],
      "metadata": {
        "id": "grLKn64trTll"
      }
    },
    {
      "cell_type": "code",
      "source": [
        "import numpy as np\n",
        "\n",
        "#simulate pts in unit sqr uniformly\n",
        "\n",
        "N=10000\n",
        "\n",
        "X = np.random.rand(N)\n",
        "Y = np.random.rand(N)\n",
        "I = (X<0.5) & (Y<0.5)\n",
        "est = np.mean(I) #estimate of indicator of area of R\n",
        "\n",
        "print(est) #diff results coz its a simulation process and random X and y\n",
        "#so how do we know if esr is good enough ?\n",
        "#we do MC coz we dont know true val --> which is why CI is also calculated\n",
        "\n",
        "se = np.std(I)/np.sqrt(N) # std error\n",
        "print(se)\n",
        "\n",
        "CI = [est - 1.96*se, est + 1.96*se] #1.96 is multiplier/critical val for 95% CI\n",
        "print(CI)\n",
        "#CI is centered around point estimate and width is approx 4 times std error and radius 2 times\n",
        "#if I increase N i will decrease std error and CI range will shorten"
      ],
      "metadata": {
        "colab": {
          "base_uri": "https://localhost:8080/"
        },
        "id": "uSiM7_lvrVne",
        "outputId": "caa77a07-08e1-4340-b408-492c302a50a3"
      },
      "execution_count": null,
      "outputs": [
        {
          "output_type": "stream",
          "name": "stdout",
          "text": [
            "0.254\n",
            "0.004352975993501457\n",
            "[np.float64(0.24546816705273716), np.float64(0.26253183294726284)]\n"
          ]
        }
      ]
    },
    {
      "cell_type": "markdown",
      "source": [
        "LAB 2 TUT 2/4/25"
      ],
      "metadata": {
        "id": "fm2v-wozgkeK"
      }
    },
    {
      "cell_type": "markdown",
      "source": [
        "1. Consider the following data generation process.\n",
        "X, y = make_blobs(n_samples=5000, n_features=10, centers=3,\n",
        "random_state=10, cluster_std=10)\n",
        "We are going to find the best decision tree depth using cross-validation procedure.\n",
        "Write a code to reproduce the following Figure.\n",
        "\n",
        "\n",
        "![Screenshot 2025-04-02 175924.png](data:image/png;base64,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)"
      ],
      "metadata": {
        "id": "7WSrLzdlgqUZ"
      }
    },
    {
      "cell_type": "code",
      "source": [
        "import pandas as pd\n",
        "import numpy as np\n",
        "from sklearn.datasets import make_blobs\n",
        "from sklearn.tree import DecisionTreeRegressor\n",
        "from sklearn.tree import DecisionTreeClassifier\n",
        "from sklearn.model_selection import cross_val_score\n",
        "from sklearn.metrics import zero_one_loss\n",
        "\n",
        "def custom_scorer(model,X,y):\n",
        "  y_pred = model.predict(X)\n",
        "  return zero_one_loss(y,y_pred)\n",
        "\n",
        "X, y = make_blobs(n_samples=5000, n_features=10, centers=3, random_state=10, cluster_std=10) #EACH CLUSTER has std deviation of 10 std deviation of 10 is large so clusters may overlap since this a\n",
        "# A 10d - hard to visualise but can perform PCA and visualise 2d plot\n",
        "tree = DecisionTreeClassifier() #classfn prob due to blobs\n",
        "depths = range(1,20)\n",
        "cv_losses = []\n",
        "training_losses = []\n",
        "\n",
        "for depth in depths :\n",
        "  tree.max_depth = depth\n",
        "  cv_loss = np.mean(cross_val_score(tree, X, y, cv=10,scoring=custom_scorer)) #normally in scoring we put accuracy we take mean coz avg across all iterations of cv\n",
        "  cv_losses.append(cv_loss)\n",
        "  tree.fit(X,y)\n",
        "  y_pred = tree.predict(X)\n",
        "  training_loss = custom_scorer(tree,X,y)\n",
        "  training_losses.append(training_loss)\n",
        "\n",
        "\n"
      ],
      "metadata": {
        "id": "oDqyqF5hhJ5a"
      },
      "execution_count": null,
      "outputs": []
    },
    {
      "cell_type": "markdown",
      "source": [
        "if the question asks you to find the depth of tree where loss is lowest in Decision tree classifier -> plot this graph follow same select a range."
      ],
      "metadata": {
        "id": "UmkfUybasFXi"
      }
    },
    {
      "cell_type": "code",
      "source": [
        "import matplotlib.pyplot as plt\n",
        "plt.plot(depths,cv_losses,'-s',label='cross-validation')\n",
        "plt.plot(depths,training_losses,'-*',label='Training')\n",
        "plt.xlabel('tree Depth')\n",
        "plt.ylabel('Loss')\n",
        "plt.legend() # or dont write ;abel there and write plt.legend(['CV Loss','Training Loss'])\n",
        "plt.xticks(depths)\n",
        "plt.grid('True')\n",
        "plt.show()\n",
        "#we use cv loss as a measure of generalisation loss -> to select best tree depth here it is 7 - lowest loss"
      ],
      "metadata": {
        "colab": {
          "base_uri": "https://localhost:8080/",
          "height": 449
        },
        "id": "Q8e-S0XDlVZ4",
        "outputId": "c195f0b7-92b0-4c4f-fc99-64e1f527fda7"
      },
      "execution_count": null,
      "outputs": [
        {
          "output_type": "display_data",
          "data": {
            "text/plain": [
              "<Figure size 640x480 with 1 Axes>"
            ],
            "image/png": "[encoded data removed]"
          },
          "metadata": {}
        }
      ]
    },
    {
      "cell_type": "code",
      "source": [
        "from sklearn.tree import plot_tree\n",
        "tree.max_depth = 2\n",
        "tree.fit(X,y)\n",
        "plt.figure(dpi=200)\n",
        "plot_tree(tree)\n",
        "plt.show()\n",
        "#plt.savefig('tree.png',dpi=7000) #binary tree with 2 levels On 7th level - 128 nodes #dpi stands for dots per inch - resolution\n",
        "\n",
        "#x[1] is the second feature - the best splitting decision\n",
        "#value = count of no.of observations in each classes\n",
        "#gini - gini loss, misclf loss,entropy loss, loc loss\n",
        "#ususally we want each class in the last level's each leaf node not really ?\n"
      ],
      "metadata": {
        "colab": {
          "base_uri": "https://localhost:8080/",
          "height": 796
        },
        "id": "e4LywluemxgU",
        "outputId": "fd8f5b10-4de0-4486-af46-3bf76e4f1ece"
      },
      "execution_count": null,
      "outputs": [
        {
          "output_type": "display_data",
          "data": {
            "text/plain": [
              "<Figure size 1280x960 with 1 Axes>"
            ],
            "image/png": "[encoded data removed]"
          },
          "metadata": {}
        }
      ]
    },
    {
      "cell_type": "markdown",
      "source": [
        "2. Explain why bagging decision trees is a special case of random forest."
      ],
      "metadata": {
        "id": "WXnikossg_Np"
      }
    },
    {
      "cell_type": "markdown",
      "source": [
        "If we bag decision trees - > spl case of rf\n",
        "\n",
        "Bagging Decision Trees : collect many decision tree put together RF is also same i.e both are ensemble of decision trees\n",
        "\n",
        "Diff : Bagging Decision Trees -> we are multiplying decision tree and each decision tree is fitted with all features of dataset whereas each decision tree in RF uses a random subset of features.\n",
        "\n",
        "If in RF we decide to use all features then it is bagging but here we have choice to control the nummber of features to use.//There is a parameter ? i.e each tree fits one corner / part of datasets therefore if we take avg of all treees it'll produce accurate prediction since all the trees cover most parts of the dataset.\n",
        "\n",
        "why perf high ? because each tree is fitted to a part of dataset\n",
        "\n",
        "max_features='sqrt' therefore in RF each tree will use sqrt of features"
      ],
      "metadata": {
        "id": "8b8R7-JjsSRB"
      }
    },
    {
      "cell_type": "markdown",
      "source": [
        "3. Consider the mnist dataset.\n",
        "(a) Plot several images from the dataset.\n",
        "1\n",
        "(b) Split the dataset to train and test sets (75% train and 25% test).\n",
        "(c) Fit logistic regression model and evaluate the miss-classification rate.\n",
        "(d) Fit a random forest classifier, evaluate the miss-classification rate, and compare\n",
        "to the results obtained in (c)."
      ],
      "metadata": {
        "id": "2VaXciyYg9-J"
      }
    },
    {
      "cell_type": "code",
      "source": [
        "df = pd.read_csv('mnist.csv')\n",
        "print(df)"
      ],
      "metadata": {
        "colab": {
          "base_uri": "https://localhost:8080/"
        },
        "id": "tizjJoNFsVUZ",
        "outputId": "ac78364a-38b4-455c-fc4e-a28efe24c694"
      },
      "execution_count": null,
      "outputs": [
        {
          "output_type": "stream",
          "name": "stdout",
          "text": [
            "       label  pixel0  pixel1  pixel2  pixel3  pixel4  pixel5  pixel6  pixel7  \\\n",
            "0          1       0       0       0       0       0       0       0       0   \n",
            "1          0       0       0       0       0       0       0       0       0   \n",
            "2          1       0       0       0       0       0       0       0       0   \n",
            "3          4       0       0       0       0       0       0       0       0   \n",
            "4          0       0       0       0       0       0       0       0       0   \n",
            "...      ...     ...     ...     ...     ...     ...     ...     ...     ...   \n",
            "41995      0       0       0       0       0       0       0       0       0   \n",
            "41996      1       0       0       0       0       0       0       0       0   \n",
            "41997      7       0       0       0       0       0       0       0       0   \n",
            "41998      6       0       0       0       0       0       0       0       0   \n",
            "41999      9       0       0       0       0       0       0       0       0   \n",
            "\n",
            "       pixel8  ...  pixel774  pixel775  pixel776  pixel777  pixel778  \\\n",
            "0           0  ...         0         0         0         0         0   \n",
            "1           0  ...         0         0         0         0         0   \n",
            "2           0  ...         0         0         0         0         0   \n",
            "3           0  ...         0         0         0         0         0   \n",
            "4           0  ...         0         0         0         0         0   \n",
            "...       ...  ...       ...       ...       ...       ...       ...   \n",
            "41995       0  ...         0         0         0         0         0   \n",
            "41996       0  ...         0         0         0         0         0   \n",
            "41997       0  ...         0         0         0         0         0   \n",
            "41998       0  ...         0         0         0         0         0   \n",
            "41999       0  ...         0         0         0         0         0   \n",
            "\n",
            "       pixel779  pixel780  pixel781  pixel782  pixel783  \n",
            "0             0         0         0         0         0  \n",
            "1             0         0         0         0         0  \n",
            "2             0         0         0         0         0  \n",
            "3             0         0         0         0         0  \n",
            "4             0         0         0         0         0  \n",
            "...         ...       ...       ...       ...       ...  \n",
            "41995         0         0         0         0         0  \n",
            "41996         0         0         0         0         0  \n",
            "41997         0         0         0         0         0  \n",
            "41998         0         0         0         0         0  \n",
            "41999         0         0         0         0         0  \n",
            "\n",
            "[42000 rows x 785 columns]\n"
          ]
        }
      ]
    },
    {
      "cell_type": "code",
      "source": [
        "k = range(1,10)\n",
        "\n",
        "for n in k:\n",
        "  image = df.iloc[n,1:].values.reshape(28,28) #extract pixel values into an array , reshape it whwere values are from 0 to 255 representing 8 bit gray scale image 0 - black\n",
        "#print(image)\n",
        "  print('label ={}'.format(df.label[n]))\n",
        "  plt.imshow(image,cmap='gray')\n",
        "  plt.show()"
      ],
      "metadata": {
        "colab": {
          "base_uri": "https://localhost:8080/",
          "height": 1000
        },
        "id": "HfUqgpXguRqK",
        "outputId": "08444871-af3c-4320-c8e1-2c3cac81845b"
      },
      "execution_count": null,
      "outputs": [
        {
          "output_type": "stream",
          "name": "stdout",
          "text": [
            "label =0\n"
          ]
        },
        {
          "output_type": "display_data",
          "data": {
            "text/plain": [
              "<Figure size 640x480 with 1 Axes>"
            ],
            "image/png": "[encoded data removed]"
          },
          "metadata": {}
        },
        {
          "output_type": "stream",
          "name": "stdout",
          "text": [
            "label =1\n"
          ]
        },
        {
          "output_type": "display_data",
          "data": {
            "text/plain": [
              "<Figure size 640x480 with 1 Axes>"
            ],
            "image/png": "[encoded data removed]"
          },
          "metadata": {}
        },
        {
          "output_type": "stream",
          "name": "stdout",
          "text": [
            "label =4\n"
          ]
        },
        {
          "output_type": "display_data",
          "data": {
            "text/plain": [
              "<Figure size 640x480 with 1 Axes>"
            ],
            "image/png": "[encoded data removed]"
          },
          "metadata": {}
        },
        {
          "output_type": "stream",
          "name": "stdout",
          "text": [
            "label =0\n"
          ]
        },
        {
          "output_type": "display_data",
          "data": {
            "text/plain": [
              "<Figure size 640x480 with 1 Axes>"
            ],
            "image/png": "[encoded data removed]"
          },
          "metadata": {}
        },
        {
          "output_type": "stream",
          "name": "stdout",
          "text": [
            "label =0\n"
          ]
        },
        {
          "output_type": "display_data",
          "data": {
            "text/plain": [
              "<Figure size 640x480 with 1 Axes>"
            ],
            "image/png": "[encoded data removed]"
          },
          "metadata": {}
        },
        {
          "output_type": "stream",
          "name": "stdout",
          "text": [
            "label =7\n"
          ]
        },
        {
          "output_type": "display_data",
          "data": {
            "text/plain": [
              "<Figure size 640x480 with 1 Axes>"
            ],
            "image/png": "[encoded data removed]"
          },
          "metadata": {}
        },
        {
          "output_type": "stream",
          "name": "stdout",
          "text": [
            "label =3\n"
          ]
        },
        {
          "output_type": "display_data",
          "data": {
            "text/plain": [
              "<Figure size 640x480 with 1 Axes>"
            ],
            "image/png": "[encoded data removed]"
          },
          "metadata": {}
        },
        {
          "output_type": "stream",
          "name": "stdout",
          "text": [
            "label =5\n"
          ]
        },
        {
          "output_type": "display_data",
          "data": {
            "text/plain": [
              "<Figure size 640x480 with 1 Axes>"
            ],
            "image/png": "[encoded data removed]"
          },
          "metadata": {}
        },
        {
          "output_type": "stream",
          "name": "stdout",
          "text": [
            "label =3\n"
          ]
        },
        {
          "output_type": "display_data",
          "data": {
            "text/plain": [
              "<Figure size 640x480 with 1 Axes>"
            ],
            "image/png": "[encoded data removed]"
          },
          "metadata": {}
        }
      ]
    },
    {
      "cell_type": "code",
      "source": [
        "n=1\n",
        "image = df.iloc[n,1:].values.reshape(28,28) #extract pixel values into an array , reshape it whwere values are from 0 to 255 representing 8 bit gray scale image 0 - black\n",
        "print(image)\n",
        "\n",
        "plt.imshow(image,cmap='gray')\n",
        "\n",
        "plt.show()"
      ],
      "metadata": {
        "colab": {
          "base_uri": "https://localhost:8080/",
          "height": 1000
        },
        "id": "Ms7dABWauItX",
        "outputId": "171c9273-faa9-4ba2-e3c5-8500144129dd"
      },
      "execution_count": null,
      "outputs": [
        {
          "output_type": "stream",
          "name": "stdout",
          "text": [
            "[[  0   0   0   0   0   0   0   0   0   0   0   0   0   0   0   0   0   0\n",
            "    0   0   0   0   0   0   0   0   0   0]\n",
            " [  0   0   0   0   0   0   0   0   0   0   0   0   0   0   0   0   0   0\n",
            "    0   0   0   0   0   0   0   0   0   0]\n",
            " [  0   0   0   0   0   0   0   0   0   0   0   0   0   0   0   0   0   0\n",
            "    0   0   0   0   0   0   0   0   0   0]\n",
            " [  0   0   0   0   0   0   0   0   0   0   0   0   0   0   0   0   0   0\n",
            "    0   0   0   0   0   0   0   0   0   0]\n",
            " [  0   0   0   0   0   0   0   0   0   0  18  30 137 137 192  86  72   1\n",
            "    0   0   0   0   0   0   0   0   0   0]\n",
            " [  0   0   0   0   0   0   0   0  13  86 250 254 254 254 254 217 246 151\n",
            "   32   0   0   0   0   0   0   0   0   0]\n",
            " [  0   0   0   0   0   0   0  16 179 254 254 254 254 254 254 254 254 254\n",
            "  231  54  15   0   0   0   0   0   0   0]\n",
            " [  0   0   0   0   0   0   0  72 254 254 254 254 254 254 254 254 254 254\n",
            "  254 254 104   0   0   0   0   0   0   0]\n",
            " [  0   0   0   0   0   0  61 191 254 254 254 254 254 109  83 199 254 254\n",
            "  254 254 243  85   0   0   0   0   0   0]\n",
            " [  0   0   0   0   0   0 172 254 254 254 202 147 147  45   0  11  29 200\n",
            "  254 254 254 171   0   0   0   0   0   0]\n",
            " [  0   0   0   0   0   1 174 254 254  89  67   0   0   0   0   0   0 128\n",
            "  252 254 254 212  76   0   0   0   0   0]\n",
            " [  0   0   0   0   0  47 254 254 254  29   0   0   0   0   0   0   0   0\n",
            "   83 254 254 254 153   0   0   0   0   0]\n",
            " [  0   0   0   0   0  80 254 254 240  24   0   0   0   0   0   0   0   0\n",
            "   25 240 254 254 153   0   0   0   0   0]\n",
            " [  0   0   0   0   0  64 254 254 186   7   0   0   0   0   0   0   0   0\n",
            "    0 166 254 254 224  12   0   0   0   0]\n",
            " [  0   0   0   0  14 232 254 254 254  29   0   0   0   0   0   0   0   0\n",
            "    0  75 254 254 254  17   0   0   0   0]\n",
            " [  0   0   0   0  18 254 254 254 254  29   0   0   0   0   0   0   0   0\n",
            "    0  48 254 254 254  17   0   0   0   0]\n",
            " [  0   0   0   0   2 163 254 254 254  29   0   0   0   0   0   0   0   0\n",
            "    0  48 254 254 254  17   0   0   0   0]\n",
            " [  0   0   0   0   0  94 254 254 254 200  12   0   0   0   0   0   0   0\n",
            "   16 209 254 254 150   1   0   0   0   0]\n",
            " [  0   0   0   0   0  15 206 254 254 254 202  66   0   0   0   0   0  21\n",
            "  161 254 254 245  31   0   0   0   0   0]\n",
            " [  0   0   0   0   0   0  60 212 254 254 254 194  48  48  34  41  48 209\n",
            "  254 254 254 171   0   0   0   0   0   0]\n",
            " [  0   0   0   0   0   0   0  86 243 254 254 254 254 254 233 243 254 254\n",
            "  254 254 254  86   0   0   0   0   0   0]\n",
            " [  0   0   0   0   0   0   0   0 114 254 254 254 254 254 254 254 254 254\n",
            "  254 239  86  11   0   0   0   0   0   0]\n",
            " [  0   0   0   0   0   0   0   0  13 182 254 254 254 254 254 254 254 254\n",
            "  243  70   0   0   0   0   0   0   0   0]\n",
            " [  0   0   0   0   0   0   0   0   0   8  76 146 254 255 254 255 146  19\n",
            "   15   0   0   0   0   0   0   0   0   0]\n",
            " [  0   0   0   0   0   0   0   0   0   0   0   0   0   0   0   0   0   0\n",
            "    0   0   0   0   0   0   0   0   0   0]\n",
            " [  0   0   0   0   0   0   0   0   0   0   0   0   0   0   0   0   0   0\n",
            "    0   0   0   0   0   0   0   0   0   0]\n",
            " [  0   0   0   0   0   0   0   0   0   0   0   0   0   0   0   0   0   0\n",
            "    0   0   0   0   0   0   0   0   0   0]\n",
            " [  0   0   0   0   0   0   0   0   0   0   0   0   0   0   0   0   0   0\n",
            "    0   0   0   0   0   0   0   0   0   0]]\n"
          ]
        },
        {
          "output_type": "display_data",
          "data": {
            "text/plain": [
              "<Figure size 640x480 with 1 Axes>"
            ],
            "image/png": "[encoded data removed]"
          },
          "metadata": {}
        }
      ]
    },
    {
      "cell_type": "markdown",
      "source": [
        "b"
      ],
      "metadata": {
        "id": "WHlzsmQFwjyO"
      }
    },
    {
      "cell_type": "code",
      "source": [
        "from sklearn.ensemble import RandomForestClassifier\n",
        "from sklearn.model_selection import train_test_split\n",
        "from sklearn.metrics import zero_one_loss\n",
        "from sklearn.linear_model import LogisticRegression\n",
        "\n",
        "X = df.iloc[:,1:].values\n",
        "y = df.label.values\n",
        "\n",
        "X_train, X_test, y_train, y_test = train_test_split(X, y, test_size=0.25, random_state=7,stratify =y) #stratify to maintain proportion o fclasses in train and test set\n",
        "\n",
        "rf = RandomForestClassifier(n_jobs=-1)\n",
        "rf.fit(X_train,y_train)\n",
        "y_rf = rf.predict(X_test)\n",
        "loss_rf = zero_one_loss(y_test,y_rf)\n",
        "print('Random Forest Loss = {}'.format(loss_rf))\n",
        "\n",
        "\n",
        "\n"
      ],
      "metadata": {
        "colab": {
          "base_uri": "https://localhost:8080/"
        },
        "id": "iFZCOFlIwi4H",
        "outputId": "a993f07c-c65b-45ae-b82f-9c112ff1296e"
      },
      "execution_count": null,
      "outputs": [
        {
          "output_type": "stream",
          "name": "stdout",
          "text": [
            "Random Forest Loss = 0.03695238095238096\n"
          ]
        }
      ]
    },
    {
      "cell_type": "code",
      "source": [
        "lr = LogisticRegression(max_iter=1000,n_jobs=-1)\n",
        "lr.fit(X_train,y_train)\n",
        "y_lr = lr.predict(X_test)\n",
        "loss_lr = zero_one_loss(y_test,y_lr)\n",
        "print('Log reg Loss = {}'.format(loss_lr)) #takes a longer running time because of dimensionality problem - 784 cols and rf is faster ?"
      ],
      "metadata": {
        "colab": {
          "base_uri": "https://localhost:8080/"
        },
        "id": "va6ZoIvDygX3",
        "outputId": "6a427aa9-d713-4b51-a9c9-3214ca495660"
      },
      "execution_count": null,
      "outputs": [
        {
          "output_type": "stream",
          "name": "stdout",
          "text": [
            "Log reg Loss = 0.10476190476190472\n"
          ]
        }
      ]
    },
    {
      "cell_type": "code",
      "source": [
        "missed_cases = np.where(y_rf != y_test)[0] #0 to get rid of dtype\n",
        "#print(missed_cases)\n",
        "n=missed_cases[97]\n",
        "\n",
        "print('true label ={},rf label ={}'.format(y_test[n],y_rf[n]))\n",
        "\n",
        "\n",
        "image = X_test[n][:].reshape(28,28)\n",
        "#print(image)\n",
        "\n",
        "plt.imshow(image,cmap='gray')\n",
        "\n",
        "plt.show()"
      ],
      "metadata": {
        "colab": {
          "base_uri": "https://localhost:8080/",
          "height": 447
        },
        "id": "l2dUMjp2zVeF",
        "outputId": "d809b967-9685-4881-9e87-dce82303e6f8"
      },
      "execution_count": null,
      "outputs": [
        {
          "output_type": "stream",
          "name": "stdout",
          "text": [
            "true label =7,rf label =9\n"
          ]
        },
        {
          "output_type": "display_data",
          "data": {
            "text/plain": [
              "<Figure size 640x480 with 1 Axes>"
            ],
            "image/png": "[encoded data removed]"
          },
          "metadata": {}
        }
      ]
    },
    {
      "cell_type": "markdown",
      "source": [
        "4. Read Section 8.2.4 of the textbook. Using the program from this section, write a basic implementation of a decision tree for a binary classification problem. Implement\n",
        "the misclassification, the Gini index, and the entropy score criterion. Compare the\n",
        "Gini index and the entropy with the misclassification score. Which metric is more\n",
        "sensitive to a node’s impurity?\n"
      ],
      "metadata": {
        "id": "jI75fG_ShCqh"
      }
    },
    {
      "cell_type": "code",
      "source": [],
      "metadata": {
        "id": "bhEjClhrxC6U"
      },
      "execution_count": null,
      "outputs": []
    },
    {
      "cell_type": "code",
      "source": [
        "# Lab2Q4 - BasicTreeExtended.py\n",
        "import numpy as np\n",
        "from sklearn.datasets import make_friedman1, make_blobs\n",
        "from sklearn.model_selection import train_test_split\n",
        "from enum import Enum\n",
        "from sklearn.metrics import zero_one_loss\n",
        "# deferent loss types - define diff loss types  having a class instead of strings -> more structural / systematic\n",
        "class LossType(Enum):\n",
        "  SQER = 1 # for regn prob\n",
        "  MISSCLF = 2 #for classfn prob\n",
        "  GINI = 3#for classfn prob\n",
        "  CE = 4 #cross entropy #for classfn prob\n",
        "## to make regn and classfn datasets\n",
        "def makedata():\n",
        "  n_points = 500 # points\n",
        "  X, y = make_friedman1(n_samples=n_points, n_features=5,noise=1.0, random_state=100)\n",
        "return train_test_split(X, y, test_size=0.5, random_state=3)\n",
        "\n",
        " #restrict prob as bin clasfn prob coz centers = 2 + train test split 50:50 # random choice\n",
        "def makedata_clf():\n",
        "  n_points = 500 # points\n",
        "  X, y = make_blobs(n_samples=n_points, centers=2, n_features=5,\n",
        "  random_state=10, cluster_std=5)\n",
        "  return train_test_split(X, y, test_size=0.5, random_state=3)\n",
        "\n",
        "# tree node --> trees in python are represented by node\n",
        "class TNode:\n",
        "  def __init__(self, depth, X, y, lossType):\n",
        "    global n\n",
        "    self.depth = depth\n",
        "    self.X = X # matrix of explanatory variables\n",
        "    self.y = y # vector of response variables\n",
        "    self.lossType = lossType\n",
        "# initialize optimal split parameters\n",
        "    self.j = None # best split parameters - j and xi ---> formula ?\n",
        "    self.xi = None\n",
        "# initialize children to be None -> each node has left and right children\n",
        "    self.left = None\n",
        "    self.right = None\n",
        "# initialize the regional predictor -> only happens when node becomes leaf node\n",
        "    self.g = None\n",
        "  def CalculateLoss(self): #fn TNODE HAS fn to calc loss\n",
        "    if (len(self.y)==0): # if no samples in that node return 0\n",
        "      return 0\n",
        "  if(self.lossType == LossType.SQER):\n",
        "    return np.sum(np.power(self.y- self.y.mean(),2))\n",
        "\n",
        "# count class instances\n",
        "c0 = len(self.y[self.y==0])\n",
        "c1 = len(self.y[self.y==1])\n",
        "if(self.lossType == LossType.MISSCLF):\n",
        "  return (1 - max(c0,c1)/(c0+c1))*(len(self.y)/n) # accuracy score is max(c0,c1)/(c0+c1) so 1 -\n",
        "#that is misclf rate because these are in proportion we multiply by correcting  factor no.of samples / total sample size\n",
        "#we care more about count rather than proportion + this is for local node this is like normalisation and make it comparable to whole tree ?\n",
        "#some node - close to 0% loss but it has only few samples compared to another node with higher loss higher sample sze - so bigger SSIZE should be weighted / contribute more into splitting process\n",
        "#loss should be kept in global scale and not local scale\n",
        "p0 = c0/(c0+c1)\n",
        "p1 = c1/(c0+c1)\n",
        "if(self.lossType == LossType.GINI):\n",
        "  return (p0*(1-p0) + p1*(1-p1))*(len(self.y)/n)\n",
        "\n",
        "if(self.lossType == LossType.CE):\n",
        "  if(p0==0 or p1==0):\n",
        "  return 0\n",
        "else:\n",
        "  return (-0.5*(p0*np.log2(p0) + p1*np.log2(p1)))*(len(self.y)/n) #scale it by factor of 1/2 why ? the max loss will be 0.5 in misclf loss cant ve more than 0.5 cause cant beand #p0 - p 1 max gini is 0.5 so we scale it to 0.5 tro normalise it and compare with other losses\n",
        "                                                                  #We could have not scaled it thats ok losses are highest when p0 = p1\n"
      ],
      "metadata": {
        "id": "JLigVqMKgnsS",
        "colab": {
          "base_uri": "https://localhost:8080/",
          "height": 106
        },
        "outputId": "1f74244d-d376-47cf-9bc6-6c0958551728"
      },
      "execution_count": null,
      "outputs": [
        {
          "output_type": "error",
          "ename": "IndentationError",
          "evalue": "expected an indented block after class definition on line 27 (<ipython-input-1-186b25e1f14e>, line 28)",
          "traceback": [
            "\u001b[0;36m  File \u001b[0;32m\"<ipython-input-1-186b25e1f14e>\"\u001b[0;36m, line \u001b[0;32m28\u001b[0m\n\u001b[0;31m    def __init__(self, depth, X, y, lossType):\u001b[0m\n\u001b[0m    ^\u001b[0m\n\u001b[0;31mIndentationError\u001b[0m\u001b[0;31m:\u001b[0m expected an indented block after class definition on line 27\n"
          ]
        }
      ]
    },
    {
      "cell_type": "code",
      "source": [
        "def Construct_Subtree(node, max_depth,lossType): #fit tree to training data\n",
        "  if(node.depth == max_depth or len(node.y) == 1): # then we stop i.e stop from further splits from that node making it leaf node so can calc predictor fn\n",
        "    node.g = node.y.mean() # can work for reg and clf -> clf <0.5 then 0\n",
        "  else:\n",
        "    j, xi = CalculateOptimalSplit(node, lossType)\n",
        "    node.j = j\n",
        "    node.xi = xi\n",
        "    Xt, yt, Xf, yf = DataSplit(node.X, node.y, j, xi) # xt xtrue yf y false\n",
        "\n",
        "\n",
        "    if(len(yt)>0):\n",
        "      node.left = TNode(node.depth+1,Xt,yt, lossType) ##if true part isnt empty then we will create a new node at level depth +1 with xtrue and y true and it will go into left child of curr node\n",
        "      Construct_Subtree(node.left, max_depth, lossType) #run it on child node #slr for right\n",
        "    if(len(yf)>0):\n",
        "      node.right = TNode(node.depth+1, Xf,yf, lossType)\n",
        "      Construct_Subtree(node.right, max_depth, lossType)\n",
        "  return node\n",
        "\n",
        "# split the data-set\n",
        "def DataSplit(X,y,j,xi):\n",
        "  ids = X[:,j]<=xi #split x into xt and xf aand y into yf and yt\n",
        "  Xt = X[ids == True,:]\n",
        "  Xf = X[ids == False,:]\n",
        "  yt = y[ids == True]\n",
        "  yf = y[ids == False]\n",
        "  return Xt, yt, Xf, yf\n",
        "\n",
        "def CalculateOptimalSplit(node, lossType):\n",
        "  X = node.X\n",
        "  y = node.y\n",
        "  best_var = 0 #best j\n",
        "  best_xi = X[0,best_var]\n",
        "  best_split_val = node.CalculateLoss()\n",
        "\n",
        "  m, n = X.shape\n",
        "  for j in range(0,n):\n",
        "    for i in range(0,m):\n",
        "      xi = X[i,j]\n",
        "      Xt, yt, Xf, yf = DataSplit(X,y,j,xi) #temporary split and calc loss\n",
        "      tmpt = TNode(0, Xt, yt, lossType) #2 new nodes for true and false part\n",
        "      tmpf = TNode(0, Xf, yf, lossType)\n",
        "      loss_t = tmpt.CalculateLoss()\n",
        "      loss_f = tmpf.CalculateLoss()\n",
        "      curr_val = loss_t + loss_f\n",
        "      if (curr_val < best_split_val): #find one with best reduction in loss\n",
        "        best_split_val = curr_val\n",
        "        best_var = j\n",
        "        best_xi = xi\n",
        "  return best_var, best_xi\n",
        "\n",
        "def Predict(X,node): #take in new obs -> start from root node\n",
        "  if(node.right == None and node.left != None): # tree doesnt split (not empty) to right but does on left then we go down left child\n",
        "    return Predict(X,node.left)\n",
        "  if(node.right != None and node.left == None):# tree doesnt split (not empty) to leftt but does on left then we go down right child\n",
        "    return Predict(X,node.right)\n",
        "  if(node.right == None and node.left == None): #both empty i.e we end up in leafnode so we return predicted val at that node g is mean of ytrain vals\n",
        "    return node.g\n",
        "  else:#if both nodes are present\n",
        "    if(X[node.j] <= node.xi): #splitting decision xj compare to xi val\n",
        "      return Predict(X,node.left)\n",
        "    else:\n",
        "      return Predict(X,node.right)\n",
        "\n",
        "\n",
        "\n",
        "\n"
      ],
      "metadata": {
        "id": "-0VfBhsGgpmh"
      },
      "execution_count": null,
      "outputs": []
    },
    {
      "cell_type": "code",
      "source": [
        "\n",
        "if __name__ == \"__main__\":\n",
        "X_train, X_test, y_train, y_test = makedata_clf()\n",
        "maxdepth = 10 # maximum tree depth\n",
        "n = len(X_train)\n",
        "# define loss type\n",
        "#why dont we have a fn to select best loss ? and if we do how will it look ? classfn any last 3\n",
        "#lossType = LossType.GINI\n",
        "#lossType = LossType.SQER\n",
        "#lossType = LossType.CE\n",
        "lossType = LossType.MISSCLF\n",
        "# Create tree root at depth 0\n",
        "treeRoot = TNode(0, X_train,y_train,lossType)\n",
        "# Build the regression tree with maximal depth equal to max_depth\n",
        "Construct_Subtree(treeRoot, maxdepth,lossType)\n",
        "# Predict\n",
        "y_hat = np.zeros(len(X_test))\n",
        "for i in range(len(X_test)):\n",
        "y_hat[i] = Predict(X_test[i],treeRoot)\n",
        "print(\"Basic tree: tree loss = \", zero_one_loss(y_test, np.int64(y_hat)))\n"
      ],
      "metadata": {
        "id": "U3zFwVKxnX6V"
      },
      "execution_count": null,
      "outputs": []
    },
    {
      "cell_type": "markdown",
      "source": [
        "gini 7.5\n",
        "ce - 8.4\n",
        "using gini seems to give best results\n",
        "why sklearn decision tree defaults to using gini loss"
      ],
      "metadata": {
        "id": "-qzrLHP3vzdx"
      }
    },
    {
      "cell_type": "markdown",
      "source": [
        "5.c\n",
        "\n",
        "Answer :\n",
        "\n",
        "here, in this implementation all var are numericals and spliitingrule x,j <=xi lets say we pick a col and it has n vals then we have to only consider those n cases.We should only be looking into unique vals of cols\n",
        "\n",
        "however if we dont wanna change categorical to numeric,\n",
        "\n",
        "then create splitting rule for categorical var\n",
        " should consider 2^c-1 ways to split the tree i.e 3 trees right rest upto c left..4 trees - 5 trees etc etce\n",
        "\n",
        " instead 2^c we say 2^c-1 coz we dont wanna double count  3 trees right rest upto c left and  3 trees left rest upto c right\n",
        "\n",
        "\n",
        " ![image.png](data:image/png;base64,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)\n"
      ],
      "metadata": {
        "id": "SrvjDQoxhGFR"
      }
    },
    {
      "cell_type": "markdown",
      "source": [
        "diff datasplit fn for categorical classfn"
      ],
      "metadata": {
        "id": "2VM3UZtLzDPr"
      }
    },
    {
      "cell_type": "markdown",
      "source": [
        "LAB 3 1st half not attended so---\n",
        "30.04.25"
      ],
      "metadata": {
        "id": "aZYs7OO6tGAm"
      }
    },
    {
      "cell_type": "markdown",
      "source": [
        "Q4, IN R\n",
        "\n",
        "\n",
        "setwd(\"C:/Users/s4903901/Downloads/\")\n",
        "popcorn <- read.csv(\"popcorn.csv\", header=TRUE)\n",
        "attach(popcorn)\n",
        "view(popcorn)\n",
        "plot(y ~ Temperature)\n",
        "plot(y ~ Time) # only 3 time values are there looks like y doesnt change much with time ? so thats y time aint included as explanatory var ? idk\n",
        "plot(y ~ Oil)\n",
        "\n",
        "\n",
        "plot(y/Time ~ Oil) #treat y as sole response var\n",
        "plot(y/Time ~ Temperature)\n",
        "#popcorn.glm2 <- glm(y/Time ~ Temperature*Oil) #or popcorn.glm2 <- glm(y ~ log(Time) + T... #\n",
        "\n",
        "#y given time,temp , Oil ~ (is a ) Poisson (mu) #why does it have poison distri ?\n",
        "#log(mu) = log(Time) + b0 + b1*Temperature +b2*Oil +b3*Temperature*Oil\n",
        "#here we use log coz poisson positive and log changes ? man idfk\n",
        "\n",
        "popcorn.glm = glm(y ~ offset(log(Time)) +\n",
        "                    Oil * Temperature, family = poisson(link = log))\n",
        "summary(popcorn.glm)\n",
        "\n",
        "#o values there a lot of non significant -> mean combo of var it can be simplified\n",
        "#we do so by removing terms\n",
        "#first do diagnostic plot to see outlier\n",
        "\n",
        "plot(popcorn.glm)\n",
        "\n",
        "popcorn2 = popcorn[-7,] # removed no.7 outlier obs and fit poisson model again\n",
        "attach(popcorn2)\n",
        "plot(popcorn.glm)\n",
        "\n",
        "popcorn.glm = glm(y ~ offset(log(Time)) +\n",
        "                    Oil * Temperature, family = poisson(link = log))\n",
        "summary(popcorn.glm)\n",
        "\n",
        "#we kniw that interaction term aint that significant i.e if we change * to +\n",
        "popcorn.glm2 = glm(y ~ offset(log(Time)) +\n",
        "                      Oil + Temperature, family = poisson(link = log))# oddset we are just adding it to right side not fitting as explanatory var\n",
        "summary(popcorn.glm2)\n",
        "\n",
        "#\n",
        "popcorn.glm3 <- glm(y ~ offset(log(Time)) +\n",
        "                      Temperature, family = poisson(link = log))\n",
        "summary(popcorn.glm3)\n",
        "\n",
        "#both oil and temp explanatory vars cant explain  rate pf inedible\n",
        "#we use poisson coz y is a accounts , discrete , random variable\n",
        "#if var is binary - binomial distri -> model is logistic reg model\n",
        "#gamma , inverse gaussian - positive ?glm in console and in help screen >> family hyperlink\n",
        "#we start of with the most coplex then one by one remove all non significant coeffs\n",
        "#AIC/BIC - compare models to choose better\n",
        "BIC(popcorn.glm3,popcorn.glm2,popcorn.glm) #smallest BIC choose\n",
        "#BIC - IF COMPLEX model aint performing better fit then it'll choose simpler model.\n",
        "\n",
        "\n",
        "\n"
      ],
      "metadata": {
        "id": "X5LYbgi71bLk"
      }
    },
    {
      "cell_type": "code",
      "source": [
        "import pandas as pd\n",
        "import numpy as np\n",
        "\n",
        "df = pd.read_csv(\"/content/nerve.csv\",index_col = 0)\n",
        "df.head()"
      ],
      "metadata": {
        "id": "9PxvgeePvntJ",
        "colab": {
          "base_uri": "https://localhost:8080/",
          "height": 206
        },
        "outputId": "3c99bff1-0ba1-4519-ba14-317d0e5a92e9"
      },
      "execution_count": null,
      "outputs": [
        {
          "output_type": "execute_result",
          "data": {
            "text/plain": [
              "   nerve\n",
              "1   0.21\n",
              "2   0.03\n",
              "3   0.05\n",
              "4   0.11\n",
              "5   0.59"
            ],
            "text/html": [
              "\n",
              "  <div id=\"df-82abc708-8b3c-4700-ab96-c1b79a3769e4\" class=\"colab-df-container\">\n",
              "    <div>\n",
              "<style scoped>\n",
              "    .dataframe tbody tr th:only-of-type {\n",
              "        vertical-align: middle;\n",
              "    }\n",
              "\n",
              "    .dataframe tbody tr th {\n",
              "        vertical-align: top;\n",
              "    }\n",
              "\n",
              "    .dataframe thead th {\n",
              "        text-align: right;\n",
              "    }\n",
              "</style>\n",
              "<table border=\"1\" class=\"dataframe\">\n",
              "  <thead>\n",
              "    <tr style=\"text-align: right;\">\n",
              "      <th></th>\n",
              "      <th>nerve</th>\n",
              "    </tr>\n",
              "  </thead>\n",
              "  <tbody>\n",
              "    <tr>\n",
              "      <th>1</th>\n",
              "      <td>0.21</td>\n",
              "    </tr>\n",
              "    <tr>\n",
              "      <th>2</th>\n",
              "      <td>0.03</td>\n",
              "    </tr>\n",
              "    <tr>\n",
              "      <th>3</th>\n",
              "      <td>0.05</td>\n",
              "    </tr>\n",
              "    <tr>\n",
              "      <th>4</th>\n",
              "      <td>0.11</td>\n",
              "    </tr>\n",
              "    <tr>\n",
              "      <th>5</th>\n",
              "      <td>0.59</td>\n",
              "    </tr>\n",
              "  </tbody>\n",
              "</table>\n",
              "</div>\n",
              "    <div class=\"colab-df-buttons\">\n",
              "\n",
              "  <div class=\"colab-df-container\">\n",
              "    <button class=\"colab-df-convert\" onclick=\"convertToInteractive('df-82abc708-8b3c-4700-ab96-c1b79a3769e4')\"\n",
              "            title=\"Convert this dataframe to an interactive table.\"\n",
              "            style=\"display:none;\">\n",
              "\n",
              "  <svg xmlns=\"http://www.w3.org/2000/svg\" height=\"24px\" viewBox=\"0 -960 960 960\">\n",
              "    <path d=\"M120-120v-720h720v720H120Zm60-500h600v-160H180v160Zm220 220h160v-160H400v160Zm0 220h160v-160H400v160ZM180-400h160v-160H180v160Zm440 0h160v-160H620v160ZM180-180h160v-160H180v160Zm440 0h160v-160H620v160Z\"/>\n",
              "  </svg>\n",
              "    </button>\n",
              "\n",
              "  <style>\n",
              "    .colab-df-container {\n",
              "      display:flex;\n",
              "      gap: 12px;\n",
              "    }\n",
              "\n",
              "    .colab-df-convert {\n",
              "      background-color: #E8F0FE;\n",
              "      border: none;\n",
              "      border-radius: 50%;\n",
              "      cursor: pointer;\n",
              "      display: none;\n",
              "      fill: #1967D2;\n",
              "      height: 32px;\n",
              "      padding: 0 0 0 0;\n",
              "      width: 32px;\n",
              "    }\n",
              "\n",
              "    .colab-df-convert:hover {\n",
              "      background-color: #E2EBFA;\n",
              "      box-shadow: 0px 1px 2px rgba(60, 64, 67, 0.3), 0px 1px 3px 1px rgba(60, 64, 67, 0.15);\n",
              "      fill: #174EA6;\n",
              "    }\n",
              "\n",
              "    .colab-df-buttons div {\n",
              "      margin-bottom: 4px;\n",
              "    }\n",
              "\n",
              "    [theme=dark] .colab-df-convert {\n",
              "      background-color: #3B4455;\n",
              "      fill: #D2E3FC;\n",
              "    }\n",
              "\n",
              "    [theme=dark] .colab-df-convert:hover {\n",
              "      background-color: #434B5C;\n",
              "      box-shadow: 0px 1px 3px 1px rgba(0, 0, 0, 0.15);\n",
              "      filter: drop-shadow(0px 1px 2px rgba(0, 0, 0, 0.3));\n",
              "      fill: #FFFFFF;\n",
              "    }\n",
              "  </style>\n",
              "\n",
              "    <script>\n",
              "      const buttonEl =\n",
              "        document.querySelector('#df-82abc708-8b3c-4700-ab96-c1b79a3769e4 button.colab-df-convert');\n",
              "      buttonEl.style.display =\n",
              "        google.colab.kernel.accessAllowed ? 'block' : 'none';\n",
              "\n",
              "      async function convertToInteractive(key) {\n",
              "        const element = document.querySelector('#df-82abc708-8b3c-4700-ab96-c1b79a3769e4');\n",
              "        const dataTable =\n",
              "          await google.colab.kernel.invokeFunction('convertToInteractive',\n",
              "                                                    [key], {});\n",
              "        if (!dataTable) return;\n",
              "\n",
              "        const docLinkHtml = 'Like what you see? Visit the ' +\n",
              "          '<a target=\"_blank\" href=https://colab.research.google.com/notebooks/data_table.ipynb>data table notebook</a>'\n",
              "          + ' to learn more about interactive tables.';\n",
              "        element.innerHTML = '';\n",
              "        dataTable['output_type'] = 'display_data';\n",
              "        await google.colab.output.renderOutput(dataTable, element);\n",
              "        const docLink = document.createElement('div');\n",
              "        docLink.innerHTML = docLinkHtml;\n",
              "        element.appendChild(docLink);\n",
              "      }\n",
              "    </script>\n",
              "  </div>\n",
              "\n",
              "\n",
              "    <div id=\"df-89531444-1230-4bc5-9988-7a9df794663b\">\n",
              "      <button class=\"colab-df-quickchart\" onclick=\"quickchart('df-89531444-1230-4bc5-9988-7a9df794663b')\"\n",
              "                title=\"Suggest charts\"\n",
              "                style=\"display:none;\">\n",
              "\n",
              "<svg xmlns=\"http://www.w3.org/2000/svg\" height=\"24px\"viewBox=\"0 0 24 24\"\n",
              "     width=\"24px\">\n",
              "    <g>\n",
              "        <path d=\"M19 3H5c-1.1 0-2 .9-2 2v14c0 1.1.9 2 2 2h14c1.1 0 2-.9 2-2V5c0-1.1-.9-2-2-2zM9 17H7v-7h2v7zm4 0h-2V7h2v10zm4 0h-2v-4h2v4z\"/>\n",
              "    </g>\n",
              "</svg>\n",
              "      </button>\n",
              "\n",
              "<style>\n",
              "  .colab-df-quickchart {\n",
              "      --bg-color: #E8F0FE;\n",
              "      --fill-color: #1967D2;\n",
              "      --hover-bg-color: #E2EBFA;\n",
              "      --hover-fill-color: #174EA6;\n",
              "      --disabled-fill-color: #AAA;\n",
              "      --disabled-bg-color: #DDD;\n",
              "  }\n",
              "\n",
              "  [theme=dark] .colab-df-quickchart {\n",
              "      --bg-color: #3B4455;\n",
              "      --fill-color: #D2E3FC;\n",
              "      --hover-bg-color: #434B5C;\n",
              "      --hover-fill-color: #FFFFFF;\n",
              "      --disabled-bg-color: #3B4455;\n",
              "      --disabled-fill-color: #666;\n",
              "  }\n",
              "\n",
              "  .colab-df-quickchart {\n",
              "    background-color: var(--bg-color);\n",
              "    border: none;\n",
              "    border-radius: 50%;\n",
              "    cursor: pointer;\n",
              "    display: none;\n",
              "    fill: var(--fill-color);\n",
              "    height: 32px;\n",
              "    padding: 0;\n",
              "    width: 32px;\n",
              "  }\n",
              "\n",
              "  .colab-df-quickchart:hover {\n",
              "    background-color: var(--hover-bg-color);\n",
              "    box-shadow: 0 1px 2px rgba(60, 64, 67, 0.3), 0 1px 3px 1px rgba(60, 64, 67, 0.15);\n",
              "    fill: var(--button-hover-fill-color);\n",
              "  }\n",
              "\n",
              "  .colab-df-quickchart-complete:disabled,\n",
              "  .colab-df-quickchart-complete:disabled:hover {\n",
              "    background-color: var(--disabled-bg-color);\n",
              "    fill: var(--disabled-fill-color);\n",
              "    box-shadow: none;\n",
              "  }\n",
              "\n",
              "  .colab-df-spinner {\n",
              "    border: 2px solid var(--fill-color);\n",
              "    border-color: transparent;\n",
              "    border-bottom-color: var(--fill-color);\n",
              "    animation:\n",
              "      spin 1s steps(1) infinite;\n",
              "  }\n",
              "\n",
              "  @keyframes spin {\n",
              "    0% {\n",
              "      border-color: transparent;\n",
              "      border-bottom-color: var(--fill-color);\n",
              "      border-left-color: var(--fill-color);\n",
              "    }\n",
              "    20% {\n",
              "      border-color: transparent;\n",
              "      border-left-color: var(--fill-color);\n",
              "      border-top-color: var(--fill-color);\n",
              "    }\n",
              "    30% {\n",
              "      border-color: transparent;\n",
              "      border-left-color: var(--fill-color);\n",
              "      border-top-color: var(--fill-color);\n",
              "      border-right-color: var(--fill-color);\n",
              "    }\n",
              "    40% {\n",
              "      border-color: transparent;\n",
              "      border-right-color: var(--fill-color);\n",
              "      border-top-color: var(--fill-color);\n",
              "    }\n",
              "    60% {\n",
              "      border-color: transparent;\n",
              "      border-right-color: var(--fill-color);\n",
              "    }\n",
              "    80% {\n",
              "      border-color: transparent;\n",
              "      border-right-color: var(--fill-color);\n",
              "      border-bottom-color: var(--fill-color);\n",
              "    }\n",
              "    90% {\n",
              "      border-color: transparent;\n",
              "      border-bottom-color: var(--fill-color);\n",
              "    }\n",
              "  }\n",
              "</style>\n",
              "\n",
              "      <script>\n",
              "        async function quickchart(key) {\n",
              "          const quickchartButtonEl =\n",
              "            document.querySelector('#' + key + ' button');\n",
              "          quickchartButtonEl.disabled = true;  // To prevent multiple clicks.\n",
              "          quickchartButtonEl.classList.add('colab-df-spinner');\n",
              "          try {\n",
              "            const charts = await google.colab.kernel.invokeFunction(\n",
              "                'suggestCharts', [key], {});\n",
              "          } catch (error) {\n",
              "            console.error('Error during call to suggestCharts:', error);\n",
              "          }\n",
              "          quickchartButtonEl.classList.remove('colab-df-spinner');\n",
              "          quickchartButtonEl.classList.add('colab-df-quickchart-complete');\n",
              "        }\n",
              "        (() => {\n",
              "          let quickchartButtonEl =\n",
              "            document.querySelector('#df-89531444-1230-4bc5-9988-7a9df794663b button');\n",
              "          quickchartButtonEl.style.display =\n",
              "            google.colab.kernel.accessAllowed ? 'block' : 'none';\n",
              "        })();\n",
              "      </script>\n",
              "    </div>\n",
              "\n",
              "    </div>\n",
              "  </div>\n"
            ],
            "application/vnd.google.colaboratory.intrinsic+json": {
              "type": "dataframe",
              "variable_name": "df",
              "summary": "{\n  \"name\": \"df\",\n  \"rows\": 799,\n  \"fields\": [\n    {\n      \"column\": \"nerve\",\n      \"properties\": {\n        \"dtype\": \"number\",\n        \"std\": 0.2091885907495704,\n        \"min\": 0.01,\n        \"max\": 1.38,\n        \"num_unique_values\": 88,\n        \"samples\": [\n          0.63,\n          0.21,\n          0.36\n        ],\n        \"semantic_type\": \"\",\n        \"description\": \"\"\n      }\n    }\n  ]\n}"
            }
          },
          "metadata": {},
          "execution_count": 2
        }
      ]
    },
    {
      "cell_type": "markdown",
      "source": [
        "Plot TooLife (y-axis) versus Speed (x-axis). Comment on the pattern that\n",
        "you see. Next, plot log(TooLife) versus log(Speed) and comment on the\n",
        "pattern you now see, including any unusual values.\n"
      ],
      "metadata": {
        "id": "txvk353h2Cdz"
      }
    },
    {
      "cell_type": "code",
      "source": [
        "from statsmodels.distributions.empirical_distribution import ECDF\n",
        "import matplotlib.pyplot as plt\n",
        "ecdf = ECDF(df.nerve)\n",
        "plt.plot(ecdf.x,ecdf.y) #ecdf approx to true cdf o var\n",
        "#cdf - tells cumulative prob upto the value i.e 0.4 it is uspto 80%prob and 0.4 - 1.4 it is 20% --> heavy right skewed\n",
        "#sometimes if value has duplicated it is gonna jump i.e like stairs in plot\n",
        "plt.show() #sort all values in sample from small to large then corresponding to each val it'll increase cdf so that we start from 0 then last we reach 1 so icrease by 1/799 (shape)\n",
        "\n",
        "plt.hist(df.nerve , bins = 20) #so it is exponential or gamma distriution\n",
        "plt.show()"
      ],
      "metadata": {
        "colab": {
          "base_uri": "https://localhost:8080/",
          "height": 843
        },
        "id": "SJMP7SPV17e1",
        "outputId": "ccb60b62-2fb4-45ec-b6a7-ab2328b11566"
      },
      "execution_count": null,
      "outputs": [
        {
          "output_type": "display_data",
          "data": {
            "text/plain": [
              "<Figure size 640x480 with 1 Axes>"
            ],
            "image/png": "[encoded data removed]"
          },
          "metadata": {}
        },
        {
          "output_type": "display_data",
          "data": {
            "text/plain": [
              "<Figure size 640x480 with 1 Axes>"
            ],
            "image/png": "[encoded data removed]"
          },
          "metadata": {}
        }
      ]
    },
    {
      "cell_type": "code",
      "source": [
        "#prob that waiting time is b/w 0.4 and 0.6 / proportion of\n",
        "#it i sthe difference b/w values at .4 and 0.6 at the curve\n",
        "# Estimate P(0.4 <= X <= 0.6)\n",
        "F06 = ecdf.y[ecdf.x <= 0.6]\n",
        "F06 = F06[len(F06)-1]\n",
        "F04 = ecdf.y[ecdf.x <= 0.4] ##it i sthe difference b/w values at .4 and 0.6 at the curve\n",
        "#until 0.4 take all values of y\n",
        "F04 = F04[len(F04)-1] #take only the last one # or just do F04 = ecdf.y[ecdf.x <= 0.4][-1]\n",
        "print(\"F(0.4)={},F(0.6)={}, P(0.4 <= X <= 0.6) = {}\".format(F04,F06,F06 - F04))"
      ],
      "metadata": {
        "colab": {
          "base_uri": "https://localhost:8080/"
        },
        "id": "uZC_mNkI3LCj",
        "outputId": "7aeb6411-4689-47d0-ec18-fac1a3938cb4"
      },
      "execution_count": null,
      "outputs": [
        {
          "output_type": "stream",
          "name": "stdout",
          "text": [
            "F(0.4)=0.8410513141426784,F(0.6)=0.9336670838548186, P(0.4 <= X <= 0.6) = 0.09261576971214014\n"
          ]
        }
      ]
    },
    {
      "cell_type": "markdown",
      "source": [
        "larger sample size more accurate approximation will be"
      ],
      "metadata": {
        "id": "eAtlhdqw3_IT"
      }
    },
    {
      "cell_type": "markdown",
      "source": [
        "(c) The skewness is a measure of asymmetry of data (or probability distribution).\n",
        "The skewness is given by:\n",
        "E\n",
        "\"\u0012\n",
        "x − µ\n",
        "σ\n",
        "\u00133\n",
        "#\n",
        ".\n",
        "i. Provide (and calculate) a plug-in estimate of the skewness for the nerve\n",
        "data.\n",
        "ii. Use the bootstrap method to (1000 samples), to provide the 95% confidence interval for the skewness.\n",
        "\n",
        "expectation will be negative if we have more negative val so the formula is used to rep skewness"
      ],
      "metadata": {
        "id": "4ZB62FxN4Vsg"
      }
    },
    {
      "cell_type": "code",
      "source": [
        "#How accurate is it? We should construct a CI sincwe it allows us to more clearly illustrate the accuracy of estimate\n",
        "#apply bootstrapping method\n",
        "def skew(X):\n",
        "  mu = np.mean(X)\n",
        "  sigma = np.std(X) #unknown vals will be replaced by sd and sample mean\n",
        "  #we dont know distribution of x but we have samples so we can just take sample mean of these\n",
        "  skew = np.mean(np.power(X-mu,3)/sigma**3)\n",
        "  return skew\n",
        "est = skew(df.nerve)\n",
        "print(\"Estimate of skewness = {}\".format(est)) #o/p will confirm that it is positively / right skewed\n",
        "\n",
        "\n"
      ],
      "metadata": {
        "colab": {
          "base_uri": "https://localhost:8080/"
        },
        "id": "Ym3_WnKr4FMy",
        "outputId": "989b9353-2ccd-446e-a4d8-1eeb7ed1a548"
      },
      "execution_count": null,
      "outputs": [
        {
          "output_type": "stream",
          "name": "stdout",
          "text": [
            "Estimate of skewness = 1.7612485439301833\n"
          ]
        }
      ]
    },
    {
      "cell_type": "code",
      "source": [
        "#How accurate is it? We should construct a CI sincwe it allows us to more clearly illustrate the accuracy of estimate\n",
        "#apply bootstrapping method\n",
        "N = 1000 #cant increase accuracy by increasing bootstrap samplesjust make results more consistent for sd as if you refresh it may change slightly each time\n",
        "#coz we aint generating new data just reusing so only one degree of accuracy\n",
        "#can increase accuracy if we have more samples i.e new data\n",
        "skew_list = np.zeros(N)\n",
        "for i in range(N):\n",
        "  nerve_bs = np.random.choice(df.nerve,size = len(df.nerve),replace=True)\n",
        "  skew_bs = skew(nerve_bs)\n",
        "  skew_list[i] = skew_bs # we have list of samples of that quan to allow us to calc sd\n",
        "std_skew = np.std(skew_list)\n",
        "print(\"std of skewness ={}, 95% CI for ske={}\".format(std_skew,[est-1.96*std_skew,est+1.96*std_skew])) #est of true val shouldnt deviate far from the value ci\n"
      ],
      "metadata": {
        "colab": {
          "base_uri": "https://localhost:8080/"
        },
        "id": "gCrEbfWY5yU6",
        "outputId": "1f57c6da-6426-474f-dca2-8227909c6f16"
      },
      "execution_count": null,
      "outputs": [
        {
          "output_type": "stream",
          "name": "stdout",
          "text": [
            "std of skewness =0.15563777051843297, 95% CI for ske=[np.float64(1.4561985137140545), np.float64(2.066298574146312)]\n"
          ]
        }
      ]
    },
    {
      "cell_type": "markdown",
      "source": [
        " Tandem Queue - service 1 first then servuce 2 then leave\n",
        "\n",
        " each service has own queue\\\n",
        "\n",
        " interarrival team has exponential and random distribution with mean lambda = 3 how ?"
      ],
      "metadata": {
        "id": "7a2hXBrWzBhA"
      }
    },
    {
      "cell_type": "code",
      "source": [
        "import numpy as np\n",
        "import heapq\n",
        "import matplotlib.pyplot as plt\n",
        "#############################################################\n",
        "class SimData:\n",
        "  def __init__(self,time_arrive, event_type, serv_1_start, serv_1_end,serv_2_start, serv_2_end):\n",
        "    self.m_time_arrive = time_arrive\n",
        "    self.m_event_type = event_type\n",
        "    self.m_serv_1_start = serv_1_start\n",
        "    self.m_serv_1_end = serv_1_end\n",
        "    self.m_serv_2_start = serv_2_start\n",
        "    self.m_serv_2_end = serv_2_end\n",
        "    self.m_serv_1_end = serv_1_end   #each obj in this class for one customer / simulation data\n",
        "  def Print(self):\n",
        "    print(self.m_time_arrive,\" (\", self.m_event_type, \") : \"\n",
        "    \", \",self.m_serv_1_start, \" - \", self.m_serv_1_end,\n",
        "    \", \",self.m_serv_2_start, \" - \", self.m_serv_2_end)\n",
        "#############################################################\n",
        "T = 20000 # simulation time\n",
        "ell = []\n",
        "#2 types of event queue - physical queue\n",
        "priorityQueue = []\n",
        "Queue1 = []\n",
        "Queue2 = []\n",
        "mu1 = 1 #mean server 1 time\n",
        "mu2 = 2\n",
        "lmbda = 2.5 #mean lambda\n",
        "t_current = 0 #current time\n",
        "# create first arrival\n",
        "t_current = np.random.exponential(lmbda)\n",
        "data = SimData(t_current,\"ARRIVAL\",-1,-1,-1,-1) #new obj -1 ->dk vals yet\n",
        "heapq.heappush(priorityQueue,(t_current,data)) #Method to enter event into event queue\n",
        "#list has struct of bin tree and first item in list is least value\n",
        "#here event with smallest t at top\n",
        "time_arr = []\n",
        "ellq1_len = []\n",
        "ellq2_len = []\n",
        "serv1busy = 0\n",
        "serv2busy = 0\n"
      ],
      "metadata": {
        "id": "VpMABZuwyKW_"
      },
      "execution_count": null,
      "outputs": []
    },
    {
      "cell_type": "code",
      "source": [
        "while(t_current<T):\n",
        "  obj = heapq.heappop(priorityQueue) #pop an obj (from top i.e least time) from\n",
        "  #priority/events queue and still maintain the structure of least value on top\n",
        "  t_current = obj[0]\n",
        "  event = obj[1]\n",
        "  # record queus length\n",
        "  time_arr.append(t_current)\n",
        "  ellq1_len.append(len(Queue1))\n",
        "  ellq2_len.append(len(Queue2)) # between events sys state will stay unchange\n",
        "  # everytime we deal with an event we record current stsate of sys\n",
        "  #make graph queue length vs time\n",
        "  #3 events - arrival , departs service 1 or departs servce 2 - sys state wil change\n",
        "  if(event.m_event_type == \"ARRIVAL\"):\n",
        "    # handle arrival\n",
        "    # schedule the next arrival\n",
        "    t_next = t_current + np.random.exponential(lmbda)\n",
        "    data = SimData(t_next,\"ARRIVAL\",-1,-1,-1,-1)\n",
        "    heapq.heappush(priorityQueue,(t_next,data))\n",
        "    if(serv1busy==0):\n",
        "      serv1busy = 1\n",
        "      event.m_serv_1_start = t_current\n",
        "      event.m_serv_1_end = t_current + np.random.exponential(mu1)\n",
        "      event.m_event_type = \"DEPARTURE_SERV1\"\n",
        "      heapq.heappush(priorityQueue,(event.m_serv_1_end,event))\n",
        "    else:\n",
        "      Queue1.append(event)\n",
        "    continue\n",
        "  if(event.m_event_type == \"DEPARTURE_SERV1\"):\n",
        "    serv1busy = 0\n",
        "    # handle departure from the first queue\n",
        "    if(serv2busy==0):\n",
        "    serv2busy = 1\n",
        "    event.m_serv_2_start = t_current\n",
        "    event.m_event_type = \"DEPARTURE_SERV2\"\n",
        "    event.m_serv_2_end = t_current + np.random.exponential(mu2)\n",
        "    heapq.heappush(priorityQueue,(event.m_serv_2_end,event))\n",
        "    else:\n",
        "    Queue2.append(event)\n",
        "    if(len(Queue1)!=0):\n",
        "    obj_wait_inq1 = Queue1.pop(0)\n",
        "    obj_wait_inq1.m_serv_1_start = t_current\n",
        "    obj_wait_inq1.m_event_type = \"DEPARTURE_SERV1\"\n",
        "    obj_wait_inq1.m_serv_1_end = t_current + np.random.exponential(mu1)\n",
        "    heapq.heappush(priorityQueue,(obj_wait_inq1.m_serv_1_end,obj_wait_inq1))\n",
        "    serv1busy = 1\n",
        "continue\n",
        "if(event.m_event_type == \"DEPARTURE_SERV2\"):\n",
        "# handle departure from the second queue\n",
        "ell.append(event) #person leaves sys but we keep a record\n",
        "serv2busy = 0\n",
        "if(len(Queue2)!=0):\n",
        "serv2busy = 1\n",
        "obj_wait_inq2 = Queue2.pop(0)\n",
        "obj_wait_inq2.m_serv_2_start = t_current\n",
        "obj_wait_inq2.m_event_type = \"DEPARTURE_SERV2\"\n",
        "obj_wait_inq2.m_serv_2_end = t_current + np.random.exponential(mu2)\n",
        "heapq.heappush(priorityQueue,(obj_wait_inq2.m_serv_2_end,obj_wait_inq2))\n",
        "continue\n",
        "####################################################################################\n"
      ],
      "metadata": {
        "id": "3fZVkpz1zNU5"
      },
      "execution_count": null,
      "outputs": []
    },
    {
      "cell_type": "code",
      "source": [
        "#for event in ell:\n",
        "# event.Print()\n",
        "\n"
      ],
      "metadata": {
        "id": "UOxUXEEW2J3t"
      },
      "execution_count": null,
      "outputs": []
    },
    {
      "cell_type": "code",
      "source": [
        "####################################################################################\n",
        "# Calculate the average waiting time in the system\n",
        "####################################################################################\n",
        "ell_w_time = np.zeros(len(ell)-1000)\n",
        "ell_w_timeQ1 = np.zeros(len(ell)-1000)\n",
        "ell_w_timeQ2 = np.zeros(len(ell)-1000)\n",
        "for i in range(0,len(ell)-1000):\n",
        "event = ell[i+1000] #throwaway first 1000 customers (order of departure time) - burn in wait until sys in staeady state for long run calc\n",
        "wait_t = event.m_serv_2_end - event.m_time_arrive\n",
        "ell_w_time[i] = wait_t\n",
        "wait_t1 = event.m_serv_1_start - event.m_time_arrive\n",
        "wait_t2 = event.m_serv_2_start - event.m_serv_1_end\n",
        "ell_w_timeQ1[i] = wait_t1\n",
        "ell_w_timeQ2[i] = wait_t2\n",
        "tmean = np.mean(ell_w_time)\n",
        "tstd = np.std(ell_w_time)/np.sqrt(len(ell_w_time))\n",
        "print(\"95% CI for total time in the system (\", tmean - 1.96*tstd, \" , \", tmean + 1.96*tstd, \")\")\n",
        "plt.plot(time_arr,ellq1_len, label=\"Q1\")\n",
        "plt.plot(time_arr,ellq2_len,label=\"Q2\")\n",
        "plt.legend()"
      ],
      "metadata": {
        "id": "KrYfv7YC6bLl"
      },
      "execution_count": null,
      "outputs": []
    },
    {
      "cell_type": "code",
      "source": [
        "####################################################################################\n",
        "# average waiting time in queus\n",
        "####################################################################################\n",
        "tmean = np.mean(ell_w_timeQ1)\n",
        "tstd = np.std(ell_w_timeQ1)/np.sqrt(len(ell_w_timeQ1))\n",
        "print(\"95% CI for average waiting time in the first queue (\",\n",
        "tmean - 1.96*tstd, \" , \", tmean + 1.96*tstd, \")\")\n",
        "tmean = np.mean(ell_w_timeQ2)\n",
        "tstd = np.std(ell_w_timeQ2)/np.sqrt(len(ell_w_timeQ2))\n",
        "print(\"95% CI for average waiting time in the second queue (\",\n",
        "tmean - 1.96*tstd, \" , \", tmean + 1.96*tstd, \")\")"
      ],
      "metadata": {
        "id": "vkLQ_dBf6Ztd"
      },
      "execution_count": null,
      "outputs": []
    },
    {
      "cell_type": "markdown",
      "source": [
        "Q3, Only one queue but 2 types of patients - high priority (served first) and low priority --> now 2 queues"
      ],
      "metadata": {
        "id": "xbm-yZrZ6ioe"
      }
    },
    {
      "cell_type": "code",
      "source": [
        "import numpy as np\n",
        "import heapq\n",
        "import matplotlib.pyplot as plt\n",
        "from collections import deque\n",
        "####################################################################################\n",
        "class SimData:\n",
        "  def __init__(self, time_arrive, event_type, priority, serv_start, serv_end):\n",
        "self.m_time_arrive = time_arrive\n",
        "self.m_event_type = event_type\n",
        "self.m_priority = priority\n",
        "self.m_serv_start = serv_start\n",
        "self.m_serv_end = serv_end\n",
        "####################################################################################\n",
        "T = 20000\n",
        "priorityQueue = []\n",
        "QueueHigh = deque() #double ended queue / list - not necessary but faster\n",
        "QueueLow = deque() #append to both sides ( in single and double ended pop can happen both sides)\n",
        "completed_events = []\n",
        "lmbda = 2.0\n",
        "mu = 1.5\n",
        "p_high = 0.3\n",
        "t_current = 0\n",
        "server_busy = 0\n",
        "# For plotting\n",
        "time_arr = []\n",
        "q_high_len = []\n",
        "q_low_len = []\n",
        "# create first arrival\n",
        "t_current = np.random.exponential(lmbda)\n",
        "priority = ’HIGH’ if np.random.rand() < p_high else ’LOW’\n",
        "data = SimData(t_current, \"ARRIVAL\", priority, -1, -1)\n",
        "heapq.heappush(priorityQueue, (t_current, data))\n",
        "# main loop\n",
        "while t_current < T:\n",
        "obj = heapq.heappop(priorityQueue)\n",
        "t_current = obj[0]\n",
        "event = obj[1]\n",
        "# Record queue lengths\n",
        "time_arr.append(t_current)\n",
        "q_high_len.append(len(QueueHigh))\n",
        "q_low_len.append(len(QueueLow))\n",
        "if event.m_event_type == \"ARRIVAL\":\n",
        "# Schedule next arrival\n",
        "t_next = t_current + np.random.exponential(lmbda)\n",
        "priority = ’HIGH’ if np.random.rand() < p_high else ’LOW’\n",
        "data = SimData(t_next, \"ARRIVAL\", priority, -1, -1)\n",
        "heapq.heappush(priorityQueue, (t_next, data))\n",
        "if server_busy == 0:\n",
        "server_busy = 1\n",
        "event.m_serv_start = t_current\n",
        "event.m_serv_end = t_current + np.random.exponential(mu)\n",
        "event.m_event_type = \"DEPARTURE\"\n",
        "heapq.heappush(priorityQueue, (event.m_serv_end, event))\n",
        "else:\n",
        "if event.m_priority == \"HIGH\":\n",
        "QueueHigh.append(event)\n",
        "else:\n",
        "QueueLow.append(event)\n",
        "continue\n",
        "if event.m_event_type == \"DEPARTURE\":\n",
        "server_busy = 0\n",
        "completed_events.append(event)\n",
        "next_patient = None\n",
        "if len(QueueHigh) > 0:\n",
        "next_patient = QueueHigh.popleft()\n",
        "\n"
      ],
      "metadata": {
        "id": "KyX9Qkix6knV"
      },
      "execution_count": null,
      "outputs": []
    },
    {
      "cell_type": "code",
      "source": [
        "lif len(QueueLow) > 0:\n",
        "next_patient = QueueLow.popleft()\n",
        "if next_patient is not None:\n",
        "server_busy = 1\n",
        "next_patient.m_serv_start = t_current\n",
        "next_patient.m_serv_end = t_current + np.random.exponential(mu)\n",
        "next_patient.m_event_type = \"DEPARTURE\"\n",
        "heapq.heappush(priorityQueue, (next_patient.m_serv_end, next_patient))"
      ],
      "metadata": {
        "id": "zj-us_lN60yn"
      },
      "execution_count": null,
      "outputs": []
    },
    {
      "cell_type": "code",
      "source": [
        "####################################################################################\n",
        "# Drop initial burn-in events\n",
        "burnin = 1000\n",
        "filtered_events = completed_events[burnin:]\n",
        "total_times = []\n",
        "wait_high = []\n",
        "wait_low = []\n",
        "for event in filtered_events:\n",
        "total_time = event.m_serv_end - event.m_time_arrive\n",
        "total_times.append(total_time)\n",
        "wait_time = event.m_serv_start - event.m_time_arrive\n",
        "if event.m_priority == \"HIGH\":\n",
        "wait_high.append(wait_time)\n",
        "else:\n",
        "wait_low.append(wait_time)"
      ],
      "metadata": {
        "id": "d79w1Ccn66DK"
      },
      "execution_count": null,
      "outputs": []
    },
    {
      "cell_type": "code",
      "source": [
        "# CI Calculations\n",
        "def print_ci(name, data):\n",
        "mean = np.mean(data)\n",
        "std = np.std(data) / np.sqrt(len(data))\n",
        "ci_low = mean - 1.96 * std\n",
        "ci_high = mean + 1.96 * std\n",
        "print(f\"95% CI for {name}: ({ci_low:.4f}, {ci_high:.4f})\")\n",
        "print_ci(\"total time in the system\", total_times)\n",
        "print_ci(\"average waiting time (HIGH priority)\", wait_high)\n",
        "print_ci(\"average waiting time (LOW priority)\", wait_low)"
      ],
      "metadata": {
        "id": "axDDaWx862-O"
      },
      "execution_count": null,
      "outputs": []
    },
    {
      "cell_type": "code",
      "source": [
        "# Plots\n",
        "plt.plot(time_arr, q_high_len, label=\"High-Priority Queue\")\n",
        "plt.plot(time_arr, q_low_len, label=\"Low-Priority Queue\")\n",
        "plt.xlabel(\"Time\")\n",
        "plt.ylabel(\"Queue Length\")\n",
        "plt.title(\"Queue Occupancy Over Time\")\n",
        "plt.legend()\n",
        "plt.grid(True)\n",
        "plt.show()"
      ],
      "metadata": {
        "id": "rCM2A9S562hm"
      },
      "execution_count": null,
      "outputs": []
    },
    {
      "cell_type": "markdown",
      "source": [
        "#id its mean then lmbda if its rate 1/rate"
      ],
      "metadata": {
        "id": "6lG5nSi39_p3"
      }
    },
    {
      "cell_type": "markdown",
      "source": [],
      "metadata": {
        "id": "dKN1caVv-D_J"
      }
    }
  ]
}